{
  "cells": [
    {
      "cell_type": "markdown",
      "metadata": {
        "id": "view-in-github",
        "colab_type": "text"
      },
      "source": [
        "<a href=\"https://colab.research.google.com/github/Ritu-01/NEW-EXAMPLE/blob/main/Copy_of_Module_2b_Decision_Tree_Classifier_Overfitting_Cleveland_dataset_CSC508.ipynb\" target=\"_parent\"><img src=\"https://colab.research.google.com/assets/colab-badge.svg\" alt=\"Open In Colab\"/></a>"
      ]
    },
    {
      "cell_type": "markdown",
      "metadata": {
        "id": "z7WqFNeW_z3y"
      },
      "source": [
        "## **Welcome to the module 2b coding part: Decision Tree Classifier and Overfitting!**\n",
        "\n",
        "*This notebook was originally created at San Francisco State University (SFSU) by Vaisakh Kusabhadran, Amisha Dhawan, Yuomi Zavaleta (all SFSU students) and Pleuni Pennings (SFSU bio professor).*\n",
        "\n",
        "*This notebook was edited for the Promoting INclusivity and Computing (PINC) and gSTAR programs by Dr. Pleuni Pennings, Lucy Moctezuma Tan and Lorena Benitez-Rivera (master students) all members of the COde to understand Drug resistance Evolution (CODE) lab at SFSU in 2023.*"
      ]
    },
    {
      "cell_type": "markdown",
      "metadata": {
        "id": "8C7-8DKKmCaK"
      },
      "source": [
        "#OBJECTIVE OF THIS NOTEBOOK:\n",
        "\n",
        "Now that we have learned how to make predictions using **Decision Trees**, we can take a look at what happens when we **overfit** or **underfit **our data.\n",
        "\n",
        "In this module we are going to continue using the 14 variables from the Cleveland dataset.\n",
        "\n",
        "Below we have a brief description of what each of the features we are going to use mean. The numbers next to the features are the ones that were used in the original dataset.\n",
        "\n",
        "<ul type = \"square\">\n",
        "<li> [1] #3 Age: age in years</li>\n",
        "<li> [2] #4 Sex: sex (1 = male; 0 = female)</li>\n",
        "<li> [3] #9 Chest_pain_type\n",
        "<ul>\n",
        "<li>Value 1: typical angina\n",
        "<li>Value 2: atypical angina\n",
        "<li>Value 3: non-anginal pain\n",
        "<li>Value 4: asymptomatic</li>\n",
        "</ul>\n",
        "<li> [4] #10 At_rest_bp: resting blood pressure (in mm Hg on admission to the hospital)</li>\n",
        "<li> [5] #12 Cholesterol: serum cholestoral in mg/dl </li>\n",
        "<li> [6] #16 Fast_blood_sug: (fasting blood sugar > 120 mg/dl) (1 = true; 0 = false)</li>\n",
        "<li> [7] #19 Rest_ecg: resting electrocardiographic results\n",
        "<ul>\n",
        "<li>Value 0: normal\n",
        "<li>Value 1: having ST-T wave abnormality (T wave inversions and/or ST elevation or depression of > 0.05 mV)\n",
        "<li>Value 2: showing probable or definite left ventricular hypertrophy by Estes' criteria</li>\n",
        "</ul>\n",
        "<li> [8] #32 Maxhr: thalach: maximum heart rate achieved</li>\n",
        "<li> [9] #38 Exer_angina: exang: exercise induced angina (1 = yes; 0 = no)</li>\n",
        "<li> [10] #40 Oldpeak: ST depression induced by exercise relative to rest </li>\n",
        "<li> [11] #41 Slope: the slope of the peak exercise ST segment\n",
        "<ul>\n",
        "<li> Value 1: upsloping</li>\n",
        "<li> Value 2: flat</li>\n",
        "<li> Value 3: downsloping</li>\n",
        "</ul>\n",
        "<li> [12] #44 Ca: number of major vessels (0-3) colored by flourosopy</li>\n",
        "<li> [13] #51 Thal: Thallium or stress test 3 = normal; 6 = fixed defect; 7 = reversable defect. See this\n",
        "<a href=\"https://www.healthline.com/health/thallium-stress-test\">website</a>\n",
        "for more info on the thallium or stress test.\n",
        "</li>\n",
        "<li> [14] #58 Diag: num: diagnosis of heart disease (angiographic disease status)\n",
        "<ul>\n",
        "<li>Value 0: no vessel with 50% diameter narrowing</li>\n",
        "<li>Value 1: one vessel with 50% diameter narrowing</li>\n",
        "<li>Value 2,3,4: 2,3,4 vessels with 50% diameter narrowing</li>\n",
        "</ul>\n",
        "</li>\n",
        "</ul>\n",
        "\n",
        "The **goal** of this notebook is to learn how overfitting works using the decision tree classifier model. I like decision trees because they are easier to understand than most other machine learning or statistical learning methods.\n",
        "\n",
        "Your mission is to run each cell, see what happens, and answer some questions based on the code.\n",
        "\n",
        "# Let's look at the Cleveland dataset again with a focus on **overfitting**."
      ]
    },
    {
      "cell_type": "markdown",
      "metadata": {
        "id": "VztpYoI9-950"
      },
      "source": [
        "#WHAT IS OVERFITTING?\n",
        "\n",
        "In machine learning it's important to train the models properly, not too much, not too little. For that reason, it's important to learn how to handle data that could be either overfitting or underfitting.\n",
        "\n",
        "![Underfitting_e_overfitting.png](\n",
        "https://upload.wikimedia.org/wikipedia/commons/d/d2/Underfitting_e_overfitting.png)\n",
        "\n",
        "**OVERFITTING**: is a undesirable machine learning behavior, where our model follows too closely our training data, meaning it learns to predict our training data very well but it fails to make accurate predictions for new data.\n",
        "\n",
        "**UNDERFITTING**: is a undesirable machine learning behavior, where our model\n",
        "does not get to learn enough from our training data, and therefore performs poorly when trying to make predictions for new data.\n",
        "\n",
        "What we actually want is somewhere in the middle, we want it to fit just right like a nice shoe! We dont want our shoes to be so loose that we could loose them while walking (underfit) or so perfectly close to the shape of our foot that it feels too tight to walk comfortably (overfit).\n",
        "\n",
        "You can find more information about overfitting and underfitting here: [Scikit-learn: Underfitting vs. Overfitting](https://scikit-learn.org/stable/auto_examples/model_selection/plot_underfitting_overfitting.html)"
      ]
    },
    {
      "cell_type": "markdown",
      "metadata": {
        "id": "PR77ZeZ0_jcF"
      },
      "source": [
        "## **Step 1) Importing packages**\n",
        "\n",
        "Here we importing all the necessary packages– we'll explain what they do later when we use them."
      ]
    },
    {
      "cell_type": "code",
      "execution_count": null,
      "metadata": {
        "id": "1ykwp-svEYtD"
      },
      "outputs": [],
      "source": [
        "# packages for data manipulation\n",
        "import pandas as pd\n",
        "import numpy as np\n",
        "\n",
        "# packages for creating the machine learning model\n",
        "from sklearn.tree import DecisionTreeClassifier\n",
        "from sklearn.model_selection import train_test_split\n",
        "from sklearn import metrics\n",
        "from sklearn import tree\n",
        "\n",
        "# packages for plotting\n",
        "import matplotlib.pyplot as plt\n",
        "import seaborn as sns\n",
        "import graphviz\n",
        "\n",
        "#hyperparameter tunning imports\n",
        "from sklearn.model_selection import validation_curve"
      ]
    },
    {
      "cell_type": "markdown",
      "metadata": {
        "id": "OmD5_IW8D_nR"
      },
      "source": [
        "##**Step 2) Importing Cleveland dataset**\n",
        "First, we fetch the dataset from the 508 class github repository and state what columns we are interested in. The data are stored in a pandas data frame called \"data\"."
      ]
    },
    {
      "cell_type": "code",
      "execution_count": null,
      "metadata": {
        "id": "YfNEx05xnAcK",
        "colab": {
          "base_uri": "https://localhost:8080/",
          "height": 206
        },
        "outputId": "ee664380-46e6-4f94-bce5-efcde75a11f9"
      },
      "outputs": [
        {
          "output_type": "execute_result",
          "data": {
            "text/plain": [
              "    Age  Sex  Chest_pain_type  At_rest_bp  Cholesterol  Fast_blood_sug  \\\n",
              "0  63.0  1.0              1.0       145.0        233.0             1.0   \n",
              "1  67.0  1.0              4.0       160.0        286.0             0.0   \n",
              "2  67.0  1.0              4.0       120.0        229.0             0.0   \n",
              "3  37.0  1.0              3.0       130.0        250.0             0.0   \n",
              "4  41.0  0.0              2.0       130.0        204.0             0.0   \n",
              "\n",
              "   Rest_ecg  Maxhr  Exer_angina  Oldpeak  Slope   Ca Thal  Diag  \n",
              "0       2.0  150.0          0.0      2.3    3.0  0.0  6.0     0  \n",
              "1       2.0  108.0          1.0      1.5    2.0  3.0  3.0     2  \n",
              "2       2.0  129.0          1.0      2.6    2.0  2.0  7.0     1  \n",
              "3       0.0  187.0          0.0      3.5    3.0  0.0  3.0     0  \n",
              "4       2.0  172.0          0.0      1.4    1.0  0.0  3.0     0  "
            ],
            "text/html": [
              "\n",
              "  <div id=\"df-eca31e0d-06c6-42b1-ba23-f250a39c5ad7\" class=\"colab-df-container\">\n",
              "    <div>\n",
              "<style scoped>\n",
              "    .dataframe tbody tr th:only-of-type {\n",
              "        vertical-align: middle;\n",
              "    }\n",
              "\n",
              "    .dataframe tbody tr th {\n",
              "        vertical-align: top;\n",
              "    }\n",
              "\n",
              "    .dataframe thead th {\n",
              "        text-align: right;\n",
              "    }\n",
              "</style>\n",
              "<table border=\"1\" class=\"dataframe\">\n",
              "  <thead>\n",
              "    <tr style=\"text-align: right;\">\n",
              "      <th></th>\n",
              "      <th>Age</th>\n",
              "      <th>Sex</th>\n",
              "      <th>Chest_pain_type</th>\n",
              "      <th>At_rest_bp</th>\n",
              "      <th>Cholesterol</th>\n",
              "      <th>Fast_blood_sug</th>\n",
              "      <th>Rest_ecg</th>\n",
              "      <th>Maxhr</th>\n",
              "      <th>Exer_angina</th>\n",
              "      <th>Oldpeak</th>\n",
              "      <th>Slope</th>\n",
              "      <th>Ca</th>\n",
              "      <th>Thal</th>\n",
              "      <th>Diag</th>\n",
              "    </tr>\n",
              "  </thead>\n",
              "  <tbody>\n",
              "    <tr>\n",
              "      <th>0</th>\n",
              "      <td>63.0</td>\n",
              "      <td>1.0</td>\n",
              "      <td>1.0</td>\n",
              "      <td>145.0</td>\n",
              "      <td>233.0</td>\n",
              "      <td>1.0</td>\n",
              "      <td>2.0</td>\n",
              "      <td>150.0</td>\n",
              "      <td>0.0</td>\n",
              "      <td>2.3</td>\n",
              "      <td>3.0</td>\n",
              "      <td>0.0</td>\n",
              "      <td>6.0</td>\n",
              "      <td>0</td>\n",
              "    </tr>\n",
              "    <tr>\n",
              "      <th>1</th>\n",
              "      <td>67.0</td>\n",
              "      <td>1.0</td>\n",
              "      <td>4.0</td>\n",
              "      <td>160.0</td>\n",
              "      <td>286.0</td>\n",
              "      <td>0.0</td>\n",
              "      <td>2.0</td>\n",
              "      <td>108.0</td>\n",
              "      <td>1.0</td>\n",
              "      <td>1.5</td>\n",
              "      <td>2.0</td>\n",
              "      <td>3.0</td>\n",
              "      <td>3.0</td>\n",
              "      <td>2</td>\n",
              "    </tr>\n",
              "    <tr>\n",
              "      <th>2</th>\n",
              "      <td>67.0</td>\n",
              "      <td>1.0</td>\n",
              "      <td>4.0</td>\n",
              "      <td>120.0</td>\n",
              "      <td>229.0</td>\n",
              "      <td>0.0</td>\n",
              "      <td>2.0</td>\n",
              "      <td>129.0</td>\n",
              "      <td>1.0</td>\n",
              "      <td>2.6</td>\n",
              "      <td>2.0</td>\n",
              "      <td>2.0</td>\n",
              "      <td>7.0</td>\n",
              "      <td>1</td>\n",
              "    </tr>\n",
              "    <tr>\n",
              "      <th>3</th>\n",
              "      <td>37.0</td>\n",
              "      <td>1.0</td>\n",
              "      <td>3.0</td>\n",
              "      <td>130.0</td>\n",
              "      <td>250.0</td>\n",
              "      <td>0.0</td>\n",
              "      <td>0.0</td>\n",
              "      <td>187.0</td>\n",
              "      <td>0.0</td>\n",
              "      <td>3.5</td>\n",
              "      <td>3.0</td>\n",
              "      <td>0.0</td>\n",
              "      <td>3.0</td>\n",
              "      <td>0</td>\n",
              "    </tr>\n",
              "    <tr>\n",
              "      <th>4</th>\n",
              "      <td>41.0</td>\n",
              "      <td>0.0</td>\n",
              "      <td>2.0</td>\n",
              "      <td>130.0</td>\n",
              "      <td>204.0</td>\n",
              "      <td>0.0</td>\n",
              "      <td>2.0</td>\n",
              "      <td>172.0</td>\n",
              "      <td>0.0</td>\n",
              "      <td>1.4</td>\n",
              "      <td>1.0</td>\n",
              "      <td>0.0</td>\n",
              "      <td>3.0</td>\n",
              "      <td>0</td>\n",
              "    </tr>\n",
              "  </tbody>\n",
              "</table>\n",
              "</div>\n",
              "    <div class=\"colab-df-buttons\">\n",
              "\n",
              "  <div class=\"colab-df-container\">\n",
              "    <button class=\"colab-df-convert\" onclick=\"convertToInteractive('df-eca31e0d-06c6-42b1-ba23-f250a39c5ad7')\"\n",
              "            title=\"Convert this dataframe to an interactive table.\"\n",
              "            style=\"display:none;\">\n",
              "\n",
              "  <svg xmlns=\"http://www.w3.org/2000/svg\" height=\"24px\" viewBox=\"0 -960 960 960\">\n",
              "    <path d=\"M120-120v-720h720v720H120Zm60-500h600v-160H180v160Zm220 220h160v-160H400v160Zm0 220h160v-160H400v160ZM180-400h160v-160H180v160Zm440 0h160v-160H620v160ZM180-180h160v-160H180v160Zm440 0h160v-160H620v160Z\"/>\n",
              "  </svg>\n",
              "    </button>\n",
              "\n",
              "  <style>\n",
              "    .colab-df-container {\n",
              "      display:flex;\n",
              "      gap: 12px;\n",
              "    }\n",
              "\n",
              "    .colab-df-convert {\n",
              "      background-color: #E8F0FE;\n",
              "      border: none;\n",
              "      border-radius: 50%;\n",
              "      cursor: pointer;\n",
              "      display: none;\n",
              "      fill: #1967D2;\n",
              "      height: 32px;\n",
              "      padding: 0 0 0 0;\n",
              "      width: 32px;\n",
              "    }\n",
              "\n",
              "    .colab-df-convert:hover {\n",
              "      background-color: #E2EBFA;\n",
              "      box-shadow: 0px 1px 2px rgba(60, 64, 67, 0.3), 0px 1px 3px 1px rgba(60, 64, 67, 0.15);\n",
              "      fill: #174EA6;\n",
              "    }\n",
              "\n",
              "    .colab-df-buttons div {\n",
              "      margin-bottom: 4px;\n",
              "    }\n",
              "\n",
              "    [theme=dark] .colab-df-convert {\n",
              "      background-color: #3B4455;\n",
              "      fill: #D2E3FC;\n",
              "    }\n",
              "\n",
              "    [theme=dark] .colab-df-convert:hover {\n",
              "      background-color: #434B5C;\n",
              "      box-shadow: 0px 1px 3px 1px rgba(0, 0, 0, 0.15);\n",
              "      filter: drop-shadow(0px 1px 2px rgba(0, 0, 0, 0.3));\n",
              "      fill: #FFFFFF;\n",
              "    }\n",
              "  </style>\n",
              "\n",
              "    <script>\n",
              "      const buttonEl =\n",
              "        document.querySelector('#df-eca31e0d-06c6-42b1-ba23-f250a39c5ad7 button.colab-df-convert');\n",
              "      buttonEl.style.display =\n",
              "        google.colab.kernel.accessAllowed ? 'block' : 'none';\n",
              "\n",
              "      async function convertToInteractive(key) {\n",
              "        const element = document.querySelector('#df-eca31e0d-06c6-42b1-ba23-f250a39c5ad7');\n",
              "        const dataTable =\n",
              "          await google.colab.kernel.invokeFunction('convertToInteractive',\n",
              "                                                    [key], {});\n",
              "        if (!dataTable) return;\n",
              "\n",
              "        const docLinkHtml = 'Like what you see? Visit the ' +\n",
              "          '<a target=\"_blank\" href=https://colab.research.google.com/notebooks/data_table.ipynb>data table notebook</a>'\n",
              "          + ' to learn more about interactive tables.';\n",
              "        element.innerHTML = '';\n",
              "        dataTable['output_type'] = 'display_data';\n",
              "        await google.colab.output.renderOutput(dataTable, element);\n",
              "        const docLink = document.createElement('div');\n",
              "        docLink.innerHTML = docLinkHtml;\n",
              "        element.appendChild(docLink);\n",
              "      }\n",
              "    </script>\n",
              "  </div>\n",
              "\n",
              "\n",
              "<div id=\"df-533a40ba-f6d4-4c51-b074-fda1dd0fed2d\">\n",
              "  <button class=\"colab-df-quickchart\" onclick=\"quickchart('df-533a40ba-f6d4-4c51-b074-fda1dd0fed2d')\"\n",
              "            title=\"Suggest charts.\"\n",
              "            style=\"display:none;\">\n",
              "\n",
              "<svg xmlns=\"http://www.w3.org/2000/svg\" height=\"24px\"viewBox=\"0 0 24 24\"\n",
              "     width=\"24px\">\n",
              "    <g>\n",
              "        <path d=\"M19 3H5c-1.1 0-2 .9-2 2v14c0 1.1.9 2 2 2h14c1.1 0 2-.9 2-2V5c0-1.1-.9-2-2-2zM9 17H7v-7h2v7zm4 0h-2V7h2v10zm4 0h-2v-4h2v4z\"/>\n",
              "    </g>\n",
              "</svg>\n",
              "  </button>\n",
              "\n",
              "<style>\n",
              "  .colab-df-quickchart {\n",
              "      --bg-color: #E8F0FE;\n",
              "      --fill-color: #1967D2;\n",
              "      --hover-bg-color: #E2EBFA;\n",
              "      --hover-fill-color: #174EA6;\n",
              "      --disabled-fill-color: #AAA;\n",
              "      --disabled-bg-color: #DDD;\n",
              "  }\n",
              "\n",
              "  [theme=dark] .colab-df-quickchart {\n",
              "      --bg-color: #3B4455;\n",
              "      --fill-color: #D2E3FC;\n",
              "      --hover-bg-color: #434B5C;\n",
              "      --hover-fill-color: #FFFFFF;\n",
              "      --disabled-bg-color: #3B4455;\n",
              "      --disabled-fill-color: #666;\n",
              "  }\n",
              "\n",
              "  .colab-df-quickchart {\n",
              "    background-color: var(--bg-color);\n",
              "    border: none;\n",
              "    border-radius: 50%;\n",
              "    cursor: pointer;\n",
              "    display: none;\n",
              "    fill: var(--fill-color);\n",
              "    height: 32px;\n",
              "    padding: 0;\n",
              "    width: 32px;\n",
              "  }\n",
              "\n",
              "  .colab-df-quickchart:hover {\n",
              "    background-color: var(--hover-bg-color);\n",
              "    box-shadow: 0 1px 2px rgba(60, 64, 67, 0.3), 0 1px 3px 1px rgba(60, 64, 67, 0.15);\n",
              "    fill: var(--button-hover-fill-color);\n",
              "  }\n",
              "\n",
              "  .colab-df-quickchart-complete:disabled,\n",
              "  .colab-df-quickchart-complete:disabled:hover {\n",
              "    background-color: var(--disabled-bg-color);\n",
              "    fill: var(--disabled-fill-color);\n",
              "    box-shadow: none;\n",
              "  }\n",
              "\n",
              "  .colab-df-spinner {\n",
              "    border: 2px solid var(--fill-color);\n",
              "    border-color: transparent;\n",
              "    border-bottom-color: var(--fill-color);\n",
              "    animation:\n",
              "      spin 1s steps(1) infinite;\n",
              "  }\n",
              "\n",
              "  @keyframes spin {\n",
              "    0% {\n",
              "      border-color: transparent;\n",
              "      border-bottom-color: var(--fill-color);\n",
              "      border-left-color: var(--fill-color);\n",
              "    }\n",
              "    20% {\n",
              "      border-color: transparent;\n",
              "      border-left-color: var(--fill-color);\n",
              "      border-top-color: var(--fill-color);\n",
              "    }\n",
              "    30% {\n",
              "      border-color: transparent;\n",
              "      border-left-color: var(--fill-color);\n",
              "      border-top-color: var(--fill-color);\n",
              "      border-right-color: var(--fill-color);\n",
              "    }\n",
              "    40% {\n",
              "      border-color: transparent;\n",
              "      border-right-color: var(--fill-color);\n",
              "      border-top-color: var(--fill-color);\n",
              "    }\n",
              "    60% {\n",
              "      border-color: transparent;\n",
              "      border-right-color: var(--fill-color);\n",
              "    }\n",
              "    80% {\n",
              "      border-color: transparent;\n",
              "      border-right-color: var(--fill-color);\n",
              "      border-bottom-color: var(--fill-color);\n",
              "    }\n",
              "    90% {\n",
              "      border-color: transparent;\n",
              "      border-bottom-color: var(--fill-color);\n",
              "    }\n",
              "  }\n",
              "</style>\n",
              "\n",
              "  <script>\n",
              "    async function quickchart(key) {\n",
              "      const quickchartButtonEl =\n",
              "        document.querySelector('#' + key + ' button');\n",
              "      quickchartButtonEl.disabled = true;  // To prevent multiple clicks.\n",
              "      quickchartButtonEl.classList.add('colab-df-spinner');\n",
              "      try {\n",
              "        const charts = await google.colab.kernel.invokeFunction(\n",
              "            'suggestCharts', [key], {});\n",
              "      } catch (error) {\n",
              "        console.error('Error during call to suggestCharts:', error);\n",
              "      }\n",
              "      quickchartButtonEl.classList.remove('colab-df-spinner');\n",
              "      quickchartButtonEl.classList.add('colab-df-quickchart-complete');\n",
              "    }\n",
              "    (() => {\n",
              "      let quickchartButtonEl =\n",
              "        document.querySelector('#df-533a40ba-f6d4-4c51-b074-fda1dd0fed2d button');\n",
              "      quickchartButtonEl.style.display =\n",
              "        google.colab.kernel.accessAllowed ? 'block' : 'none';\n",
              "    })();\n",
              "  </script>\n",
              "</div>\n",
              "    </div>\n",
              "  </div>\n"
            ]
          },
          "metadata": {},
          "execution_count": 11
        }
      ],
      "source": [
        "# Loading our dataset again from github\n",
        "columns = [\"Age\",\"Sex\",\"Chest_pain_type\",\"At_rest_bp\",\"Cholesterol\",\"Fast_blood_sug\",\"Rest_ecg\",\"Maxhr\",\"Exer_angina\",\"Oldpeak\",\"Slope\",\"Ca\",\"Thal\",\"Diag\"]\n",
        "data = pd.read_csv('https://raw.githubusercontent.com/pleunipennings/CSC508Data/main/processed.cleveland.data.txt',header=None,names=columns )\n",
        "data.head()"
      ]
    },
    {
      "cell_type": "markdown",
      "metadata": {
        "id": "xLrZ0CFOAoD6"
      },
      "source": [
        "##**Step 3) Dealing with missing data**\n",
        "Next, we are going to do some work to deal with the missing data. Note that every dataset encodes **Missing values** differently, which is why it is a good idea sometimes to check exactly how missing values were encoded either from your data source, looking at the documentation about the data, etc.\n",
        "\n",
        "In this case our dataset missing values, were encoded with a **\"question mark (?)\"**. Identify the columns having missing values\n"
      ]
    },
    {
      "cell_type": "markdown",
      "metadata": {
        "id": "cImVL7v-FJAn"
      },
      "source": [
        "### **Task 1:** Checking for missing data (Questions 1-3)"
      ]
    },
    {
      "cell_type": "markdown",
      "metadata": {
        "id": "vW8GlfhJS_fu"
      },
      "source": [
        "### **Question 1:**\n",
        "\n",
        "Is there missing data in the dataset, if so, how can you check that?\n",
        "\n",
        "Which are the variables that have missing data?"
      ]
    },
    {
      "cell_type": "code",
      "execution_count": null,
      "metadata": {
        "id": "1tb730HITjgx",
        "colab": {
          "base_uri": "https://localhost:8080/"
        },
        "outputId": "7466bc17-e311-4e67-85bd-2116579bc61b"
      },
      "outputs": [
        {
          "output_type": "execute_result",
          "data": {
            "text/plain": [
              "Age                0\n",
              "Sex                0\n",
              "Chest_pain_type    0\n",
              "At_rest_bp         0\n",
              "Cholesterol        0\n",
              "Fast_blood_sug     0\n",
              "Rest_ecg           0\n",
              "Maxhr              0\n",
              "Exer_angina        0\n",
              "Oldpeak            0\n",
              "Slope              0\n",
              "Ca                 4\n",
              "Thal               2\n",
              "Diag               0\n",
              "dtype: int64"
            ]
          },
          "metadata": {},
          "execution_count": 12
        }
      ],
      "source": [
        "#Code line to answer question 1\n",
        "(data=='?').sum()"
      ]
    },
    {
      "cell_type": "markdown",
      "metadata": {
        "id": "GYHItZEPTah7"
      },
      "source": [
        "**Question 1 answer:**\n",
        "Yes, there is missing data in the dataset. We can check that using the above code.\n",
        "The above code adds the amount of '?' from each feature. Looking at the sum of each featues we found Ca = 4 and Thal = 2 which means Ca has 4 missing data and Thal has 2 missing data.\n",
        "This shows that Ca and Thal are the missing data in the dataset."
      ]
    },
    {
      "cell_type": "markdown",
      "metadata": {
        "id": "kuIfTBq8UO3d"
      },
      "source": [
        "### **Question 2:**\n",
        "\n",
        "How can you display the missing values location?"
      ]
    },
    {
      "cell_type": "code",
      "execution_count": null,
      "metadata": {
        "id": "VaYqLeYsUmFT",
        "colab": {
          "base_uri": "https://localhost:8080/",
          "height": 238
        },
        "outputId": "b8f63bde-553f-4189-bc67-b20df4b23ea8"
      },
      "outputs": [
        {
          "output_type": "execute_result",
          "data": {
            "text/plain": [
              "      Age  Sex  Chest_pain_type  At_rest_bp  Cholesterol  Fast_blood_sug  \\\n",
              "87   53.0  0.0              3.0       128.0        216.0             0.0   \n",
              "166  52.0  1.0              3.0       138.0        223.0             0.0   \n",
              "192  43.0  1.0              4.0       132.0        247.0             1.0   \n",
              "266  52.0  1.0              4.0       128.0        204.0             1.0   \n",
              "287  58.0  1.0              2.0       125.0        220.0             0.0   \n",
              "302  38.0  1.0              3.0       138.0        175.0             0.0   \n",
              "\n",
              "     Rest_ecg  Maxhr  Exer_angina  Oldpeak  Slope   Ca Thal  Diag  \n",
              "87        2.0  115.0          0.0      0.0    1.0  0.0    ?     0  \n",
              "166       0.0  169.0          0.0      0.0    1.0    ?  3.0     0  \n",
              "192       2.0  143.0          1.0      0.1    2.0    ?  7.0     1  \n",
              "266       0.0  156.0          1.0      1.0    2.0  0.0    ?     2  \n",
              "287       0.0  144.0          0.0      0.4    2.0    ?  7.0     0  \n",
              "302       0.0  173.0          0.0      0.0    1.0    ?  3.0     0  "
            ],
            "text/html": [
              "\n",
              "  <div id=\"df-4c97c553-ca13-4d5e-ba5a-14932dc5f28c\" class=\"colab-df-container\">\n",
              "    <div>\n",
              "<style scoped>\n",
              "    .dataframe tbody tr th:only-of-type {\n",
              "        vertical-align: middle;\n",
              "    }\n",
              "\n",
              "    .dataframe tbody tr th {\n",
              "        vertical-align: top;\n",
              "    }\n",
              "\n",
              "    .dataframe thead th {\n",
              "        text-align: right;\n",
              "    }\n",
              "</style>\n",
              "<table border=\"1\" class=\"dataframe\">\n",
              "  <thead>\n",
              "    <tr style=\"text-align: right;\">\n",
              "      <th></th>\n",
              "      <th>Age</th>\n",
              "      <th>Sex</th>\n",
              "      <th>Chest_pain_type</th>\n",
              "      <th>At_rest_bp</th>\n",
              "      <th>Cholesterol</th>\n",
              "      <th>Fast_blood_sug</th>\n",
              "      <th>Rest_ecg</th>\n",
              "      <th>Maxhr</th>\n",
              "      <th>Exer_angina</th>\n",
              "      <th>Oldpeak</th>\n",
              "      <th>Slope</th>\n",
              "      <th>Ca</th>\n",
              "      <th>Thal</th>\n",
              "      <th>Diag</th>\n",
              "    </tr>\n",
              "  </thead>\n",
              "  <tbody>\n",
              "    <tr>\n",
              "      <th>87</th>\n",
              "      <td>53.0</td>\n",
              "      <td>0.0</td>\n",
              "      <td>3.0</td>\n",
              "      <td>128.0</td>\n",
              "      <td>216.0</td>\n",
              "      <td>0.0</td>\n",
              "      <td>2.0</td>\n",
              "      <td>115.0</td>\n",
              "      <td>0.0</td>\n",
              "      <td>0.0</td>\n",
              "      <td>1.0</td>\n",
              "      <td>0.0</td>\n",
              "      <td>?</td>\n",
              "      <td>0</td>\n",
              "    </tr>\n",
              "    <tr>\n",
              "      <th>166</th>\n",
              "      <td>52.0</td>\n",
              "      <td>1.0</td>\n",
              "      <td>3.0</td>\n",
              "      <td>138.0</td>\n",
              "      <td>223.0</td>\n",
              "      <td>0.0</td>\n",
              "      <td>0.0</td>\n",
              "      <td>169.0</td>\n",
              "      <td>0.0</td>\n",
              "      <td>0.0</td>\n",
              "      <td>1.0</td>\n",
              "      <td>?</td>\n",
              "      <td>3.0</td>\n",
              "      <td>0</td>\n",
              "    </tr>\n",
              "    <tr>\n",
              "      <th>192</th>\n",
              "      <td>43.0</td>\n",
              "      <td>1.0</td>\n",
              "      <td>4.0</td>\n",
              "      <td>132.0</td>\n",
              "      <td>247.0</td>\n",
              "      <td>1.0</td>\n",
              "      <td>2.0</td>\n",
              "      <td>143.0</td>\n",
              "      <td>1.0</td>\n",
              "      <td>0.1</td>\n",
              "      <td>2.0</td>\n",
              "      <td>?</td>\n",
              "      <td>7.0</td>\n",
              "      <td>1</td>\n",
              "    </tr>\n",
              "    <tr>\n",
              "      <th>266</th>\n",
              "      <td>52.0</td>\n",
              "      <td>1.0</td>\n",
              "      <td>4.0</td>\n",
              "      <td>128.0</td>\n",
              "      <td>204.0</td>\n",
              "      <td>1.0</td>\n",
              "      <td>0.0</td>\n",
              "      <td>156.0</td>\n",
              "      <td>1.0</td>\n",
              "      <td>1.0</td>\n",
              "      <td>2.0</td>\n",
              "      <td>0.0</td>\n",
              "      <td>?</td>\n",
              "      <td>2</td>\n",
              "    </tr>\n",
              "    <tr>\n",
              "      <th>287</th>\n",
              "      <td>58.0</td>\n",
              "      <td>1.0</td>\n",
              "      <td>2.0</td>\n",
              "      <td>125.0</td>\n",
              "      <td>220.0</td>\n",
              "      <td>0.0</td>\n",
              "      <td>0.0</td>\n",
              "      <td>144.0</td>\n",
              "      <td>0.0</td>\n",
              "      <td>0.4</td>\n",
              "      <td>2.0</td>\n",
              "      <td>?</td>\n",
              "      <td>7.0</td>\n",
              "      <td>0</td>\n",
              "    </tr>\n",
              "    <tr>\n",
              "      <th>302</th>\n",
              "      <td>38.0</td>\n",
              "      <td>1.0</td>\n",
              "      <td>3.0</td>\n",
              "      <td>138.0</td>\n",
              "      <td>175.0</td>\n",
              "      <td>0.0</td>\n",
              "      <td>0.0</td>\n",
              "      <td>173.0</td>\n",
              "      <td>0.0</td>\n",
              "      <td>0.0</td>\n",
              "      <td>1.0</td>\n",
              "      <td>?</td>\n",
              "      <td>3.0</td>\n",
              "      <td>0</td>\n",
              "    </tr>\n",
              "  </tbody>\n",
              "</table>\n",
              "</div>\n",
              "    <div class=\"colab-df-buttons\">\n",
              "\n",
              "  <div class=\"colab-df-container\">\n",
              "    <button class=\"colab-df-convert\" onclick=\"convertToInteractive('df-4c97c553-ca13-4d5e-ba5a-14932dc5f28c')\"\n",
              "            title=\"Convert this dataframe to an interactive table.\"\n",
              "            style=\"display:none;\">\n",
              "\n",
              "  <svg xmlns=\"http://www.w3.org/2000/svg\" height=\"24px\" viewBox=\"0 -960 960 960\">\n",
              "    <path d=\"M120-120v-720h720v720H120Zm60-500h600v-160H180v160Zm220 220h160v-160H400v160Zm0 220h160v-160H400v160ZM180-400h160v-160H180v160Zm440 0h160v-160H620v160ZM180-180h160v-160H180v160Zm440 0h160v-160H620v160Z\"/>\n",
              "  </svg>\n",
              "    </button>\n",
              "\n",
              "  <style>\n",
              "    .colab-df-container {\n",
              "      display:flex;\n",
              "      gap: 12px;\n",
              "    }\n",
              "\n",
              "    .colab-df-convert {\n",
              "      background-color: #E8F0FE;\n",
              "      border: none;\n",
              "      border-radius: 50%;\n",
              "      cursor: pointer;\n",
              "      display: none;\n",
              "      fill: #1967D2;\n",
              "      height: 32px;\n",
              "      padding: 0 0 0 0;\n",
              "      width: 32px;\n",
              "    }\n",
              "\n",
              "    .colab-df-convert:hover {\n",
              "      background-color: #E2EBFA;\n",
              "      box-shadow: 0px 1px 2px rgba(60, 64, 67, 0.3), 0px 1px 3px 1px rgba(60, 64, 67, 0.15);\n",
              "      fill: #174EA6;\n",
              "    }\n",
              "\n",
              "    .colab-df-buttons div {\n",
              "      margin-bottom: 4px;\n",
              "    }\n",
              "\n",
              "    [theme=dark] .colab-df-convert {\n",
              "      background-color: #3B4455;\n",
              "      fill: #D2E3FC;\n",
              "    }\n",
              "\n",
              "    [theme=dark] .colab-df-convert:hover {\n",
              "      background-color: #434B5C;\n",
              "      box-shadow: 0px 1px 3px 1px rgba(0, 0, 0, 0.15);\n",
              "      filter: drop-shadow(0px 1px 2px rgba(0, 0, 0, 0.3));\n",
              "      fill: #FFFFFF;\n",
              "    }\n",
              "  </style>\n",
              "\n",
              "    <script>\n",
              "      const buttonEl =\n",
              "        document.querySelector('#df-4c97c553-ca13-4d5e-ba5a-14932dc5f28c button.colab-df-convert');\n",
              "      buttonEl.style.display =\n",
              "        google.colab.kernel.accessAllowed ? 'block' : 'none';\n",
              "\n",
              "      async function convertToInteractive(key) {\n",
              "        const element = document.querySelector('#df-4c97c553-ca13-4d5e-ba5a-14932dc5f28c');\n",
              "        const dataTable =\n",
              "          await google.colab.kernel.invokeFunction('convertToInteractive',\n",
              "                                                    [key], {});\n",
              "        if (!dataTable) return;\n",
              "\n",
              "        const docLinkHtml = 'Like what you see? Visit the ' +\n",
              "          '<a target=\"_blank\" href=https://colab.research.google.com/notebooks/data_table.ipynb>data table notebook</a>'\n",
              "          + ' to learn more about interactive tables.';\n",
              "        element.innerHTML = '';\n",
              "        dataTable['output_type'] = 'display_data';\n",
              "        await google.colab.output.renderOutput(dataTable, element);\n",
              "        const docLink = document.createElement('div');\n",
              "        docLink.innerHTML = docLinkHtml;\n",
              "        element.appendChild(docLink);\n",
              "      }\n",
              "    </script>\n",
              "  </div>\n",
              "\n",
              "\n",
              "<div id=\"df-67688318-1adc-40d1-9818-110fa18587ca\">\n",
              "  <button class=\"colab-df-quickchart\" onclick=\"quickchart('df-67688318-1adc-40d1-9818-110fa18587ca')\"\n",
              "            title=\"Suggest charts.\"\n",
              "            style=\"display:none;\">\n",
              "\n",
              "<svg xmlns=\"http://www.w3.org/2000/svg\" height=\"24px\"viewBox=\"0 0 24 24\"\n",
              "     width=\"24px\">\n",
              "    <g>\n",
              "        <path d=\"M19 3H5c-1.1 0-2 .9-2 2v14c0 1.1.9 2 2 2h14c1.1 0 2-.9 2-2V5c0-1.1-.9-2-2-2zM9 17H7v-7h2v7zm4 0h-2V7h2v10zm4 0h-2v-4h2v4z\"/>\n",
              "    </g>\n",
              "</svg>\n",
              "  </button>\n",
              "\n",
              "<style>\n",
              "  .colab-df-quickchart {\n",
              "      --bg-color: #E8F0FE;\n",
              "      --fill-color: #1967D2;\n",
              "      --hover-bg-color: #E2EBFA;\n",
              "      --hover-fill-color: #174EA6;\n",
              "      --disabled-fill-color: #AAA;\n",
              "      --disabled-bg-color: #DDD;\n",
              "  }\n",
              "\n",
              "  [theme=dark] .colab-df-quickchart {\n",
              "      --bg-color: #3B4455;\n",
              "      --fill-color: #D2E3FC;\n",
              "      --hover-bg-color: #434B5C;\n",
              "      --hover-fill-color: #FFFFFF;\n",
              "      --disabled-bg-color: #3B4455;\n",
              "      --disabled-fill-color: #666;\n",
              "  }\n",
              "\n",
              "  .colab-df-quickchart {\n",
              "    background-color: var(--bg-color);\n",
              "    border: none;\n",
              "    border-radius: 50%;\n",
              "    cursor: pointer;\n",
              "    display: none;\n",
              "    fill: var(--fill-color);\n",
              "    height: 32px;\n",
              "    padding: 0;\n",
              "    width: 32px;\n",
              "  }\n",
              "\n",
              "  .colab-df-quickchart:hover {\n",
              "    background-color: var(--hover-bg-color);\n",
              "    box-shadow: 0 1px 2px rgba(60, 64, 67, 0.3), 0 1px 3px 1px rgba(60, 64, 67, 0.15);\n",
              "    fill: var(--button-hover-fill-color);\n",
              "  }\n",
              "\n",
              "  .colab-df-quickchart-complete:disabled,\n",
              "  .colab-df-quickchart-complete:disabled:hover {\n",
              "    background-color: var(--disabled-bg-color);\n",
              "    fill: var(--disabled-fill-color);\n",
              "    box-shadow: none;\n",
              "  }\n",
              "\n",
              "  .colab-df-spinner {\n",
              "    border: 2px solid var(--fill-color);\n",
              "    border-color: transparent;\n",
              "    border-bottom-color: var(--fill-color);\n",
              "    animation:\n",
              "      spin 1s steps(1) infinite;\n",
              "  }\n",
              "\n",
              "  @keyframes spin {\n",
              "    0% {\n",
              "      border-color: transparent;\n",
              "      border-bottom-color: var(--fill-color);\n",
              "      border-left-color: var(--fill-color);\n",
              "    }\n",
              "    20% {\n",
              "      border-color: transparent;\n",
              "      border-left-color: var(--fill-color);\n",
              "      border-top-color: var(--fill-color);\n",
              "    }\n",
              "    30% {\n",
              "      border-color: transparent;\n",
              "      border-left-color: var(--fill-color);\n",
              "      border-top-color: var(--fill-color);\n",
              "      border-right-color: var(--fill-color);\n",
              "    }\n",
              "    40% {\n",
              "      border-color: transparent;\n",
              "      border-right-color: var(--fill-color);\n",
              "      border-top-color: var(--fill-color);\n",
              "    }\n",
              "    60% {\n",
              "      border-color: transparent;\n",
              "      border-right-color: var(--fill-color);\n",
              "    }\n",
              "    80% {\n",
              "      border-color: transparent;\n",
              "      border-right-color: var(--fill-color);\n",
              "      border-bottom-color: var(--fill-color);\n",
              "    }\n",
              "    90% {\n",
              "      border-color: transparent;\n",
              "      border-bottom-color: var(--fill-color);\n",
              "    }\n",
              "  }\n",
              "</style>\n",
              "\n",
              "  <script>\n",
              "    async function quickchart(key) {\n",
              "      const quickchartButtonEl =\n",
              "        document.querySelector('#' + key + ' button');\n",
              "      quickchartButtonEl.disabled = true;  // To prevent multiple clicks.\n",
              "      quickchartButtonEl.classList.add('colab-df-spinner');\n",
              "      try {\n",
              "        const charts = await google.colab.kernel.invokeFunction(\n",
              "            'suggestCharts', [key], {});\n",
              "      } catch (error) {\n",
              "        console.error('Error during call to suggestCharts:', error);\n",
              "      }\n",
              "      quickchartButtonEl.classList.remove('colab-df-spinner');\n",
              "      quickchartButtonEl.classList.add('colab-df-quickchart-complete');\n",
              "    }\n",
              "    (() => {\n",
              "      let quickchartButtonEl =\n",
              "        document.querySelector('#df-67688318-1adc-40d1-9818-110fa18587ca button');\n",
              "      quickchartButtonEl.style.display =\n",
              "        google.colab.kernel.accessAllowed ? 'block' : 'none';\n",
              "    })();\n",
              "  </script>\n",
              "</div>\n",
              "    </div>\n",
              "  </div>\n"
            ]
          },
          "metadata": {},
          "execution_count": 13
        }
      ],
      "source": [
        "#Code line to answer question 2\n",
        "missing_values = data.loc[(data['Thal'] == \"?\") | (data['Ca'] == \"?\")]\n",
        "missing_values\n"
      ]
    },
    {
      "cell_type": "markdown",
      "metadata": {
        "id": "kifmuCEgUpjs"
      },
      "source": [
        "**Question 2 answer:**\n",
        "We can display missing values using the above code which replaces the missing data with '?'."
      ]
    },
    {
      "cell_type": "markdown",
      "metadata": {
        "id": "e4fc7M3qLbd8"
      },
      "source": [
        "Dealing with missing data, by replacing all missing values with the medians of the feature column.\n"
      ]
    },
    {
      "cell_type": "code",
      "execution_count": null,
      "metadata": {
        "id": "ciJjEafrHVb3"
      },
      "outputs": [],
      "source": [
        "# Replacing all the missing data with the median\n",
        "data = data.replace('?', np.nan)\n",
        "data['Thal'] = data['Thal'].fillna(data['Thal'].median())\n",
        "data['Ca'] = data['Ca'].fillna(data['Ca'].median())"
      ]
    },
    {
      "cell_type": "markdown",
      "metadata": {
        "id": "PTIYQDLgI3oG"
      },
      "source": [
        "### **Question 3:**\n",
        "\n",
        "How can you verify that there is not missing values?"
      ]
    },
    {
      "cell_type": "code",
      "execution_count": null,
      "metadata": {
        "id": "lXfyJ1V0JwDt",
        "colab": {
          "base_uri": "https://localhost:8080/"
        },
        "outputId": "64f3b4d6-b581-4fdc-8ed8-5004a2e8a9f3"
      },
      "outputs": [
        {
          "output_type": "execute_result",
          "data": {
            "text/plain": [
              "Age                0\n",
              "Sex                0\n",
              "Chest_pain_type    0\n",
              "At_rest_bp         0\n",
              "Cholesterol        0\n",
              "Fast_blood_sug     0\n",
              "Rest_ecg           0\n",
              "Maxhr              0\n",
              "Exer_angina        0\n",
              "Oldpeak            0\n",
              "Slope              0\n",
              "Ca                 0\n",
              "Thal               0\n",
              "Diag               0\n",
              "dtype: int64"
            ]
          },
          "metadata": {},
          "execution_count": 15
        }
      ],
      "source": [
        "#Code line to answer question 3\n",
        "(data==np.nan).sum()"
      ]
    },
    {
      "cell_type": "markdown",
      "metadata": {
        "id": "cyDMfNCWCT2-"
      },
      "source": [
        "**Question 3 answer:**\n",
        "The above code shows that all the features being 0 which means there is not any missing values."
      ]
    },
    {
      "cell_type": "markdown",
      "metadata": {
        "id": "b-kIkau_Lzwi"
      },
      "source": [
        "###**Task 2:** Understanding how machine learning models work (Questions 4-8)"
      ]
    },
    {
      "cell_type": "markdown",
      "metadata": {
        "id": "JzMYdHxRo682"
      },
      "source": [
        "### **Question 4:**\n",
        "\n",
        "Write a list of the five basic steps there are before start training a machine learning model:\n",
        "\n",
        "\n"
      ]
    },
    {
      "cell_type": "markdown",
      "metadata": {
        "id": "-ztg-OHQTbWC"
      },
      "source": [
        "**Question 4 answer:**\n",
        "\n",
        "1.   Importing the dataset\n",
        "2.   Splitting dataset to training and testing dataset\n",
        "3.   Model Selection\n",
        "4.   Cross-Validation\n",
        "5.   Documentation\n",
        "\n",
        "\n",
        "\n",
        "\n",
        "\n",
        "\n"
      ]
    },
    {
      "cell_type": "markdown",
      "metadata": {
        "id": "t0NmCQRT9l6x"
      },
      "source": [
        "## **Step 4)** **Splitting target and features**\n",
        "Next we will separate our target variable from our features (variables used for predictions).\n",
        "\n",
        "**NOTE:** We want to take the \"Diag\" column out of the features dataframe, because it is actually not a feature (in our analysis) but it is the \"target\"\n",
        "**Target** – what we want to predict."
      ]
    },
    {
      "cell_type": "code",
      "execution_count": null,
      "metadata": {
        "id": "AIMYd1id4NCS"
      },
      "outputs": [],
      "source": [
        "# specifying target variable or label\n",
        "labels = np.array(data[\"Diag\"])\n",
        "\n",
        "#Specifying feature variables\n",
        "features = data.drop(columns='Diag')\n",
        "features = features.astype('float64')\n",
        "feats = np.array(features)\n",
        "\n",
        "# For brevity we will rename them as X(features) and y(label)\n",
        "X = features\n",
        "y = labels"
      ]
    },
    {
      "cell_type": "markdown",
      "metadata": {
        "id": "CnoHyQOFvNNy"
      },
      "source": [
        "Next, we are converting the labels (stored in variable y) to binary values so that the model is trained just to predict the presence/absence of heart disease. All the values that are 1 or higher will just be 1 from here on. Recall that:\n",
        "\n",
        "- **[0]** means no vessel with 50% diameter narrowing (No Heart Disease)\n",
        "- **[1]** means one or more vessels with 50% diameter narrowing (Heart Disease)"
      ]
    },
    {
      "cell_type": "code",
      "execution_count": null,
      "metadata": {
        "id": "XE0eZtynrvpq"
      },
      "outputs": [],
      "source": [
        "# converting our target variable into 1 and 0\n",
        "y = np.where(y >= 1,1,0)"
      ]
    },
    {
      "cell_type": "markdown",
      "metadata": {
        "id": "HSAcrM0BdMNi"
      },
      "source": [
        "### **Question 5:**\n",
        "\n",
        "Why did we need to change the label to [0] no heart disease and [1] heart disease for this Decision Tree Classifier model dataset?\n",
        "\n",
        "\n"
      ]
    },
    {
      "cell_type": "markdown",
      "metadata": {
        "id": "KwqewvBMZapj"
      },
      "source": [
        "**Question 5 answer:**\n",
        " We need to change the labels 0 for no heart disease and 1 for heart disease because the model is trained just to predict the presence/absence of heart disease."
      ]
    },
    {
      "cell_type": "markdown",
      "metadata": {
        "id": "ct6PZxP1Bk96"
      },
      "source": [
        "## **Step 5) Separating train and test data**\n"
      ]
    },
    {
      "cell_type": "code",
      "execution_count": null,
      "metadata": {
        "id": "ZfXuHyXuFKUn"
      },
      "outputs": [],
      "source": [
        "X_train, X_test, y_train, y_test = train_test_split(X, y, test_size=0.3, random_state=2) # 70% training and 30% test"
      ]
    },
    {
      "cell_type": "markdown",
      "metadata": {
        "id": "nuYdf6Wpz81N"
      },
      "source": [
        "Up until now we have only reviewed what we have already done in the first part of the Notebook [Module 2a](https://colab.research.google.com/drive/1_c9LmAqNGwG2EBFSGCVpv5CzG6lOz29U?usp=share_link)\n",
        "\n",
        "Now we are going observe differences in fitting our tree when we change the **max_deph** argument."
      ]
    },
    {
      "cell_type": "markdown",
      "metadata": {
        "id": "zNCNn4YvZh3C"
      },
      "source": [
        "### **Question 6:**\n",
        "\n",
        "Why do we use more percentage for training?\n",
        "\n"
      ]
    },
    {
      "cell_type": "markdown",
      "metadata": {
        "id": "dWRmxVb6ZWMV"
      },
      "source": [
        "**Question 6 answer:**\n",
        "We use more percentage for training because it helps the model to learn different patterns of the dataset and also helps prevent the model from memorizing."
      ]
    },
    {
      "cell_type": "markdown",
      "metadata": {
        "id": "Z5_8uK48f9k3"
      },
      "source": [
        "### **Question 7:**\n",
        "\n",
        "Why do we use less percentage for testing?\n",
        "\n",
        "\n"
      ]
    },
    {
      "cell_type": "markdown",
      "metadata": {
        "id": "pYugLvxsf_1L"
      },
      "source": [
        "**Question 7 answer:**\n",
        "We use less percentage for testing because testing is used to evaluate the model's performance and large data is not required for doing it."
      ]
    },
    {
      "cell_type": "markdown",
      "metadata": {
        "id": "sGswTOTSYQEv"
      },
      "source": [
        "### **Question 8:**\n",
        "\n",
        "When we split the data into training and testing, does that mean that we start training from there, why or why not?\n",
        "\n",
        "\n"
      ]
    },
    {
      "cell_type": "markdown",
      "metadata": {
        "id": "gSVXxthueP4V"
      },
      "source": [
        "**Question 8 answer:**\n",
        "No,when we split the data into training and testing, it doesn't mean that we start training from there because it should go through the process of choosing a relevant model according to the task which helps in determining the output we get after running a machine learning algorithm"
      ]
    },
    {
      "cell_type": "markdown",
      "metadata": {
        "id": "W7uUF2kthtnq"
      },
      "source": [
        "## **Step 6) Making the decision tree and making predictions with it**\n"
      ]
    },
    {
      "cell_type": "markdown",
      "metadata": {
        "id": "4MQXYqVVjz34"
      },
      "source": [
        "###**Task 3:** Testing underfitted and overfitted decision trees (Questions 9-12)"
      ]
    },
    {
      "cell_type": "markdown",
      "metadata": {
        "id": "RDtyO4uOrZid"
      },
      "source": [
        "\n",
        "\n",
        "\n",
        "#Underfitted Decision Tree\n",
        "\n",
        "Here we will create a Decision Tree that is only 2 layers deep. Just as before we will create it, train it and graph it. Later we will compare how our tree performs by making predictions for the training data as well as for the testing data.  \n"
      ]
    },
    {
      "cell_type": "code",
      "execution_count": null,
      "metadata": {
        "id": "A4A3mvK8FMmR"
      },
      "outputs": [],
      "source": [
        "# Create Decision Tree classifer object\n",
        "clf_under = DecisionTreeClassifier(max_depth=2, random_state=2)\n",
        "\n",
        "# Train Decision Tree Classifer\n",
        "clf_under = clf_under.fit(X_train,y_train)"
      ]
    },
    {
      "cell_type": "markdown",
      "metadata": {
        "id": "vN1vK00w728l"
      },
      "source": [
        "Let's visualize our tree. Notice that because we specified that our tree should be at max 2 layers, the end gini values do not always reach to 0, unlike the first tree we made in the previous module, plus as expected we can see that there are only 2 layers 1 root node layer + 1 subsequent layer, before reaching the leaf nodes (prediction nodes). One layer, consists in all the nodes that are at the same height or level. For example: 2nd layer is composed of 2 nodes: ($Ca \\le 0.5$) and ($Chest \\ pain \\ type \\le 3.5$)"
      ]
    },
    {
      "cell_type": "code",
      "execution_count": null,
      "metadata": {
        "id": "9n9rp0imFRBs",
        "colab": {
          "base_uri": "https://localhost:8080/",
          "height": 380
        },
        "outputId": "3c9cbbad-d637-4c9d-f4d2-0f258c376022"
      },
      "outputs": [
        {
          "output_type": "display_data",
          "data": {
            "image/svg+xml": "<?xml version=\"1.0\" encoding=\"UTF-8\" standalone=\"no\"?>\n<!DOCTYPE svg PUBLIC \"-//W3C//DTD SVG 1.1//EN\"\n \"http://www.w3.org/Graphics/SVG/1.1/DTD/svg11.dtd\">\n<!-- Generated by graphviz version 2.43.0 (0)\n -->\n<!-- Title: Tree Pages: 1 -->\n<svg width=\"496pt\" height=\"269pt\"\n viewBox=\"0.00 0.00 496.00 269.00\" xmlns=\"http://www.w3.org/2000/svg\" xmlns:xlink=\"http://www.w3.org/1999/xlink\">\n<g id=\"graph0\" class=\"graph\" transform=\"scale(1 1) rotate(0) translate(4 265)\">\n<title>Tree</title>\n<polygon fill=\"white\" stroke=\"transparent\" points=\"-4,4 -4,-265 492,-265 492,4 -4,4\"/>\n<!-- 0 -->\n<g id=\"node1\" class=\"node\">\n<title>0</title>\n<path fill=\"#fbe9dd\" stroke=\"black\" d=\"M289.5,-261C289.5,-261 196.5,-261 196.5,-261 190.5,-261 184.5,-255 184.5,-249 184.5,-249 184.5,-205 184.5,-205 184.5,-199 190.5,-193 196.5,-193 196.5,-193 289.5,-193 289.5,-193 295.5,-193 301.5,-199 301.5,-205 301.5,-205 301.5,-249 301.5,-249 301.5,-255 295.5,-261 289.5,-261\"/>\n<text text-anchor=\"start\" x=\"212.5\" y=\"-245.8\" font-family=\"Helvetica,sans-Serif\" font-size=\"14.00\">Thal ≤ 4.5</text>\n<text text-anchor=\"start\" x=\"207.5\" y=\"-230.8\" font-family=\"Helvetica,sans-Serif\" font-size=\"14.00\">gini = 0.496</text>\n<text text-anchor=\"start\" x=\"198\" y=\"-215.8\" font-family=\"Helvetica,sans-Serif\" font-size=\"14.00\">samples = 212</text>\n<text text-anchor=\"start\" x=\"192.5\" y=\"-200.8\" font-family=\"Helvetica,sans-Serif\" font-size=\"14.00\">value = [116, 96]</text>\n</g>\n<!-- 1 -->\n<g id=\"node2\" class=\"node\">\n<title>1</title>\n<path fill=\"#eca36e\" stroke=\"black\" d=\"M212,-157C212,-157 126,-157 126,-157 120,-157 114,-151 114,-145 114,-145 114,-101 114,-101 114,-95 120,-89 126,-89 126,-89 212,-89 212,-89 218,-89 224,-95 224,-101 224,-101 224,-145 224,-145 224,-151 218,-157 212,-157\"/>\n<text text-anchor=\"start\" x=\"143\" y=\"-141.8\" font-family=\"Helvetica,sans-Serif\" font-size=\"14.00\">Ca ≤ 0.5</text>\n<text text-anchor=\"start\" x=\"133.5\" y=\"-126.8\" font-family=\"Helvetica,sans-Serif\" font-size=\"14.00\">gini = 0.334</text>\n<text text-anchor=\"start\" x=\"124\" y=\"-111.8\" font-family=\"Helvetica,sans-Serif\" font-size=\"14.00\">samples = 118</text>\n<text text-anchor=\"start\" x=\"122\" y=\"-96.8\" font-family=\"Helvetica,sans-Serif\" font-size=\"14.00\">value = [93, 25]</text>\n</g>\n<!-- 0&#45;&gt;1 -->\n<g id=\"edge1\" class=\"edge\">\n<title>0&#45;&gt;1</title>\n<path fill=\"none\" stroke=\"black\" d=\"M218.97,-192.88C212.64,-184.15 205.73,-174.62 199.12,-165.51\"/>\n<polygon fill=\"black\" stroke=\"black\" points=\"201.86,-163.34 193.16,-157.3 196.2,-167.45 201.86,-163.34\"/>\n<text text-anchor=\"middle\" x=\"189.23\" y=\"-178.29\" font-family=\"Helvetica,sans-Serif\" font-size=\"14.00\">True</text>\n</g>\n<!-- 4 -->\n<g id=\"node5\" class=\"node\">\n<title>4</title>\n<path fill=\"#79bded\" stroke=\"black\" d=\"M382,-157C382,-157 254,-157 254,-157 248,-157 242,-151 242,-145 242,-145 242,-101 242,-101 242,-95 248,-89 254,-89 254,-89 382,-89 382,-89 388,-89 394,-95 394,-101 394,-101 394,-145 394,-145 394,-151 388,-157 382,-157\"/>\n<text text-anchor=\"start\" x=\"250\" y=\"-141.8\" font-family=\"Helvetica,sans-Serif\" font-size=\"14.00\">Chest_pain_type ≤ 3.5</text>\n<text text-anchor=\"start\" x=\"286\" y=\"-126.8\" font-family=\"Helvetica,sans-Serif\" font-size=\"14.00\">gini = 0.37</text>\n<text text-anchor=\"start\" x=\"277\" y=\"-111.8\" font-family=\"Helvetica,sans-Serif\" font-size=\"14.00\">samples = 94</text>\n<text text-anchor=\"start\" x=\"271\" y=\"-96.8\" font-family=\"Helvetica,sans-Serif\" font-size=\"14.00\">value = [23, 71]</text>\n</g>\n<!-- 0&#45;&gt;4 -->\n<g id=\"edge4\" class=\"edge\">\n<title>0&#45;&gt;4</title>\n<path fill=\"none\" stroke=\"black\" d=\"M267.35,-192.88C273.77,-184.15 280.78,-174.62 287.48,-165.51\"/>\n<polygon fill=\"black\" stroke=\"black\" points=\"290.41,-167.43 293.52,-157.3 284.77,-163.28 290.41,-167.43\"/>\n<text text-anchor=\"middle\" x=\"297.29\" y=\"-178.31\" font-family=\"Helvetica,sans-Serif\" font-size=\"14.00\">False</text>\n</g>\n<!-- 2 -->\n<g id=\"node3\" class=\"node\">\n<title>2</title>\n<path fill=\"#e89050\" stroke=\"black\" d=\"M90,-53C90,-53 12,-53 12,-53 6,-53 0,-47 0,-41 0,-41 0,-12 0,-12 0,-6 6,0 12,0 12,0 90,0 90,0 96,0 102,-6 102,-12 102,-12 102,-41 102,-41 102,-47 96,-53 90,-53\"/>\n<text text-anchor=\"start\" x=\"15.5\" y=\"-37.8\" font-family=\"Helvetica,sans-Serif\" font-size=\"14.00\">gini = 0.187</text>\n<text text-anchor=\"start\" x=\"10\" y=\"-22.8\" font-family=\"Helvetica,sans-Serif\" font-size=\"14.00\">samples = 86</text>\n<text text-anchor=\"start\" x=\"8\" y=\"-7.8\" font-family=\"Helvetica,sans-Serif\" font-size=\"14.00\">value = [77, 9]</text>\n</g>\n<!-- 1&#45;&gt;2 -->\n<g id=\"edge2\" class=\"edge\">\n<title>1&#45;&gt;2</title>\n<path fill=\"none\" stroke=\"black\" d=\"M127.73,-88.95C115.85,-79.43 102.91,-69.07 91.1,-59.62\"/>\n<polygon fill=\"black\" stroke=\"black\" points=\"93.13,-56.76 83.14,-53.24 88.75,-62.22 93.13,-56.76\"/>\n</g>\n<!-- 3 -->\n<g id=\"node4\" class=\"node\">\n<title>3</title>\n<path fill=\"#ffffff\" stroke=\"black\" d=\"M218,-53C218,-53 132,-53 132,-53 126,-53 120,-47 120,-41 120,-41 120,-12 120,-12 120,-6 126,0 132,0 132,0 218,0 218,0 224,0 230,-6 230,-12 230,-12 230,-41 230,-41 230,-47 224,-53 218,-53\"/>\n<text text-anchor=\"start\" x=\"147\" y=\"-37.8\" font-family=\"Helvetica,sans-Serif\" font-size=\"14.00\">gini = 0.5</text>\n<text text-anchor=\"start\" x=\"134\" y=\"-22.8\" font-family=\"Helvetica,sans-Serif\" font-size=\"14.00\">samples = 32</text>\n<text text-anchor=\"start\" x=\"128\" y=\"-7.8\" font-family=\"Helvetica,sans-Serif\" font-size=\"14.00\">value = [16, 16]</text>\n</g>\n<!-- 1&#45;&gt;3 -->\n<g id=\"edge3\" class=\"edge\">\n<title>1&#45;&gt;3</title>\n<path fill=\"none\" stroke=\"black\" d=\"M171.1,-88.95C171.62,-80.72 172.18,-71.85 172.72,-63.48\"/>\n<polygon fill=\"black\" stroke=\"black\" points=\"176.23,-63.44 173.37,-53.24 169.24,-62.99 176.23,-63.44\"/>\n</g>\n<!-- 5 -->\n<g id=\"node6\" class=\"node\">\n<title>5</title>\n<path fill=\"#fae7da\" stroke=\"black\" d=\"M356,-53C356,-53 270,-53 270,-53 264,-53 258,-47 258,-41 258,-41 258,-12 258,-12 258,-6 264,0 270,0 270,0 356,0 356,0 362,0 368,-6 368,-12 368,-12 368,-41 368,-41 368,-47 362,-53 356,-53\"/>\n<text text-anchor=\"start\" x=\"277.5\" y=\"-37.8\" font-family=\"Helvetica,sans-Serif\" font-size=\"14.00\">gini = 0.495</text>\n<text text-anchor=\"start\" x=\"272\" y=\"-22.8\" font-family=\"Helvetica,sans-Serif\" font-size=\"14.00\">samples = 29</text>\n<text text-anchor=\"start\" x=\"266\" y=\"-7.8\" font-family=\"Helvetica,sans-Serif\" font-size=\"14.00\">value = [16, 13]</text>\n</g>\n<!-- 4&#45;&gt;5 -->\n<g id=\"edge5\" class=\"edge\">\n<title>4&#45;&gt;5</title>\n<path fill=\"none\" stroke=\"black\" d=\"M316.25,-88.95C315.82,-80.72 315.35,-71.85 314.9,-63.48\"/>\n<polygon fill=\"black\" stroke=\"black\" points=\"318.39,-63.04 314.36,-53.24 311.4,-63.41 318.39,-63.04\"/>\n</g>\n<!-- 6 -->\n<g id=\"node7\" class=\"node\">\n<title>6</title>\n<path fill=\"#51a9e8\" stroke=\"black\" d=\"M476,-53C476,-53 398,-53 398,-53 392,-53 386,-47 386,-41 386,-41 386,-12 386,-12 386,-6 392,0 398,0 398,0 476,0 476,0 482,0 488,-6 488,-12 488,-12 488,-41 488,-41 488,-47 482,-53 476,-53\"/>\n<text text-anchor=\"start\" x=\"401.5\" y=\"-37.8\" font-family=\"Helvetica,sans-Serif\" font-size=\"14.00\">gini = 0.192</text>\n<text text-anchor=\"start\" x=\"396\" y=\"-22.8\" font-family=\"Helvetica,sans-Serif\" font-size=\"14.00\">samples = 65</text>\n<text text-anchor=\"start\" x=\"394\" y=\"-7.8\" font-family=\"Helvetica,sans-Serif\" font-size=\"14.00\">value = [7, 58]</text>\n</g>\n<!-- 4&#45;&gt;6 -->\n<g id=\"edge6\" class=\"edge\">\n<title>4&#45;&gt;6</title>\n<path fill=\"none\" stroke=\"black\" d=\"M359.62,-88.95C371.6,-79.43 384.65,-69.07 396.56,-59.62\"/>\n<polygon fill=\"black\" stroke=\"black\" points=\"398.94,-62.2 404.59,-53.24 394.58,-56.71 398.94,-62.2\"/>\n</g>\n</g>\n</svg>\n",
            "text/plain": [
              "<graphviz.sources.Source at 0x7891b88f8bb0>"
            ]
          },
          "metadata": {}
        }
      ],
      "source": [
        "# Code to visualize our Decision Tree\n",
        "dot_data_under = tree.export_graphviz(clf_under, out_file=None,\n",
        "                                  feature_names=features.columns,\n",
        "                                  filled=True, rounded=True,\n",
        "                                  special_characters=True)\n",
        "graph = graphviz.Source(dot_data_under)\n",
        "graph.render(\"Classification tree\")\n",
        "display(graph)"
      ]
    },
    {
      "cell_type": "markdown",
      "metadata": {
        "id": "AKUuRbUDAN0i"
      },
      "source": [
        " **a) Calculating Accuracy of Tree for training data**"
      ]
    },
    {
      "cell_type": "code",
      "execution_count": null,
      "metadata": {
        "id": "WAb0zv6CAOIA",
        "colab": {
          "base_uri": "https://localhost:8080/"
        },
        "outputId": "6db21ee5-bb3d-4437-8048-dd44ea2f3f5e"
      },
      "outputs": [
        {
          "output_type": "stream",
          "name": "stdout",
          "text": [
            "Training Accuracy: 78.77 %\n"
          ]
        }
      ],
      "source": [
        "#Predict the response for training dataset\n",
        "y_pred_train = clf_under.predict(X_train)\n",
        "\n",
        "# Calculating Accuracy of our Tree\n",
        "acc_under_train = round(100 * metrics.accuracy_score(y_train, y_pred_train),2)\n",
        "print(\"Training Accuracy:\",acc_under_train,\"%\")"
      ]
    },
    {
      "cell_type": "markdown",
      "metadata": {
        "id": "Gj4DMgnVoRod"
      },
      "source": [
        "### **Question 9:**\n",
        "\n",
        "What is the training accuracy %?\n",
        "\n",
        "\n"
      ]
    },
    {
      "cell_type": "markdown",
      "metadata": {
        "id": "zh_AdW3DoRox"
      },
      "source": [
        "**Question 9 answer:**\n",
        "The training accuracy is 78.77%"
      ]
    },
    {
      "cell_type": "markdown",
      "metadata": {
        "id": "yklEwwrj_RLi"
      },
      "source": [
        " **b) Calculating Accuracy of Tree for testing data**"
      ]
    },
    {
      "cell_type": "code",
      "execution_count": null,
      "metadata": {
        "id": "uTOOS26d_NXk",
        "colab": {
          "base_uri": "https://localhost:8080/"
        },
        "outputId": "c886fd17-1132-48a0-9a86-74a7fca17a2b"
      },
      "outputs": [
        {
          "output_type": "stream",
          "name": "stdout",
          "text": [
            "Test Accuracy: 73.63 %\n"
          ]
        }
      ],
      "source": [
        "#Predict the response for test dataset\n",
        "y_pred = clf_under.predict(X_test)\n",
        "\n",
        "# Calculating Accuracy of our Tree\n",
        "acc_under_test = round(100 * metrics.accuracy_score(y_test, y_pred),2)\n",
        "print(\"Test Accuracy:\",acc_under_test,\"%\")"
      ]
    },
    {
      "cell_type": "markdown",
      "metadata": {
        "id": "T2q0bT5BojYF"
      },
      "source": [
        "### **Question 10:**\n",
        "\n",
        "What is the testing accuracy %?\n",
        "\n",
        "\n"
      ]
    },
    {
      "cell_type": "markdown",
      "metadata": {
        "id": "upOsBwzzojYO"
      },
      "source": [
        "**Question 10 answer:**\n",
        "The testing accuracy is 73.63%"
      ]
    },
    {
      "cell_type": "markdown",
      "metadata": {
        "id": "YIQ-YC1DCT1b"
      },
      "source": [
        "As we can see, our model is not great at predicting the training data nor the testing data. This is a case of **underfitting**."
      ]
    },
    {
      "cell_type": "markdown",
      "metadata": {
        "id": "4QBnXOQ_6e-3"
      },
      "source": [
        "#Overfitted Decision Tree\n",
        "\n",
        "Here we will create a Decision Tree that is only 10 layers deep. Just as before we will train it, and then use our test data to make predictions to check our accuracy of our model."
      ]
    },
    {
      "cell_type": "code",
      "execution_count": null,
      "metadata": {
        "id": "bwamao4_xdvM"
      },
      "outputs": [],
      "source": [
        "# Create Decision Tree classifer object\n",
        "clf_over = DecisionTreeClassifier(max_depth=10, random_state=2)\n",
        "\n",
        "# Train Decision Tree Classifer\n",
        "clf_over = clf_over.fit(X_train,y_train)\n"
      ]
    },
    {
      "cell_type": "markdown",
      "metadata": {
        "id": "J2rJ9ogpDRGZ"
      },
      "source": [
        "Below we will graph our tree as before. This time note that the gini values for our tree do reach to 0, unlike the underfitted Decision tree. When we do not specify the depth of our created tree, the default is to run our tree until it reaches a gini value of 0. But we will see that this doesn't always mean that we have the most optimal model. What we actually care about is having a high accuracy when predicting TESTING Data."
      ]
    },
    {
      "cell_type": "code",
      "execution_count": null,
      "metadata": {
        "id": "ORZEDAexDmQL",
        "colab": {
          "base_uri": "https://localhost:8080/",
          "height": 1000
        },
        "outputId": "308d0666-c806-4bdb-f3be-6ece2437f4cf"
      },
      "outputs": [
        {
          "output_type": "display_data",
          "data": {
            "image/svg+xml": "<?xml version=\"1.0\" encoding=\"UTF-8\" standalone=\"no\"?>\n<!DOCTYPE svg PUBLIC \"-//W3C//DTD SVG 1.1//EN\"\n \"http://www.w3.org/Graphics/SVG/1.1/DTD/svg11.dtd\">\n<!-- Generated by graphviz version 2.43.0 (0)\n -->\n<!-- Title: Tree Pages: 1 -->\n<svg width=\"2563pt\" height=\"997pt\"\n viewBox=\"0.00 0.00 2563.00 997.00\" xmlns=\"http://www.w3.org/2000/svg\" xmlns:xlink=\"http://www.w3.org/1999/xlink\">\n<g id=\"graph0\" class=\"graph\" transform=\"scale(1 1) rotate(0) translate(4 993)\">\n<title>Tree</title>\n<polygon fill=\"white\" stroke=\"transparent\" points=\"-4,4 -4,-993 2559,-993 2559,4 -4,4\"/>\n<!-- 0 -->\n<g id=\"node1\" class=\"node\">\n<title>0</title>\n<path fill=\"#fbe9dd\" stroke=\"black\" d=\"M1337,-989C1337,-989 1244,-989 1244,-989 1238,-989 1232,-983 1232,-977 1232,-977 1232,-933 1232,-933 1232,-927 1238,-921 1244,-921 1244,-921 1337,-921 1337,-921 1343,-921 1349,-927 1349,-933 1349,-933 1349,-977 1349,-977 1349,-983 1343,-989 1337,-989\"/>\n<text text-anchor=\"start\" x=\"1260\" y=\"-973.8\" font-family=\"Helvetica,sans-Serif\" font-size=\"14.00\">Thal ≤ 4.5</text>\n<text text-anchor=\"start\" x=\"1255\" y=\"-958.8\" font-family=\"Helvetica,sans-Serif\" font-size=\"14.00\">gini = 0.496</text>\n<text text-anchor=\"start\" x=\"1245.5\" y=\"-943.8\" font-family=\"Helvetica,sans-Serif\" font-size=\"14.00\">samples = 212</text>\n<text text-anchor=\"start\" x=\"1240\" y=\"-928.8\" font-family=\"Helvetica,sans-Serif\" font-size=\"14.00\">value = [116, 96]</text>\n</g>\n<!-- 1 -->\n<g id=\"node2\" class=\"node\">\n<title>1</title>\n<path fill=\"#eca36e\" stroke=\"black\" d=\"M962.5,-885C962.5,-885 876.5,-885 876.5,-885 870.5,-885 864.5,-879 864.5,-873 864.5,-873 864.5,-829 864.5,-829 864.5,-823 870.5,-817 876.5,-817 876.5,-817 962.5,-817 962.5,-817 968.5,-817 974.5,-823 974.5,-829 974.5,-829 974.5,-873 974.5,-873 974.5,-879 968.5,-885 962.5,-885\"/>\n<text text-anchor=\"start\" x=\"893.5\" y=\"-869.8\" font-family=\"Helvetica,sans-Serif\" font-size=\"14.00\">Ca ≤ 0.5</text>\n<text text-anchor=\"start\" x=\"884\" y=\"-854.8\" font-family=\"Helvetica,sans-Serif\" font-size=\"14.00\">gini = 0.334</text>\n<text text-anchor=\"start\" x=\"874.5\" y=\"-839.8\" font-family=\"Helvetica,sans-Serif\" font-size=\"14.00\">samples = 118</text>\n<text text-anchor=\"start\" x=\"872.5\" y=\"-824.8\" font-family=\"Helvetica,sans-Serif\" font-size=\"14.00\">value = [93, 25]</text>\n</g>\n<!-- 0&#45;&gt;1 -->\n<g id=\"edge1\" class=\"edge\">\n<title>0&#45;&gt;1</title>\n<path fill=\"none\" stroke=\"black\" d=\"M1231.71,-937.84C1164.43,-919.34 1054.54,-889.13 984.69,-869.92\"/>\n<polygon fill=\"black\" stroke=\"black\" points=\"985.25,-866.45 974.68,-867.17 983.4,-873.2 985.25,-866.45\"/>\n<text text-anchor=\"middle\" x=\"987.04\" y=\"-885.2\" font-family=\"Helvetica,sans-Serif\" font-size=\"14.00\">True</text>\n</g>\n<!-- 44 -->\n<g id=\"node45\" class=\"node\">\n<title>44</title>\n<path fill=\"#79bded\" stroke=\"black\" d=\"M1819.5,-885C1819.5,-885 1691.5,-885 1691.5,-885 1685.5,-885 1679.5,-879 1679.5,-873 1679.5,-873 1679.5,-829 1679.5,-829 1679.5,-823 1685.5,-817 1691.5,-817 1691.5,-817 1819.5,-817 1819.5,-817 1825.5,-817 1831.5,-823 1831.5,-829 1831.5,-829 1831.5,-873 1831.5,-873 1831.5,-879 1825.5,-885 1819.5,-885\"/>\n<text text-anchor=\"start\" x=\"1687.5\" y=\"-869.8\" font-family=\"Helvetica,sans-Serif\" font-size=\"14.00\">Chest_pain_type ≤ 3.5</text>\n<text text-anchor=\"start\" x=\"1723.5\" y=\"-854.8\" font-family=\"Helvetica,sans-Serif\" font-size=\"14.00\">gini = 0.37</text>\n<text text-anchor=\"start\" x=\"1714.5\" y=\"-839.8\" font-family=\"Helvetica,sans-Serif\" font-size=\"14.00\">samples = 94</text>\n<text text-anchor=\"start\" x=\"1708.5\" y=\"-824.8\" font-family=\"Helvetica,sans-Serif\" font-size=\"14.00\">value = [23, 71]</text>\n</g>\n<!-- 0&#45;&gt;44 -->\n<g id=\"edge44\" class=\"edge\">\n<title>0&#45;&gt;44</title>\n<path fill=\"none\" stroke=\"black\" d=\"M1349.39,-941.08C1430.27,-923.34 1576.26,-891.32 1669.4,-870.89\"/>\n<polygon fill=\"black\" stroke=\"black\" points=\"1670.35,-874.26 1679.37,-868.7 1668.85,-867.42 1670.35,-874.26\"/>\n<text text-anchor=\"middle\" x=\"1665.89\" y=\"-886.05\" font-family=\"Helvetica,sans-Serif\" font-size=\"14.00\">False</text>\n</g>\n<!-- 2 -->\n<g id=\"node3\" class=\"node\">\n<title>2</title>\n<path fill=\"#e89050\" stroke=\"black\" d=\"M765.5,-781C765.5,-781 687.5,-781 687.5,-781 681.5,-781 675.5,-775 675.5,-769 675.5,-769 675.5,-725 675.5,-725 675.5,-719 681.5,-713 687.5,-713 687.5,-713 765.5,-713 765.5,-713 771.5,-713 777.5,-719 777.5,-725 777.5,-725 777.5,-769 777.5,-769 777.5,-775 771.5,-781 765.5,-781\"/>\n<text text-anchor=\"start\" x=\"684\" y=\"-765.8\" font-family=\"Helvetica,sans-Serif\" font-size=\"14.00\">Oldpeak ≤ 3.3</text>\n<text text-anchor=\"start\" x=\"691\" y=\"-750.8\" font-family=\"Helvetica,sans-Serif\" font-size=\"14.00\">gini = 0.187</text>\n<text text-anchor=\"start\" x=\"685.5\" y=\"-735.8\" font-family=\"Helvetica,sans-Serif\" font-size=\"14.00\">samples = 86</text>\n<text text-anchor=\"start\" x=\"683.5\" y=\"-720.8\" font-family=\"Helvetica,sans-Serif\" font-size=\"14.00\">value = [77, 9]</text>\n</g>\n<!-- 1&#45;&gt;2 -->\n<g id=\"edge2\" class=\"edge\">\n<title>1&#45;&gt;2</title>\n<path fill=\"none\" stroke=\"black\" d=\"M864.45,-820.91C840.14,-808.06 811.5,-792.92 786.63,-779.78\"/>\n<polygon fill=\"black\" stroke=\"black\" points=\"788.13,-776.61 777.65,-775.03 784.85,-782.8 788.13,-776.61\"/>\n</g>\n<!-- 27 -->\n<g id=\"node28\" class=\"node\">\n<title>27</title>\n<path fill=\"#ffffff\" stroke=\"black\" d=\"M962.5,-781C962.5,-781 876.5,-781 876.5,-781 870.5,-781 864.5,-775 864.5,-769 864.5,-769 864.5,-725 864.5,-725 864.5,-719 870.5,-713 876.5,-713 876.5,-713 962.5,-713 962.5,-713 968.5,-713 974.5,-719 974.5,-725 974.5,-725 974.5,-769 974.5,-769 974.5,-775 968.5,-781 962.5,-781\"/>\n<text text-anchor=\"start\" x=\"890.5\" y=\"-765.8\" font-family=\"Helvetica,sans-Serif\" font-size=\"14.00\">Sex ≤ 0.5</text>\n<text text-anchor=\"start\" x=\"891.5\" y=\"-750.8\" font-family=\"Helvetica,sans-Serif\" font-size=\"14.00\">gini = 0.5</text>\n<text text-anchor=\"start\" x=\"878.5\" y=\"-735.8\" font-family=\"Helvetica,sans-Serif\" font-size=\"14.00\">samples = 32</text>\n<text text-anchor=\"start\" x=\"872.5\" y=\"-720.8\" font-family=\"Helvetica,sans-Serif\" font-size=\"14.00\">value = [16, 16]</text>\n</g>\n<!-- 1&#45;&gt;27 -->\n<g id=\"edge27\" class=\"edge\">\n<title>1&#45;&gt;27</title>\n<path fill=\"none\" stroke=\"black\" d=\"M919.5,-816.88C919.5,-808.78 919.5,-799.98 919.5,-791.47\"/>\n<polygon fill=\"black\" stroke=\"black\" points=\"923,-791.3 919.5,-781.3 916,-791.3 923,-791.3\"/>\n</g>\n<!-- 3 -->\n<g id=\"node4\" class=\"node\">\n<title>3</title>\n<path fill=\"#e88e4e\" stroke=\"black\" d=\"M490.5,-677C490.5,-677 412.5,-677 412.5,-677 406.5,-677 400.5,-671 400.5,-665 400.5,-665 400.5,-621 400.5,-621 400.5,-615 406.5,-609 412.5,-609 412.5,-609 490.5,-609 490.5,-609 496.5,-609 502.5,-615 502.5,-621 502.5,-621 502.5,-665 502.5,-665 502.5,-671 496.5,-677 490.5,-677\"/>\n<text text-anchor=\"start\" x=\"411.5\" y=\"-661.8\" font-family=\"Helvetica,sans-Serif\" font-size=\"14.00\">Maxhr ≤ 83.5</text>\n<text text-anchor=\"start\" x=\"416\" y=\"-646.8\" font-family=\"Helvetica,sans-Serif\" font-size=\"14.00\">gini = 0.171</text>\n<text text-anchor=\"start\" x=\"410.5\" y=\"-631.8\" font-family=\"Helvetica,sans-Serif\" font-size=\"14.00\">samples = 85</text>\n<text text-anchor=\"start\" x=\"408.5\" y=\"-616.8\" font-family=\"Helvetica,sans-Serif\" font-size=\"14.00\">value = [77, 8]</text>\n</g>\n<!-- 2&#45;&gt;3 -->\n<g id=\"edge3\" class=\"edge\">\n<title>2&#45;&gt;3</title>\n<path fill=\"none\" stroke=\"black\" d=\"M675.42,-727.05C629.26,-709.93 561.24,-684.7 512.3,-666.55\"/>\n<polygon fill=\"black\" stroke=\"black\" points=\"513.37,-663.21 502.77,-663.02 510.93,-669.78 513.37,-663.21\"/>\n</g>\n<!-- 26 -->\n<g id=\"node27\" class=\"node\">\n<title>26</title>\n<path fill=\"#399de5\" stroke=\"black\" d=\"M762,-669.5C762,-669.5 691,-669.5 691,-669.5 685,-669.5 679,-663.5 679,-657.5 679,-657.5 679,-628.5 679,-628.5 679,-622.5 685,-616.5 691,-616.5 691,-616.5 762,-616.5 762,-616.5 768,-616.5 774,-622.5 774,-628.5 774,-628.5 774,-657.5 774,-657.5 774,-663.5 768,-669.5 762,-669.5\"/>\n<text text-anchor=\"start\" x=\"698.5\" y=\"-654.3\" font-family=\"Helvetica,sans-Serif\" font-size=\"14.00\">gini = 0.0</text>\n<text text-anchor=\"start\" x=\"689\" y=\"-639.3\" font-family=\"Helvetica,sans-Serif\" font-size=\"14.00\">samples = 1</text>\n<text text-anchor=\"start\" x=\"687\" y=\"-624.3\" font-family=\"Helvetica,sans-Serif\" font-size=\"14.00\">value = [0, 1]</text>\n</g>\n<!-- 2&#45;&gt;26 -->\n<g id=\"edge26\" class=\"edge\">\n<title>2&#45;&gt;26</title>\n<path fill=\"none\" stroke=\"black\" d=\"M726.5,-712.88C726.5,-702.33 726.5,-690.6 726.5,-679.85\"/>\n<polygon fill=\"black\" stroke=\"black\" points=\"730,-679.52 726.5,-669.52 723,-679.52 730,-679.52\"/>\n</g>\n<!-- 4 -->\n<g id=\"node5\" class=\"node\">\n<title>4</title>\n<path fill=\"#399de5\" stroke=\"black\" d=\"M370,-565.5C370,-565.5 299,-565.5 299,-565.5 293,-565.5 287,-559.5 287,-553.5 287,-553.5 287,-524.5 287,-524.5 287,-518.5 293,-512.5 299,-512.5 299,-512.5 370,-512.5 370,-512.5 376,-512.5 382,-518.5 382,-524.5 382,-524.5 382,-553.5 382,-553.5 382,-559.5 376,-565.5 370,-565.5\"/>\n<text text-anchor=\"start\" x=\"306.5\" y=\"-550.3\" font-family=\"Helvetica,sans-Serif\" font-size=\"14.00\">gini = 0.0</text>\n<text text-anchor=\"start\" x=\"297\" y=\"-535.3\" font-family=\"Helvetica,sans-Serif\" font-size=\"14.00\">samples = 1</text>\n<text text-anchor=\"start\" x=\"295\" y=\"-520.3\" font-family=\"Helvetica,sans-Serif\" font-size=\"14.00\">value = [0, 1]</text>\n</g>\n<!-- 3&#45;&gt;4 -->\n<g id=\"edge4\" class=\"edge\">\n<title>3&#45;&gt;4</title>\n<path fill=\"none\" stroke=\"black\" d=\"M413.51,-608.88C400.02,-597.12 384.85,-583.89 371.44,-572.2\"/>\n<polygon fill=\"black\" stroke=\"black\" points=\"373.61,-569.45 363.77,-565.52 369.01,-574.73 373.61,-569.45\"/>\n</g>\n<!-- 5 -->\n<g id=\"node6\" class=\"node\">\n<title>5</title>\n<path fill=\"#e78c4b\" stroke=\"black\" d=\"M490.5,-573C490.5,-573 412.5,-573 412.5,-573 406.5,-573 400.5,-567 400.5,-561 400.5,-561 400.5,-517 400.5,-517 400.5,-511 406.5,-505 412.5,-505 412.5,-505 490.5,-505 490.5,-505 496.5,-505 502.5,-511 502.5,-517 502.5,-517 502.5,-561 502.5,-561 502.5,-567 496.5,-573 490.5,-573\"/>\n<text text-anchor=\"start\" x=\"418.5\" y=\"-557.8\" font-family=\"Helvetica,sans-Serif\" font-size=\"14.00\">Age ≤ 57.5</text>\n<text text-anchor=\"start\" x=\"416\" y=\"-542.8\" font-family=\"Helvetica,sans-Serif\" font-size=\"14.00\">gini = 0.153</text>\n<text text-anchor=\"start\" x=\"410.5\" y=\"-527.8\" font-family=\"Helvetica,sans-Serif\" font-size=\"14.00\">samples = 84</text>\n<text text-anchor=\"start\" x=\"408.5\" y=\"-512.8\" font-family=\"Helvetica,sans-Serif\" font-size=\"14.00\">value = [77, 7]</text>\n</g>\n<!-- 3&#45;&gt;5 -->\n<g id=\"edge5\" class=\"edge\">\n<title>3&#45;&gt;5</title>\n<path fill=\"none\" stroke=\"black\" d=\"M451.5,-608.88C451.5,-600.78 451.5,-591.98 451.5,-583.47\"/>\n<polygon fill=\"black\" stroke=\"black\" points=\"455,-583.3 451.5,-573.3 448,-583.3 455,-583.3\"/>\n</g>\n<!-- 6 -->\n<g id=\"node7\" class=\"node\">\n<title>6</title>\n<path fill=\"#e68540\" stroke=\"black\" d=\"M341.5,-469C341.5,-469 261.5,-469 261.5,-469 255.5,-469 249.5,-463 249.5,-457 249.5,-457 249.5,-413 249.5,-413 249.5,-407 255.5,-401 261.5,-401 261.5,-401 341.5,-401 341.5,-401 347.5,-401 353.5,-407 353.5,-413 353.5,-413 353.5,-457 353.5,-457 353.5,-463 347.5,-469 341.5,-469\"/>\n<text text-anchor=\"start\" x=\"257.5\" y=\"-453.8\" font-family=\"Helvetica,sans-Serif\" font-size=\"14.00\">Maxhr ≤ 156.5</text>\n<text text-anchor=\"start\" x=\"266\" y=\"-438.8\" font-family=\"Helvetica,sans-Serif\" font-size=\"14.00\">gini = 0.063</text>\n<text text-anchor=\"start\" x=\"260.5\" y=\"-423.8\" font-family=\"Helvetica,sans-Serif\" font-size=\"14.00\">samples = 61</text>\n<text text-anchor=\"start\" x=\"258.5\" y=\"-408.8\" font-family=\"Helvetica,sans-Serif\" font-size=\"14.00\">value = [59, 2]</text>\n</g>\n<!-- 5&#45;&gt;6 -->\n<g id=\"edge6\" class=\"edge\">\n<title>5&#45;&gt;6</title>\n<path fill=\"none\" stroke=\"black\" d=\"M402.8,-504.88C388.71,-495.3 373.21,-484.76 358.65,-474.86\"/>\n<polygon fill=\"black\" stroke=\"black\" points=\"360.45,-471.85 350.21,-469.12 356.51,-477.64 360.45,-471.85\"/>\n</g>\n<!-- 13 -->\n<g id=\"node14\" class=\"node\">\n<title>13</title>\n<path fill=\"#eca470\" stroke=\"black\" d=\"M506.5,-469C506.5,-469 396.5,-469 396.5,-469 390.5,-469 384.5,-463 384.5,-457 384.5,-457 384.5,-413 384.5,-413 384.5,-407 390.5,-401 396.5,-401 396.5,-401 506.5,-401 506.5,-401 512.5,-401 518.5,-407 518.5,-413 518.5,-413 518.5,-457 518.5,-457 518.5,-463 512.5,-469 506.5,-469\"/>\n<text text-anchor=\"start\" x=\"392.5\" y=\"-453.8\" font-family=\"Helvetica,sans-Serif\" font-size=\"14.00\">Cholesterol ≤ 272.0</text>\n<text text-anchor=\"start\" x=\"419.5\" y=\"-438.8\" font-family=\"Helvetica,sans-Serif\" font-size=\"14.00\">gini = 0.34</text>\n<text text-anchor=\"start\" x=\"410.5\" y=\"-423.8\" font-family=\"Helvetica,sans-Serif\" font-size=\"14.00\">samples = 23</text>\n<text text-anchor=\"start\" x=\"408.5\" y=\"-408.8\" font-family=\"Helvetica,sans-Serif\" font-size=\"14.00\">value = [18, 5]</text>\n</g>\n<!-- 5&#45;&gt;13 -->\n<g id=\"edge13\" class=\"edge\">\n<title>5&#45;&gt;13</title>\n<path fill=\"none\" stroke=\"black\" d=\"M451.5,-504.88C451.5,-496.78 451.5,-487.98 451.5,-479.47\"/>\n<polygon fill=\"black\" stroke=\"black\" points=\"455,-479.3 451.5,-469.3 448,-479.3 455,-479.3\"/>\n</g>\n<!-- 7 -->\n<g id=\"node8\" class=\"node\">\n<title>7</title>\n<path fill=\"#e9965a\" stroke=\"black\" d=\"M218.5,-365C218.5,-365 138.5,-365 138.5,-365 132.5,-365 126.5,-359 126.5,-353 126.5,-353 126.5,-309 126.5,-309 126.5,-303 132.5,-297 138.5,-297 138.5,-297 218.5,-297 218.5,-297 224.5,-297 230.5,-303 230.5,-309 230.5,-309 230.5,-353 230.5,-353 230.5,-359 224.5,-365 218.5,-365\"/>\n<text text-anchor=\"start\" x=\"134.5\" y=\"-349.8\" font-family=\"Helvetica,sans-Serif\" font-size=\"14.00\">Maxhr ≤ 150.0</text>\n<text text-anchor=\"start\" x=\"143\" y=\"-334.8\" font-family=\"Helvetica,sans-Serif\" font-size=\"14.00\">gini = 0.245</text>\n<text text-anchor=\"start\" x=\"137.5\" y=\"-319.8\" font-family=\"Helvetica,sans-Serif\" font-size=\"14.00\">samples = 14</text>\n<text text-anchor=\"start\" x=\"135.5\" y=\"-304.8\" font-family=\"Helvetica,sans-Serif\" font-size=\"14.00\">value = [12, 2]</text>\n</g>\n<!-- 6&#45;&gt;7 -->\n<g id=\"edge7\" class=\"edge\">\n<title>6&#45;&gt;7</title>\n<path fill=\"none\" stroke=\"black\" d=\"M261.57,-400.88C250.39,-391.62 238.14,-381.45 226.55,-371.85\"/>\n<polygon fill=\"black\" stroke=\"black\" points=\"228.59,-368.99 218.66,-365.3 224.12,-374.38 228.59,-368.99\"/>\n</g>\n<!-- 12 -->\n<g id=\"node13\" class=\"node\">\n<title>12</title>\n<path fill=\"#e58139\" stroke=\"black\" d=\"M340.5,-357.5C340.5,-357.5 262.5,-357.5 262.5,-357.5 256.5,-357.5 250.5,-351.5 250.5,-345.5 250.5,-345.5 250.5,-316.5 250.5,-316.5 250.5,-310.5 256.5,-304.5 262.5,-304.5 262.5,-304.5 340.5,-304.5 340.5,-304.5 346.5,-304.5 352.5,-310.5 352.5,-316.5 352.5,-316.5 352.5,-345.5 352.5,-345.5 352.5,-351.5 346.5,-357.5 340.5,-357.5\"/>\n<text text-anchor=\"start\" x=\"273.5\" y=\"-342.3\" font-family=\"Helvetica,sans-Serif\" font-size=\"14.00\">gini = 0.0</text>\n<text text-anchor=\"start\" x=\"260.5\" y=\"-327.3\" font-family=\"Helvetica,sans-Serif\" font-size=\"14.00\">samples = 47</text>\n<text text-anchor=\"start\" x=\"258.5\" y=\"-312.3\" font-family=\"Helvetica,sans-Serif\" font-size=\"14.00\">value = [47, 0]</text>\n</g>\n<!-- 6&#45;&gt;12 -->\n<g id=\"edge12\" class=\"edge\">\n<title>6&#45;&gt;12</title>\n<path fill=\"none\" stroke=\"black\" d=\"M301.5,-400.88C301.5,-390.33 301.5,-378.6 301.5,-367.85\"/>\n<polygon fill=\"black\" stroke=\"black\" points=\"305,-367.52 301.5,-357.52 298,-367.52 305,-367.52\"/>\n</g>\n<!-- 8 -->\n<g id=\"node9\" class=\"node\">\n<title>8</title>\n<path fill=\"#e58139\" stroke=\"black\" d=\"M83,-253.5C83,-253.5 12,-253.5 12,-253.5 6,-253.5 0,-247.5 0,-241.5 0,-241.5 0,-212.5 0,-212.5 0,-206.5 6,-200.5 12,-200.5 12,-200.5 83,-200.5 83,-200.5 89,-200.5 95,-206.5 95,-212.5 95,-212.5 95,-241.5 95,-241.5 95,-247.5 89,-253.5 83,-253.5\"/>\n<text text-anchor=\"start\" x=\"19.5\" y=\"-238.3\" font-family=\"Helvetica,sans-Serif\" font-size=\"14.00\">gini = 0.0</text>\n<text text-anchor=\"start\" x=\"10\" y=\"-223.3\" font-family=\"Helvetica,sans-Serif\" font-size=\"14.00\">samples = 8</text>\n<text text-anchor=\"start\" x=\"8\" y=\"-208.3\" font-family=\"Helvetica,sans-Serif\" font-size=\"14.00\">value = [8, 0]</text>\n</g>\n<!-- 7&#45;&gt;8 -->\n<g id=\"edge8\" class=\"edge\">\n<title>7&#45;&gt;8</title>\n<path fill=\"none\" stroke=\"black\" d=\"M135.97,-296.88C120.71,-285.01 103.56,-271.65 88.44,-259.88\"/>\n<polygon fill=\"black\" stroke=\"black\" points=\"90.32,-256.9 80.28,-253.52 86.02,-262.43 90.32,-256.9\"/>\n</g>\n<!-- 9 -->\n<g id=\"node10\" class=\"node\">\n<title>9</title>\n<path fill=\"#f2c09c\" stroke=\"black\" d=\"M232,-261C232,-261 125,-261 125,-261 119,-261 113,-255 113,-249 113,-249 113,-205 113,-205 113,-199 119,-193 125,-193 125,-193 232,-193 232,-193 238,-193 244,-199 244,-205 244,-205 244,-249 244,-249 244,-255 238,-261 232,-261\"/>\n<text text-anchor=\"start\" x=\"121\" y=\"-245.8\" font-family=\"Helvetica,sans-Serif\" font-size=\"14.00\">At_rest_bp ≤ 129.0</text>\n<text text-anchor=\"start\" x=\"143\" y=\"-230.8\" font-family=\"Helvetica,sans-Serif\" font-size=\"14.00\">gini = 0.444</text>\n<text text-anchor=\"start\" x=\"141\" y=\"-215.8\" font-family=\"Helvetica,sans-Serif\" font-size=\"14.00\">samples = 6</text>\n<text text-anchor=\"start\" x=\"139\" y=\"-200.8\" font-family=\"Helvetica,sans-Serif\" font-size=\"14.00\">value = [4, 2]</text>\n</g>\n<!-- 7&#45;&gt;9 -->\n<g id=\"edge9\" class=\"edge\">\n<title>7&#45;&gt;9</title>\n<path fill=\"none\" stroke=\"black\" d=\"M178.5,-296.88C178.5,-288.78 178.5,-279.98 178.5,-271.47\"/>\n<polygon fill=\"black\" stroke=\"black\" points=\"182,-271.3 178.5,-261.3 175,-271.3 182,-271.3\"/>\n</g>\n<!-- 10 -->\n<g id=\"node11\" class=\"node\">\n<title>10</title>\n<path fill=\"#399de5\" stroke=\"black\" d=\"M123,-149.5C123,-149.5 52,-149.5 52,-149.5 46,-149.5 40,-143.5 40,-137.5 40,-137.5 40,-108.5 40,-108.5 40,-102.5 46,-96.5 52,-96.5 52,-96.5 123,-96.5 123,-96.5 129,-96.5 135,-102.5 135,-108.5 135,-108.5 135,-137.5 135,-137.5 135,-143.5 129,-149.5 123,-149.5\"/>\n<text text-anchor=\"start\" x=\"59.5\" y=\"-134.3\" font-family=\"Helvetica,sans-Serif\" font-size=\"14.00\">gini = 0.0</text>\n<text text-anchor=\"start\" x=\"50\" y=\"-119.3\" font-family=\"Helvetica,sans-Serif\" font-size=\"14.00\">samples = 2</text>\n<text text-anchor=\"start\" x=\"48\" y=\"-104.3\" font-family=\"Helvetica,sans-Serif\" font-size=\"14.00\">value = [0, 2]</text>\n</g>\n<!-- 9&#45;&gt;10 -->\n<g id=\"edge10\" class=\"edge\">\n<title>9&#45;&gt;10</title>\n<path fill=\"none\" stroke=\"black\" d=\"M148.95,-192.88C138.75,-181.45 127.32,-168.63 117.11,-157.19\"/>\n<polygon fill=\"black\" stroke=\"black\" points=\"119.54,-154.65 110.27,-149.52 114.31,-159.31 119.54,-154.65\"/>\n</g>\n<!-- 11 -->\n<g id=\"node12\" class=\"node\">\n<title>11</title>\n<path fill=\"#e58139\" stroke=\"black\" d=\"M236,-149.5C236,-149.5 165,-149.5 165,-149.5 159,-149.5 153,-143.5 153,-137.5 153,-137.5 153,-108.5 153,-108.5 153,-102.5 159,-96.5 165,-96.5 165,-96.5 236,-96.5 236,-96.5 242,-96.5 248,-102.5 248,-108.5 248,-108.5 248,-137.5 248,-137.5 248,-143.5 242,-149.5 236,-149.5\"/>\n<text text-anchor=\"start\" x=\"172.5\" y=\"-134.3\" font-family=\"Helvetica,sans-Serif\" font-size=\"14.00\">gini = 0.0</text>\n<text text-anchor=\"start\" x=\"163\" y=\"-119.3\" font-family=\"Helvetica,sans-Serif\" font-size=\"14.00\">samples = 4</text>\n<text text-anchor=\"start\" x=\"161\" y=\"-104.3\" font-family=\"Helvetica,sans-Serif\" font-size=\"14.00\">value = [4, 0]</text>\n</g>\n<!-- 9&#45;&gt;11 -->\n<g id=\"edge11\" class=\"edge\">\n<title>9&#45;&gt;11</title>\n<path fill=\"none\" stroke=\"black\" d=\"M185.64,-192.88C187.94,-182.22 190.5,-170.35 192.84,-159.52\"/>\n<polygon fill=\"black\" stroke=\"black\" points=\"196.31,-160.03 195,-149.52 189.47,-158.56 196.31,-160.03\"/>\n</g>\n<!-- 14 -->\n<g id=\"node15\" class=\"node\">\n<title>14</title>\n<path fill=\"#e78a47\" stroke=\"black\" d=\"M485.5,-365C485.5,-365 383.5,-365 383.5,-365 377.5,-365 371.5,-359 371.5,-353 371.5,-353 371.5,-309 371.5,-309 371.5,-303 377.5,-297 383.5,-297 383.5,-297 485.5,-297 485.5,-297 491.5,-297 497.5,-303 497.5,-309 497.5,-309 497.5,-353 497.5,-353 497.5,-359 491.5,-365 485.5,-365\"/>\n<text text-anchor=\"start\" x=\"379.5\" y=\"-349.8\" font-family=\"Helvetica,sans-Serif\" font-size=\"14.00\">Exer_angina ≤ 0.5</text>\n<text text-anchor=\"start\" x=\"399\" y=\"-334.8\" font-family=\"Helvetica,sans-Serif\" font-size=\"14.00\">gini = 0.124</text>\n<text text-anchor=\"start\" x=\"393.5\" y=\"-319.8\" font-family=\"Helvetica,sans-Serif\" font-size=\"14.00\">samples = 15</text>\n<text text-anchor=\"start\" x=\"391.5\" y=\"-304.8\" font-family=\"Helvetica,sans-Serif\" font-size=\"14.00\">value = [14, 1]</text>\n</g>\n<!-- 13&#45;&gt;14 -->\n<g id=\"edge14\" class=\"edge\">\n<title>13&#45;&gt;14</title>\n<path fill=\"none\" stroke=\"black\" d=\"M445.98,-400.88C444.61,-392.69 443.13,-383.79 441.7,-375.19\"/>\n<polygon fill=\"black\" stroke=\"black\" points=\"445.15,-374.59 440.05,-365.3 438.24,-375.74 445.15,-374.59\"/>\n</g>\n<!-- 19 -->\n<g id=\"node20\" class=\"node\">\n<title>19</title>\n<path fill=\"#ffffff\" stroke=\"black\" d=\"M637.5,-365C637.5,-365 527.5,-365 527.5,-365 521.5,-365 515.5,-359 515.5,-353 515.5,-353 515.5,-309 515.5,-309 515.5,-303 521.5,-297 527.5,-297 527.5,-297 637.5,-297 637.5,-297 643.5,-297 649.5,-303 649.5,-309 649.5,-309 649.5,-353 649.5,-353 649.5,-359 643.5,-365 637.5,-365\"/>\n<text text-anchor=\"start\" x=\"523.5\" y=\"-349.8\" font-family=\"Helvetica,sans-Serif\" font-size=\"14.00\">Cholesterol ≤ 337.5</text>\n<text text-anchor=\"start\" x=\"554.5\" y=\"-334.8\" font-family=\"Helvetica,sans-Serif\" font-size=\"14.00\">gini = 0.5</text>\n<text text-anchor=\"start\" x=\"545\" y=\"-319.8\" font-family=\"Helvetica,sans-Serif\" font-size=\"14.00\">samples = 8</text>\n<text text-anchor=\"start\" x=\"543\" y=\"-304.8\" font-family=\"Helvetica,sans-Serif\" font-size=\"14.00\">value = [4, 4]</text>\n</g>\n<!-- 13&#45;&gt;19 -->\n<g id=\"edge19\" class=\"edge\">\n<title>13&#45;&gt;19</title>\n<path fill=\"none\" stroke=\"black\" d=\"M494.03,-400.88C506.04,-391.53 519.24,-381.26 531.68,-371.57\"/>\n<polygon fill=\"black\" stroke=\"black\" points=\"533.99,-374.2 539.73,-365.3 529.69,-368.68 533.99,-374.2\"/>\n</g>\n<!-- 15 -->\n<g id=\"node16\" class=\"node\">\n<title>15</title>\n<path fill=\"#e58139\" stroke=\"black\" d=\"M352.5,-253.5C352.5,-253.5 274.5,-253.5 274.5,-253.5 268.5,-253.5 262.5,-247.5 262.5,-241.5 262.5,-241.5 262.5,-212.5 262.5,-212.5 262.5,-206.5 268.5,-200.5 274.5,-200.5 274.5,-200.5 352.5,-200.5 352.5,-200.5 358.5,-200.5 364.5,-206.5 364.5,-212.5 364.5,-212.5 364.5,-241.5 364.5,-241.5 364.5,-247.5 358.5,-253.5 352.5,-253.5\"/>\n<text text-anchor=\"start\" x=\"285.5\" y=\"-238.3\" font-family=\"Helvetica,sans-Serif\" font-size=\"14.00\">gini = 0.0</text>\n<text text-anchor=\"start\" x=\"272.5\" y=\"-223.3\" font-family=\"Helvetica,sans-Serif\" font-size=\"14.00\">samples = 13</text>\n<text text-anchor=\"start\" x=\"270.5\" y=\"-208.3\" font-family=\"Helvetica,sans-Serif\" font-size=\"14.00\">value = [13, 0]</text>\n</g>\n<!-- 14&#45;&gt;15 -->\n<g id=\"edge15\" class=\"edge\">\n<title>14&#45;&gt;15</title>\n<path fill=\"none\" stroke=\"black\" d=\"M395.21,-296.88C381.26,-285.12 365.57,-271.89 351.7,-260.2\"/>\n<polygon fill=\"black\" stroke=\"black\" points=\"353.68,-257.29 343.77,-253.52 349.16,-262.64 353.68,-257.29\"/>\n</g>\n<!-- 16 -->\n<g id=\"node17\" class=\"node\">\n<title>16</title>\n<path fill=\"#ffffff\" stroke=\"black\" d=\"M502,-261C502,-261 395,-261 395,-261 389,-261 383,-255 383,-249 383,-249 383,-205 383,-205 383,-199 389,-193 395,-193 395,-193 502,-193 502,-193 508,-193 514,-199 514,-205 514,-205 514,-249 514,-249 514,-255 508,-261 502,-261\"/>\n<text text-anchor=\"start\" x=\"391\" y=\"-245.8\" font-family=\"Helvetica,sans-Serif\" font-size=\"14.00\">At_rest_bp ≤ 137.0</text>\n<text text-anchor=\"start\" x=\"420.5\" y=\"-230.8\" font-family=\"Helvetica,sans-Serif\" font-size=\"14.00\">gini = 0.5</text>\n<text text-anchor=\"start\" x=\"411\" y=\"-215.8\" font-family=\"Helvetica,sans-Serif\" font-size=\"14.00\">samples = 2</text>\n<text text-anchor=\"start\" x=\"409\" y=\"-200.8\" font-family=\"Helvetica,sans-Serif\" font-size=\"14.00\">value = [1, 1]</text>\n</g>\n<!-- 14&#45;&gt;16 -->\n<g id=\"edge16\" class=\"edge\">\n<title>14&#45;&gt;16</title>\n<path fill=\"none\" stroke=\"black\" d=\"M439.05,-296.88C440.16,-288.78 441.37,-279.98 442.53,-271.47\"/>\n<polygon fill=\"black\" stroke=\"black\" points=\"446.04,-271.68 443.93,-261.3 439.1,-270.73 446.04,-271.68\"/>\n</g>\n<!-- 17 -->\n<g id=\"node18\" class=\"node\">\n<title>17</title>\n<path fill=\"#399de5\" stroke=\"black\" d=\"M376,-149.5C376,-149.5 305,-149.5 305,-149.5 299,-149.5 293,-143.5 293,-137.5 293,-137.5 293,-108.5 293,-108.5 293,-102.5 299,-96.5 305,-96.5 305,-96.5 376,-96.5 376,-96.5 382,-96.5 388,-102.5 388,-108.5 388,-108.5 388,-137.5 388,-137.5 388,-143.5 382,-149.5 376,-149.5\"/>\n<text text-anchor=\"start\" x=\"312.5\" y=\"-134.3\" font-family=\"Helvetica,sans-Serif\" font-size=\"14.00\">gini = 0.0</text>\n<text text-anchor=\"start\" x=\"303\" y=\"-119.3\" font-family=\"Helvetica,sans-Serif\" font-size=\"14.00\">samples = 1</text>\n<text text-anchor=\"start\" x=\"301\" y=\"-104.3\" font-family=\"Helvetica,sans-Serif\" font-size=\"14.00\">value = [0, 1]</text>\n</g>\n<!-- 16&#45;&gt;17 -->\n<g id=\"edge17\" class=\"edge\">\n<title>16&#45;&gt;17</title>\n<path fill=\"none\" stroke=\"black\" d=\"M413.44,-192.88C401.09,-181.23 387.24,-168.14 374.95,-156.53\"/>\n<polygon fill=\"black\" stroke=\"black\" points=\"377.19,-153.84 367.52,-149.52 372.39,-158.93 377.19,-153.84\"/>\n</g>\n<!-- 18 -->\n<g id=\"node19\" class=\"node\">\n<title>18</title>\n<path fill=\"#e58139\" stroke=\"black\" d=\"M489,-149.5C489,-149.5 418,-149.5 418,-149.5 412,-149.5 406,-143.5 406,-137.5 406,-137.5 406,-108.5 406,-108.5 406,-102.5 412,-96.5 418,-96.5 418,-96.5 489,-96.5 489,-96.5 495,-96.5 501,-102.5 501,-108.5 501,-108.5 501,-137.5 501,-137.5 501,-143.5 495,-149.5 489,-149.5\"/>\n<text text-anchor=\"start\" x=\"425.5\" y=\"-134.3\" font-family=\"Helvetica,sans-Serif\" font-size=\"14.00\">gini = 0.0</text>\n<text text-anchor=\"start\" x=\"416\" y=\"-119.3\" font-family=\"Helvetica,sans-Serif\" font-size=\"14.00\">samples = 1</text>\n<text text-anchor=\"start\" x=\"414\" y=\"-104.3\" font-family=\"Helvetica,sans-Serif\" font-size=\"14.00\">value = [1, 0]</text>\n</g>\n<!-- 16&#45;&gt;18 -->\n<g id=\"edge18\" class=\"edge\">\n<title>16&#45;&gt;18</title>\n<path fill=\"none\" stroke=\"black\" d=\"M450.12,-192.88C450.65,-182.22 451.23,-170.35 451.76,-159.52\"/>\n<polygon fill=\"black\" stroke=\"black\" points=\"455.26,-159.68 452.25,-149.52 448.26,-159.34 455.26,-159.68\"/>\n</g>\n<!-- 20 -->\n<g id=\"node21\" class=\"node\">\n<title>20</title>\n<path fill=\"#9ccef2\" stroke=\"black\" d=\"M621,-261C621,-261 544,-261 544,-261 538,-261 532,-255 532,-249 532,-249 532,-205 532,-205 532,-199 538,-193 544,-193 544,-193 621,-193 621,-193 627,-193 633,-199 633,-205 633,-205 633,-249 633,-249 633,-255 627,-261 621,-261\"/>\n<text text-anchor=\"start\" x=\"540\" y=\"-245.8\" font-family=\"Helvetica,sans-Serif\" font-size=\"14.00\">Oldpeak ≤ 0.2</text>\n<text text-anchor=\"start\" x=\"547\" y=\"-230.8\" font-family=\"Helvetica,sans-Serif\" font-size=\"14.00\">gini = 0.444</text>\n<text text-anchor=\"start\" x=\"545\" y=\"-215.8\" font-family=\"Helvetica,sans-Serif\" font-size=\"14.00\">samples = 6</text>\n<text text-anchor=\"start\" x=\"543\" y=\"-200.8\" font-family=\"Helvetica,sans-Serif\" font-size=\"14.00\">value = [2, 4]</text>\n</g>\n<!-- 19&#45;&gt;20 -->\n<g id=\"edge20\" class=\"edge\">\n<title>19&#45;&gt;20</title>\n<path fill=\"none\" stroke=\"black\" d=\"M582.5,-296.88C582.5,-288.78 582.5,-279.98 582.5,-271.47\"/>\n<polygon fill=\"black\" stroke=\"black\" points=\"586,-271.3 582.5,-261.3 579,-271.3 586,-271.3\"/>\n</g>\n<!-- 25 -->\n<g id=\"node26\" class=\"node\">\n<title>25</title>\n<path fill=\"#e58139\" stroke=\"black\" d=\"M734,-253.5C734,-253.5 663,-253.5 663,-253.5 657,-253.5 651,-247.5 651,-241.5 651,-241.5 651,-212.5 651,-212.5 651,-206.5 657,-200.5 663,-200.5 663,-200.5 734,-200.5 734,-200.5 740,-200.5 746,-206.5 746,-212.5 746,-212.5 746,-241.5 746,-241.5 746,-247.5 740,-253.5 734,-253.5\"/>\n<text text-anchor=\"start\" x=\"670.5\" y=\"-238.3\" font-family=\"Helvetica,sans-Serif\" font-size=\"14.00\">gini = 0.0</text>\n<text text-anchor=\"start\" x=\"661\" y=\"-223.3\" font-family=\"Helvetica,sans-Serif\" font-size=\"14.00\">samples = 2</text>\n<text text-anchor=\"start\" x=\"659\" y=\"-208.3\" font-family=\"Helvetica,sans-Serif\" font-size=\"14.00\">value = [2, 0]</text>\n</g>\n<!-- 19&#45;&gt;25 -->\n<g id=\"edge25\" class=\"edge\">\n<title>19&#45;&gt;25</title>\n<path fill=\"none\" stroke=\"black\" d=\"M620.16,-296.88C633.54,-285.12 648.58,-271.89 661.88,-260.2\"/>\n<polygon fill=\"black\" stroke=\"black\" points=\"664.28,-262.75 669.48,-253.52 659.66,-257.49 664.28,-262.75\"/>\n</g>\n<!-- 21 -->\n<g id=\"node22\" class=\"node\">\n<title>21</title>\n<path fill=\"#399de5\" stroke=\"black\" d=\"M612,-149.5C612,-149.5 541,-149.5 541,-149.5 535,-149.5 529,-143.5 529,-137.5 529,-137.5 529,-108.5 529,-108.5 529,-102.5 535,-96.5 541,-96.5 541,-96.5 612,-96.5 612,-96.5 618,-96.5 624,-102.5 624,-108.5 624,-108.5 624,-137.5 624,-137.5 624,-143.5 618,-149.5 612,-149.5\"/>\n<text text-anchor=\"start\" x=\"548.5\" y=\"-134.3\" font-family=\"Helvetica,sans-Serif\" font-size=\"14.00\">gini = 0.0</text>\n<text text-anchor=\"start\" x=\"539\" y=\"-119.3\" font-family=\"Helvetica,sans-Serif\" font-size=\"14.00\">samples = 3</text>\n<text text-anchor=\"start\" x=\"537\" y=\"-104.3\" font-family=\"Helvetica,sans-Serif\" font-size=\"14.00\">value = [0, 3]</text>\n</g>\n<!-- 20&#45;&gt;21 -->\n<g id=\"edge21\" class=\"edge\">\n<title>20&#45;&gt;21</title>\n<path fill=\"none\" stroke=\"black\" d=\"M580.55,-192.88C579.92,-182.22 579.23,-170.35 578.59,-159.52\"/>\n<polygon fill=\"black\" stroke=\"black\" points=\"582.08,-159.3 578,-149.52 575.09,-159.71 582.08,-159.3\"/>\n</g>\n<!-- 22 -->\n<g id=\"node23\" class=\"node\">\n<title>22</title>\n<path fill=\"#f2c09c\" stroke=\"black\" d=\"M731,-157C731,-157 654,-157 654,-157 648,-157 642,-151 642,-145 642,-145 642,-101 642,-101 642,-95 648,-89 654,-89 654,-89 731,-89 731,-89 737,-89 743,-95 743,-101 743,-101 743,-145 743,-145 743,-151 737,-157 731,-157\"/>\n<text text-anchor=\"start\" x=\"650\" y=\"-141.8\" font-family=\"Helvetica,sans-Serif\" font-size=\"14.00\">Oldpeak ≤ 1.4</text>\n<text text-anchor=\"start\" x=\"657\" y=\"-126.8\" font-family=\"Helvetica,sans-Serif\" font-size=\"14.00\">gini = 0.444</text>\n<text text-anchor=\"start\" x=\"655\" y=\"-111.8\" font-family=\"Helvetica,sans-Serif\" font-size=\"14.00\">samples = 3</text>\n<text text-anchor=\"start\" x=\"653\" y=\"-96.8\" font-family=\"Helvetica,sans-Serif\" font-size=\"14.00\">value = [2, 1]</text>\n</g>\n<!-- 20&#45;&gt;22 -->\n<g id=\"edge22\" class=\"edge\">\n<title>20&#45;&gt;22</title>\n<path fill=\"none\" stroke=\"black\" d=\"M618.21,-192.88C628.11,-183.71 638.96,-173.65 649.23,-164.12\"/>\n<polygon fill=\"black\" stroke=\"black\" points=\"651.64,-166.67 656.59,-157.3 646.88,-161.53 651.64,-166.67\"/>\n</g>\n<!-- 23 -->\n<g id=\"node24\" class=\"node\">\n<title>23</title>\n<path fill=\"#e58139\" stroke=\"black\" d=\"M672,-53C672,-53 601,-53 601,-53 595,-53 589,-47 589,-41 589,-41 589,-12 589,-12 589,-6 595,0 601,0 601,0 672,0 672,0 678,0 684,-6 684,-12 684,-12 684,-41 684,-41 684,-47 678,-53 672,-53\"/>\n<text text-anchor=\"start\" x=\"608.5\" y=\"-37.8\" font-family=\"Helvetica,sans-Serif\" font-size=\"14.00\">gini = 0.0</text>\n<text text-anchor=\"start\" x=\"599\" y=\"-22.8\" font-family=\"Helvetica,sans-Serif\" font-size=\"14.00\">samples = 2</text>\n<text text-anchor=\"start\" x=\"597\" y=\"-7.8\" font-family=\"Helvetica,sans-Serif\" font-size=\"14.00\">value = [2, 0]</text>\n</g>\n<!-- 22&#45;&gt;23 -->\n<g id=\"edge23\" class=\"edge\">\n<title>22&#45;&gt;23</title>\n<path fill=\"none\" stroke=\"black\" d=\"M672.91,-88.95C667.76,-80.26 662.2,-70.86 657,-62.09\"/>\n<polygon fill=\"black\" stroke=\"black\" points=\"659.86,-60.06 651.75,-53.24 653.84,-63.62 659.86,-60.06\"/>\n</g>\n<!-- 24 -->\n<g id=\"node25\" class=\"node\">\n<title>24</title>\n<path fill=\"#399de5\" stroke=\"black\" d=\"M785,-53C785,-53 714,-53 714,-53 708,-53 702,-47 702,-41 702,-41 702,-12 702,-12 702,-6 708,0 714,0 714,0 785,0 785,0 791,0 797,-6 797,-12 797,-12 797,-41 797,-41 797,-47 791,-53 785,-53\"/>\n<text text-anchor=\"start\" x=\"721.5\" y=\"-37.8\" font-family=\"Helvetica,sans-Serif\" font-size=\"14.00\">gini = 0.0</text>\n<text text-anchor=\"start\" x=\"712\" y=\"-22.8\" font-family=\"Helvetica,sans-Serif\" font-size=\"14.00\">samples = 1</text>\n<text text-anchor=\"start\" x=\"710\" y=\"-7.8\" font-family=\"Helvetica,sans-Serif\" font-size=\"14.00\">value = [0, 1]</text>\n</g>\n<!-- 22&#45;&gt;24 -->\n<g id=\"edge24\" class=\"edge\">\n<title>22&#45;&gt;24</title>\n<path fill=\"none\" stroke=\"black\" d=\"M712.44,-88.95C717.73,-80.17 723.47,-70.66 728.8,-61.82\"/>\n<polygon fill=\"black\" stroke=\"black\" points=\"731.81,-63.61 733.98,-53.24 725.81,-59.99 731.81,-63.61\"/>\n</g>\n<!-- 28 -->\n<g id=\"node29\" class=\"node\">\n<title>28</title>\n<path fill=\"#eda876\" stroke=\"black\" d=\"M920.5,-677C920.5,-677 842.5,-677 842.5,-677 836.5,-677 830.5,-671 830.5,-665 830.5,-665 830.5,-621 830.5,-621 830.5,-615 836.5,-609 842.5,-609 842.5,-609 920.5,-609 920.5,-609 926.5,-609 932.5,-615 932.5,-621 932.5,-621 932.5,-665 932.5,-665 932.5,-671 926.5,-677 920.5,-677\"/>\n<text text-anchor=\"start\" x=\"847\" y=\"-661.8\" font-family=\"Helvetica,sans-Serif\" font-size=\"14.00\">Slope ≤ 1.5</text>\n<text text-anchor=\"start\" x=\"849.5\" y=\"-646.8\" font-family=\"Helvetica,sans-Serif\" font-size=\"14.00\">gini = 0.36</text>\n<text text-anchor=\"start\" x=\"840.5\" y=\"-631.8\" font-family=\"Helvetica,sans-Serif\" font-size=\"14.00\">samples = 17</text>\n<text text-anchor=\"start\" x=\"838.5\" y=\"-616.8\" font-family=\"Helvetica,sans-Serif\" font-size=\"14.00\">value = [13, 4]</text>\n</g>\n<!-- 27&#45;&gt;28 -->\n<g id=\"edge28\" class=\"edge\">\n<title>27&#45;&gt;28</title>\n<path fill=\"none\" stroke=\"black\" d=\"M907.16,-712.88C904.08,-704.6 900.72,-695.6 897.49,-686.91\"/>\n<polygon fill=\"black\" stroke=\"black\" points=\"900.68,-685.45 893.91,-677.3 894.12,-687.89 900.68,-685.45\"/>\n</g>\n<!-- 37 -->\n<g id=\"node38\" class=\"node\">\n<title>37</title>\n<path fill=\"#6ab6ec\" stroke=\"black\" d=\"M1118.5,-677C1118.5,-677 990.5,-677 990.5,-677 984.5,-677 978.5,-671 978.5,-665 978.5,-665 978.5,-621 978.5,-621 978.5,-615 984.5,-609 990.5,-609 990.5,-609 1118.5,-609 1118.5,-609 1124.5,-609 1130.5,-615 1130.5,-621 1130.5,-621 1130.5,-665 1130.5,-665 1130.5,-671 1124.5,-677 1118.5,-677\"/>\n<text text-anchor=\"start\" x=\"986.5\" y=\"-661.8\" font-family=\"Helvetica,sans-Serif\" font-size=\"14.00\">Chest_pain_type ≤ 3.5</text>\n<text text-anchor=\"start\" x=\"1022.5\" y=\"-646.8\" font-family=\"Helvetica,sans-Serif\" font-size=\"14.00\">gini = 0.32</text>\n<text text-anchor=\"start\" x=\"1013.5\" y=\"-631.8\" font-family=\"Helvetica,sans-Serif\" font-size=\"14.00\">samples = 15</text>\n<text text-anchor=\"start\" x=\"1011.5\" y=\"-616.8\" font-family=\"Helvetica,sans-Serif\" font-size=\"14.00\">value = [3, 12]</text>\n</g>\n<!-- 27&#45;&gt;37 -->\n<g id=\"edge37\" class=\"edge\">\n<title>27&#45;&gt;37</title>\n<path fill=\"none\" stroke=\"black\" d=\"M963.33,-712.88C975.71,-703.53 989.3,-693.26 1002.13,-683.57\"/>\n<polygon fill=\"black\" stroke=\"black\" points=\"1004.56,-686.12 1010.43,-677.3 1000.34,-680.54 1004.56,-686.12\"/>\n</g>\n<!-- 29 -->\n<g id=\"node30\" class=\"node\">\n<title>29</title>\n<path fill=\"#e78c4b\" stroke=\"black\" d=\"M770.5,-573C770.5,-573 660.5,-573 660.5,-573 654.5,-573 648.5,-567 648.5,-561 648.5,-561 648.5,-517 648.5,-517 648.5,-511 654.5,-505 660.5,-505 660.5,-505 770.5,-505 770.5,-505 776.5,-505 782.5,-511 782.5,-517 782.5,-517 782.5,-561 782.5,-561 782.5,-567 776.5,-573 770.5,-573\"/>\n<text text-anchor=\"start\" x=\"656.5\" y=\"-557.8\" font-family=\"Helvetica,sans-Serif\" font-size=\"14.00\">Cholesterol ≤ 318.5</text>\n<text text-anchor=\"start\" x=\"680\" y=\"-542.8\" font-family=\"Helvetica,sans-Serif\" font-size=\"14.00\">gini = 0.153</text>\n<text text-anchor=\"start\" x=\"674.5\" y=\"-527.8\" font-family=\"Helvetica,sans-Serif\" font-size=\"14.00\">samples = 12</text>\n<text text-anchor=\"start\" x=\"672.5\" y=\"-512.8\" font-family=\"Helvetica,sans-Serif\" font-size=\"14.00\">value = [11, 1]</text>\n</g>\n<!-- 28&#45;&gt;29 -->\n<g id=\"edge29\" class=\"edge\">\n<title>28&#45;&gt;29</title>\n<path fill=\"none\" stroke=\"black\" d=\"M830.34,-610.56C813.87,-600.45 795.43,-589.12 778.23,-578.55\"/>\n<polygon fill=\"black\" stroke=\"black\" points=\"779.72,-575.35 769.37,-573.1 776.05,-581.32 779.72,-575.35\"/>\n</g>\n<!-- 34 -->\n<g id=\"node35\" class=\"node\">\n<title>34</title>\n<path fill=\"#bddef6\" stroke=\"black\" d=\"M921.5,-573C921.5,-573 841.5,-573 841.5,-573 835.5,-573 829.5,-567 829.5,-561 829.5,-561 829.5,-517 829.5,-517 829.5,-511 835.5,-505 841.5,-505 841.5,-505 921.5,-505 921.5,-505 927.5,-505 933.5,-511 933.5,-517 933.5,-517 933.5,-561 933.5,-561 933.5,-567 927.5,-573 921.5,-573\"/>\n<text text-anchor=\"start\" x=\"837.5\" y=\"-557.8\" font-family=\"Helvetica,sans-Serif\" font-size=\"14.00\">Maxhr ≤ 154.5</text>\n<text text-anchor=\"start\" x=\"849.5\" y=\"-542.8\" font-family=\"Helvetica,sans-Serif\" font-size=\"14.00\">gini = 0.48</text>\n<text text-anchor=\"start\" x=\"844\" y=\"-527.8\" font-family=\"Helvetica,sans-Serif\" font-size=\"14.00\">samples = 5</text>\n<text text-anchor=\"start\" x=\"842\" y=\"-512.8\" font-family=\"Helvetica,sans-Serif\" font-size=\"14.00\">value = [2, 3]</text>\n</g>\n<!-- 28&#45;&gt;34 -->\n<g id=\"edge34\" class=\"edge\">\n<title>28&#45;&gt;34</title>\n<path fill=\"none\" stroke=\"black\" d=\"M881.5,-608.88C881.5,-600.78 881.5,-591.98 881.5,-583.47\"/>\n<polygon fill=\"black\" stroke=\"black\" points=\"885,-583.3 881.5,-573.3 878,-583.3 885,-583.3\"/>\n</g>\n<!-- 30 -->\n<g id=\"node31\" class=\"node\">\n<title>30</title>\n<path fill=\"#e58139\" stroke=\"black\" d=\"M637.5,-461.5C637.5,-461.5 559.5,-461.5 559.5,-461.5 553.5,-461.5 547.5,-455.5 547.5,-449.5 547.5,-449.5 547.5,-420.5 547.5,-420.5 547.5,-414.5 553.5,-408.5 559.5,-408.5 559.5,-408.5 637.5,-408.5 637.5,-408.5 643.5,-408.5 649.5,-414.5 649.5,-420.5 649.5,-420.5 649.5,-449.5 649.5,-449.5 649.5,-455.5 643.5,-461.5 637.5,-461.5\"/>\n<text text-anchor=\"start\" x=\"570.5\" y=\"-446.3\" font-family=\"Helvetica,sans-Serif\" font-size=\"14.00\">gini = 0.0</text>\n<text text-anchor=\"start\" x=\"557.5\" y=\"-431.3\" font-family=\"Helvetica,sans-Serif\" font-size=\"14.00\">samples = 10</text>\n<text text-anchor=\"start\" x=\"555.5\" y=\"-416.3\" font-family=\"Helvetica,sans-Serif\" font-size=\"14.00\">value = [10, 0]</text>\n</g>\n<!-- 29&#45;&gt;30 -->\n<g id=\"edge30\" class=\"edge\">\n<title>29&#45;&gt;30</title>\n<path fill=\"none\" stroke=\"black\" d=\"M677.51,-504.88C664.02,-493.12 648.85,-479.89 635.44,-468.2\"/>\n<polygon fill=\"black\" stroke=\"black\" points=\"637.61,-465.45 627.77,-461.52 633.01,-470.73 637.61,-465.45\"/>\n</g>\n<!-- 31 -->\n<g id=\"node32\" class=\"node\">\n<title>31</title>\n<path fill=\"#ffffff\" stroke=\"black\" d=\"M751,-469C751,-469 680,-469 680,-469 674,-469 668,-463 668,-457 668,-457 668,-413 668,-413 668,-407 674,-401 680,-401 680,-401 751,-401 751,-401 757,-401 763,-407 763,-413 763,-413 763,-457 763,-457 763,-463 757,-469 751,-469\"/>\n<text text-anchor=\"start\" x=\"689.5\" y=\"-453.8\" font-family=\"Helvetica,sans-Serif\" font-size=\"14.00\">Ca ≤ 1.5</text>\n<text text-anchor=\"start\" x=\"687.5\" y=\"-438.8\" font-family=\"Helvetica,sans-Serif\" font-size=\"14.00\">gini = 0.5</text>\n<text text-anchor=\"start\" x=\"678\" y=\"-423.8\" font-family=\"Helvetica,sans-Serif\" font-size=\"14.00\">samples = 2</text>\n<text text-anchor=\"start\" x=\"676\" y=\"-408.8\" font-family=\"Helvetica,sans-Serif\" font-size=\"14.00\">value = [1, 1]</text>\n</g>\n<!-- 29&#45;&gt;31 -->\n<g id=\"edge31\" class=\"edge\">\n<title>29&#45;&gt;31</title>\n<path fill=\"none\" stroke=\"black\" d=\"M715.5,-504.88C715.5,-496.78 715.5,-487.98 715.5,-479.47\"/>\n<polygon fill=\"black\" stroke=\"black\" points=\"719,-479.3 715.5,-469.3 712,-479.3 719,-479.3\"/>\n</g>\n<!-- 32 -->\n<g id=\"node33\" class=\"node\">\n<title>32</title>\n<path fill=\"#e58139\" stroke=\"black\" d=\"M751,-357.5C751,-357.5 680,-357.5 680,-357.5 674,-357.5 668,-351.5 668,-345.5 668,-345.5 668,-316.5 668,-316.5 668,-310.5 674,-304.5 680,-304.5 680,-304.5 751,-304.5 751,-304.5 757,-304.5 763,-310.5 763,-316.5 763,-316.5 763,-345.5 763,-345.5 763,-351.5 757,-357.5 751,-357.5\"/>\n<text text-anchor=\"start\" x=\"687.5\" y=\"-342.3\" font-family=\"Helvetica,sans-Serif\" font-size=\"14.00\">gini = 0.0</text>\n<text text-anchor=\"start\" x=\"678\" y=\"-327.3\" font-family=\"Helvetica,sans-Serif\" font-size=\"14.00\">samples = 1</text>\n<text text-anchor=\"start\" x=\"676\" y=\"-312.3\" font-family=\"Helvetica,sans-Serif\" font-size=\"14.00\">value = [1, 0]</text>\n</g>\n<!-- 31&#45;&gt;32 -->\n<g id=\"edge32\" class=\"edge\">\n<title>31&#45;&gt;32</title>\n<path fill=\"none\" stroke=\"black\" d=\"M715.5,-400.88C715.5,-390.33 715.5,-378.6 715.5,-367.85\"/>\n<polygon fill=\"black\" stroke=\"black\" points=\"719,-367.52 715.5,-357.52 712,-367.52 719,-367.52\"/>\n</g>\n<!-- 33 -->\n<g id=\"node34\" class=\"node\">\n<title>33</title>\n<path fill=\"#399de5\" stroke=\"black\" d=\"M864,-357.5C864,-357.5 793,-357.5 793,-357.5 787,-357.5 781,-351.5 781,-345.5 781,-345.5 781,-316.5 781,-316.5 781,-310.5 787,-304.5 793,-304.5 793,-304.5 864,-304.5 864,-304.5 870,-304.5 876,-310.5 876,-316.5 876,-316.5 876,-345.5 876,-345.5 876,-351.5 870,-357.5 864,-357.5\"/>\n<text text-anchor=\"start\" x=\"800.5\" y=\"-342.3\" font-family=\"Helvetica,sans-Serif\" font-size=\"14.00\">gini = 0.0</text>\n<text text-anchor=\"start\" x=\"791\" y=\"-327.3\" font-family=\"Helvetica,sans-Serif\" font-size=\"14.00\">samples = 1</text>\n<text text-anchor=\"start\" x=\"789\" y=\"-312.3\" font-family=\"Helvetica,sans-Serif\" font-size=\"14.00\">value = [0, 1]</text>\n</g>\n<!-- 31&#45;&gt;33 -->\n<g id=\"edge33\" class=\"edge\">\n<title>31&#45;&gt;33</title>\n<path fill=\"none\" stroke=\"black\" d=\"M752.19,-400.88C765.1,-389.23 779.6,-376.14 792.46,-364.53\"/>\n<polygon fill=\"black\" stroke=\"black\" points=\"795.15,-366.82 800.23,-357.52 790.46,-361.62 795.15,-366.82\"/>\n</g>\n<!-- 35 -->\n<g id=\"node36\" class=\"node\">\n<title>35</title>\n<path fill=\"#e58139\" stroke=\"black\" d=\"M864,-461.5C864,-461.5 793,-461.5 793,-461.5 787,-461.5 781,-455.5 781,-449.5 781,-449.5 781,-420.5 781,-420.5 781,-414.5 787,-408.5 793,-408.5 793,-408.5 864,-408.5 864,-408.5 870,-408.5 876,-414.5 876,-420.5 876,-420.5 876,-449.5 876,-449.5 876,-455.5 870,-461.5 864,-461.5\"/>\n<text text-anchor=\"start\" x=\"800.5\" y=\"-446.3\" font-family=\"Helvetica,sans-Serif\" font-size=\"14.00\">gini = 0.0</text>\n<text text-anchor=\"start\" x=\"791\" y=\"-431.3\" font-family=\"Helvetica,sans-Serif\" font-size=\"14.00\">samples = 2</text>\n<text text-anchor=\"start\" x=\"789\" y=\"-416.3\" font-family=\"Helvetica,sans-Serif\" font-size=\"14.00\">value = [2, 0]</text>\n</g>\n<!-- 34&#45;&gt;35 -->\n<g id=\"edge35\" class=\"edge\">\n<title>34&#45;&gt;35</title>\n<path fill=\"none\" stroke=\"black\" d=\"M864.29,-504.88C858.58,-493.89 852.2,-481.62 846.44,-470.52\"/>\n<polygon fill=\"black\" stroke=\"black\" points=\"849.48,-468.78 841.76,-461.52 843.27,-472.01 849.48,-468.78\"/>\n</g>\n<!-- 36 -->\n<g id=\"node37\" class=\"node\">\n<title>36</title>\n<path fill=\"#399de5\" stroke=\"black\" d=\"M977,-461.5C977,-461.5 906,-461.5 906,-461.5 900,-461.5 894,-455.5 894,-449.5 894,-449.5 894,-420.5 894,-420.5 894,-414.5 900,-408.5 906,-408.5 906,-408.5 977,-408.5 977,-408.5 983,-408.5 989,-414.5 989,-420.5 989,-420.5 989,-449.5 989,-449.5 989,-455.5 983,-461.5 977,-461.5\"/>\n<text text-anchor=\"start\" x=\"913.5\" y=\"-446.3\" font-family=\"Helvetica,sans-Serif\" font-size=\"14.00\">gini = 0.0</text>\n<text text-anchor=\"start\" x=\"904\" y=\"-431.3\" font-family=\"Helvetica,sans-Serif\" font-size=\"14.00\">samples = 3</text>\n<text text-anchor=\"start\" x=\"902\" y=\"-416.3\" font-family=\"Helvetica,sans-Serif\" font-size=\"14.00\">value = [0, 3]</text>\n</g>\n<!-- 34&#45;&gt;36 -->\n<g id=\"edge36\" class=\"edge\">\n<title>34&#45;&gt;36</title>\n<path fill=\"none\" stroke=\"black\" d=\"M900.98,-504.88C907.51,-493.78 914.81,-481.37 921.39,-470.18\"/>\n<polygon fill=\"black\" stroke=\"black\" points=\"924.43,-471.91 926.49,-461.52 918.4,-468.36 924.43,-471.91\"/>\n</g>\n<!-- 38 -->\n<g id=\"node39\" class=\"node\">\n<title>38</title>\n<path fill=\"#ffffff\" stroke=\"black\" d=\"M1108,-573C1108,-573 1001,-573 1001,-573 995,-573 989,-567 989,-561 989,-561 989,-517 989,-517 989,-511 995,-505 1001,-505 1001,-505 1108,-505 1108,-505 1114,-505 1120,-511 1120,-517 1120,-517 1120,-561 1120,-561 1120,-567 1114,-573 1108,-573\"/>\n<text text-anchor=\"start\" x=\"997\" y=\"-557.8\" font-family=\"Helvetica,sans-Serif\" font-size=\"14.00\">At_rest_bp ≤ 129.5</text>\n<text text-anchor=\"start\" x=\"1026.5\" y=\"-542.8\" font-family=\"Helvetica,sans-Serif\" font-size=\"14.00\">gini = 0.5</text>\n<text text-anchor=\"start\" x=\"1017\" y=\"-527.8\" font-family=\"Helvetica,sans-Serif\" font-size=\"14.00\">samples = 6</text>\n<text text-anchor=\"start\" x=\"1015\" y=\"-512.8\" font-family=\"Helvetica,sans-Serif\" font-size=\"14.00\">value = [3, 3]</text>\n</g>\n<!-- 37&#45;&gt;38 -->\n<g id=\"edge38\" class=\"edge\">\n<title>37&#45;&gt;38</title>\n<path fill=\"none\" stroke=\"black\" d=\"M1054.5,-608.88C1054.5,-600.78 1054.5,-591.98 1054.5,-583.47\"/>\n<polygon fill=\"black\" stroke=\"black\" points=\"1058,-583.3 1054.5,-573.3 1051,-583.3 1058,-583.3\"/>\n</g>\n<!-- 43 -->\n<g id=\"node44\" class=\"node\">\n<title>43</title>\n<path fill=\"#399de5\" stroke=\"black\" d=\"M1221,-565.5C1221,-565.5 1150,-565.5 1150,-565.5 1144,-565.5 1138,-559.5 1138,-553.5 1138,-553.5 1138,-524.5 1138,-524.5 1138,-518.5 1144,-512.5 1150,-512.5 1150,-512.5 1221,-512.5 1221,-512.5 1227,-512.5 1233,-518.5 1233,-524.5 1233,-524.5 1233,-553.5 1233,-553.5 1233,-559.5 1227,-565.5 1221,-565.5\"/>\n<text text-anchor=\"start\" x=\"1157.5\" y=\"-550.3\" font-family=\"Helvetica,sans-Serif\" font-size=\"14.00\">gini = 0.0</text>\n<text text-anchor=\"start\" x=\"1148\" y=\"-535.3\" font-family=\"Helvetica,sans-Serif\" font-size=\"14.00\">samples = 9</text>\n<text text-anchor=\"start\" x=\"1146\" y=\"-520.3\" font-family=\"Helvetica,sans-Serif\" font-size=\"14.00\">value = [0, 9]</text>\n</g>\n<!-- 37&#45;&gt;43 -->\n<g id=\"edge43\" class=\"edge\">\n<title>37&#45;&gt;43</title>\n<path fill=\"none\" stroke=\"black\" d=\"M1097.03,-608.88C1112.29,-597.01 1129.44,-583.65 1144.56,-571.88\"/>\n<polygon fill=\"black\" stroke=\"black\" points=\"1146.98,-574.43 1152.72,-565.52 1142.68,-568.9 1146.98,-574.43\"/>\n</g>\n<!-- 39 -->\n<g id=\"node40\" class=\"node\">\n<title>39</title>\n<path fill=\"#e58139\" stroke=\"black\" d=\"M1090,-461.5C1090,-461.5 1019,-461.5 1019,-461.5 1013,-461.5 1007,-455.5 1007,-449.5 1007,-449.5 1007,-420.5 1007,-420.5 1007,-414.5 1013,-408.5 1019,-408.5 1019,-408.5 1090,-408.5 1090,-408.5 1096,-408.5 1102,-414.5 1102,-420.5 1102,-420.5 1102,-449.5 1102,-449.5 1102,-455.5 1096,-461.5 1090,-461.5\"/>\n<text text-anchor=\"start\" x=\"1026.5\" y=\"-446.3\" font-family=\"Helvetica,sans-Serif\" font-size=\"14.00\">gini = 0.0</text>\n<text text-anchor=\"start\" x=\"1017\" y=\"-431.3\" font-family=\"Helvetica,sans-Serif\" font-size=\"14.00\">samples = 2</text>\n<text text-anchor=\"start\" x=\"1015\" y=\"-416.3\" font-family=\"Helvetica,sans-Serif\" font-size=\"14.00\">value = [2, 0]</text>\n</g>\n<!-- 38&#45;&gt;39 -->\n<g id=\"edge39\" class=\"edge\">\n<title>38&#45;&gt;39</title>\n<path fill=\"none\" stroke=\"black\" d=\"M1054.5,-504.88C1054.5,-494.33 1054.5,-482.6 1054.5,-471.85\"/>\n<polygon fill=\"black\" stroke=\"black\" points=\"1058,-471.52 1054.5,-461.52 1051,-471.52 1058,-471.52\"/>\n</g>\n<!-- 40 -->\n<g id=\"node41\" class=\"node\">\n<title>40</title>\n<path fill=\"#7bbeee\" stroke=\"black\" d=\"M1203,-469C1203,-469 1132,-469 1132,-469 1126,-469 1120,-463 1120,-457 1120,-457 1120,-413 1120,-413 1120,-407 1126,-401 1132,-401 1132,-401 1203,-401 1203,-401 1209,-401 1215,-407 1215,-413 1215,-413 1215,-457 1215,-457 1215,-463 1209,-469 1203,-469\"/>\n<text text-anchor=\"start\" x=\"1134.5\" y=\"-453.8\" font-family=\"Helvetica,sans-Serif\" font-size=\"14.00\">Age ≤ 67.0</text>\n<text text-anchor=\"start\" x=\"1132\" y=\"-438.8\" font-family=\"Helvetica,sans-Serif\" font-size=\"14.00\">gini = 0.375</text>\n<text text-anchor=\"start\" x=\"1130\" y=\"-423.8\" font-family=\"Helvetica,sans-Serif\" font-size=\"14.00\">samples = 4</text>\n<text text-anchor=\"start\" x=\"1128\" y=\"-408.8\" font-family=\"Helvetica,sans-Serif\" font-size=\"14.00\">value = [1, 3]</text>\n</g>\n<!-- 38&#45;&gt;40 -->\n<g id=\"edge40\" class=\"edge\">\n<title>38&#45;&gt;40</title>\n<path fill=\"none\" stroke=\"black\" d=\"M1091.19,-504.88C1101.35,-495.71 1112.5,-485.65 1123.05,-476.12\"/>\n<polygon fill=\"black\" stroke=\"black\" points=\"1125.53,-478.6 1130.61,-469.3 1120.84,-473.4 1125.53,-478.6\"/>\n</g>\n<!-- 41 -->\n<g id=\"node42\" class=\"node\">\n<title>41</title>\n<path fill=\"#399de5\" stroke=\"black\" d=\"M1090,-357.5C1090,-357.5 1019,-357.5 1019,-357.5 1013,-357.5 1007,-351.5 1007,-345.5 1007,-345.5 1007,-316.5 1007,-316.5 1007,-310.5 1013,-304.5 1019,-304.5 1019,-304.5 1090,-304.5 1090,-304.5 1096,-304.5 1102,-310.5 1102,-316.5 1102,-316.5 1102,-345.5 1102,-345.5 1102,-351.5 1096,-357.5 1090,-357.5\"/>\n<text text-anchor=\"start\" x=\"1026.5\" y=\"-342.3\" font-family=\"Helvetica,sans-Serif\" font-size=\"14.00\">gini = 0.0</text>\n<text text-anchor=\"start\" x=\"1017\" y=\"-327.3\" font-family=\"Helvetica,sans-Serif\" font-size=\"14.00\">samples = 3</text>\n<text text-anchor=\"start\" x=\"1015\" y=\"-312.3\" font-family=\"Helvetica,sans-Serif\" font-size=\"14.00\">value = [0, 3]</text>\n</g>\n<!-- 40&#45;&gt;41 -->\n<g id=\"edge41\" class=\"edge\">\n<title>40&#45;&gt;41</title>\n<path fill=\"none\" stroke=\"black\" d=\"M1130.81,-400.88C1117.9,-389.23 1103.4,-376.14 1090.54,-364.53\"/>\n<polygon fill=\"black\" stroke=\"black\" points=\"1092.54,-361.62 1082.77,-357.52 1087.85,-366.82 1092.54,-361.62\"/>\n</g>\n<!-- 42 -->\n<g id=\"node43\" class=\"node\">\n<title>42</title>\n<path fill=\"#e58139\" stroke=\"black\" d=\"M1203,-357.5C1203,-357.5 1132,-357.5 1132,-357.5 1126,-357.5 1120,-351.5 1120,-345.5 1120,-345.5 1120,-316.5 1120,-316.5 1120,-310.5 1126,-304.5 1132,-304.5 1132,-304.5 1203,-304.5 1203,-304.5 1209,-304.5 1215,-310.5 1215,-316.5 1215,-316.5 1215,-345.5 1215,-345.5 1215,-351.5 1209,-357.5 1203,-357.5\"/>\n<text text-anchor=\"start\" x=\"1139.5\" y=\"-342.3\" font-family=\"Helvetica,sans-Serif\" font-size=\"14.00\">gini = 0.0</text>\n<text text-anchor=\"start\" x=\"1130\" y=\"-327.3\" font-family=\"Helvetica,sans-Serif\" font-size=\"14.00\">samples = 1</text>\n<text text-anchor=\"start\" x=\"1128\" y=\"-312.3\" font-family=\"Helvetica,sans-Serif\" font-size=\"14.00\">value = [1, 0]</text>\n</g>\n<!-- 40&#45;&gt;42 -->\n<g id=\"edge42\" class=\"edge\">\n<title>40&#45;&gt;42</title>\n<path fill=\"none\" stroke=\"black\" d=\"M1167.5,-400.88C1167.5,-390.33 1167.5,-378.6 1167.5,-367.85\"/>\n<polygon fill=\"black\" stroke=\"black\" points=\"1171,-367.52 1167.5,-357.52 1164,-367.52 1171,-367.52\"/>\n</g>\n<!-- 45 -->\n<g id=\"node46\" class=\"node\">\n<title>45</title>\n<path fill=\"#fae7da\" stroke=\"black\" d=\"M1798.5,-781C1798.5,-781 1712.5,-781 1712.5,-781 1706.5,-781 1700.5,-775 1700.5,-769 1700.5,-769 1700.5,-725 1700.5,-725 1700.5,-719 1706.5,-713 1712.5,-713 1712.5,-713 1798.5,-713 1798.5,-713 1804.5,-713 1810.5,-719 1810.5,-725 1810.5,-725 1810.5,-769 1810.5,-769 1810.5,-775 1804.5,-781 1798.5,-781\"/>\n<text text-anchor=\"start\" x=\"1729.5\" y=\"-765.8\" font-family=\"Helvetica,sans-Serif\" font-size=\"14.00\">Ca ≤ 0.5</text>\n<text text-anchor=\"start\" x=\"1720\" y=\"-750.8\" font-family=\"Helvetica,sans-Serif\" font-size=\"14.00\">gini = 0.495</text>\n<text text-anchor=\"start\" x=\"1714.5\" y=\"-735.8\" font-family=\"Helvetica,sans-Serif\" font-size=\"14.00\">samples = 29</text>\n<text text-anchor=\"start\" x=\"1708.5\" y=\"-720.8\" font-family=\"Helvetica,sans-Serif\" font-size=\"14.00\">value = [16, 13]</text>\n</g>\n<!-- 44&#45;&gt;45 -->\n<g id=\"edge45\" class=\"edge\">\n<title>44&#45;&gt;45</title>\n<path fill=\"none\" stroke=\"black\" d=\"M1755.5,-816.88C1755.5,-808.78 1755.5,-799.98 1755.5,-791.47\"/>\n<polygon fill=\"black\" stroke=\"black\" points=\"1759,-791.3 1755.5,-781.3 1752,-791.3 1759,-791.3\"/>\n</g>\n<!-- 66 -->\n<g id=\"node67\" class=\"node\">\n<title>66</title>\n<path fill=\"#51a9e8\" stroke=\"black\" d=\"M2159,-781C2159,-781 2074,-781 2074,-781 2068,-781 2062,-775 2062,-769 2062,-769 2062,-725 2062,-725 2062,-719 2068,-713 2074,-713 2074,-713 2159,-713 2159,-713 2165,-713 2171,-719 2171,-725 2171,-725 2171,-769 2171,-769 2171,-775 2165,-781 2159,-781\"/>\n<text text-anchor=\"start\" x=\"2070\" y=\"-765.8\" font-family=\"Helvetica,sans-Serif\" font-size=\"14.00\">Oldpeak ≤ 0.55</text>\n<text text-anchor=\"start\" x=\"2081\" y=\"-750.8\" font-family=\"Helvetica,sans-Serif\" font-size=\"14.00\">gini = 0.192</text>\n<text text-anchor=\"start\" x=\"2075.5\" y=\"-735.8\" font-family=\"Helvetica,sans-Serif\" font-size=\"14.00\">samples = 65</text>\n<text text-anchor=\"start\" x=\"2073.5\" y=\"-720.8\" font-family=\"Helvetica,sans-Serif\" font-size=\"14.00\">value = [7, 58]</text>\n</g>\n<!-- 44&#45;&gt;66 -->\n<g id=\"edge66\" class=\"edge\">\n<title>44&#45;&gt;66</title>\n<path fill=\"none\" stroke=\"black\" d=\"M1831.62,-828.49C1897.1,-809.99 1990.52,-783.6 2052.29,-766.14\"/>\n<polygon fill=\"black\" stroke=\"black\" points=\"2053.25,-769.51 2061.92,-763.42 2051.35,-762.77 2053.25,-769.51\"/>\n</g>\n<!-- 46 -->\n<g id=\"node47\" class=\"node\">\n<title>46</title>\n<path fill=\"#f0b78e\" stroke=\"black\" d=\"M1740.5,-677C1740.5,-677 1638.5,-677 1638.5,-677 1632.5,-677 1626.5,-671 1626.5,-665 1626.5,-665 1626.5,-621 1626.5,-621 1626.5,-615 1632.5,-609 1638.5,-609 1638.5,-609 1740.5,-609 1740.5,-609 1746.5,-609 1752.5,-615 1752.5,-621 1752.5,-621 1752.5,-665 1752.5,-665 1752.5,-671 1746.5,-677 1740.5,-677\"/>\n<text text-anchor=\"start\" x=\"1634.5\" y=\"-661.8\" font-family=\"Helvetica,sans-Serif\" font-size=\"14.00\">Exer_angina ≤ 0.5</text>\n<text text-anchor=\"start\" x=\"1657.5\" y=\"-646.8\" font-family=\"Helvetica,sans-Serif\" font-size=\"14.00\">gini = 0.42</text>\n<text text-anchor=\"start\" x=\"1648.5\" y=\"-631.8\" font-family=\"Helvetica,sans-Serif\" font-size=\"14.00\">samples = 20</text>\n<text text-anchor=\"start\" x=\"1646.5\" y=\"-616.8\" font-family=\"Helvetica,sans-Serif\" font-size=\"14.00\">value = [14, 6]</text>\n</g>\n<!-- 45&#45;&gt;46 -->\n<g id=\"edge46\" class=\"edge\">\n<title>45&#45;&gt;46</title>\n<path fill=\"none\" stroke=\"black\" d=\"M1734.07,-712.88C1728.48,-704.24 1722.38,-694.82 1716.54,-685.79\"/>\n<polygon fill=\"black\" stroke=\"black\" points=\"1719.42,-683.79 1711.05,-677.3 1713.54,-687.6 1719.42,-683.79\"/>\n</g>\n<!-- 59 -->\n<g id=\"node60\" class=\"node\">\n<title>59</title>\n<path fill=\"#72b9ec\" stroke=\"black\" d=\"M1877.5,-677C1877.5,-677 1797.5,-677 1797.5,-677 1791.5,-677 1785.5,-671 1785.5,-665 1785.5,-665 1785.5,-621 1785.5,-621 1785.5,-615 1791.5,-609 1797.5,-609 1797.5,-609 1877.5,-609 1877.5,-609 1883.5,-609 1889.5,-615 1889.5,-621 1889.5,-621 1889.5,-665 1889.5,-665 1889.5,-671 1883.5,-677 1877.5,-677\"/>\n<text text-anchor=\"start\" x=\"1793.5\" y=\"-661.8\" font-family=\"Helvetica,sans-Serif\" font-size=\"14.00\">Maxhr ≤ 169.0</text>\n<text text-anchor=\"start\" x=\"1802\" y=\"-646.8\" font-family=\"Helvetica,sans-Serif\" font-size=\"14.00\">gini = 0.346</text>\n<text text-anchor=\"start\" x=\"1800\" y=\"-631.8\" font-family=\"Helvetica,sans-Serif\" font-size=\"14.00\">samples = 9</text>\n<text text-anchor=\"start\" x=\"1798\" y=\"-616.8\" font-family=\"Helvetica,sans-Serif\" font-size=\"14.00\">value = [2, 7]</text>\n</g>\n<!-- 45&#45;&gt;59 -->\n<g id=\"edge59\" class=\"edge\">\n<title>45&#45;&gt;59</title>\n<path fill=\"none\" stroke=\"black\" d=\"M1782.12,-712.88C1789.21,-704.07 1796.96,-694.43 1804.35,-685.24\"/>\n<polygon fill=\"black\" stroke=\"black\" points=\"1807.19,-687.29 1810.73,-677.3 1801.74,-682.9 1807.19,-687.29\"/>\n</g>\n<!-- 47 -->\n<g id=\"node48\" class=\"node\">\n<title>47</title>\n<path fill=\"#eb9e67\" stroke=\"black\" d=\"M1564,-573C1564,-573 1457,-573 1457,-573 1451,-573 1445,-567 1445,-561 1445,-561 1445,-517 1445,-517 1445,-511 1451,-505 1457,-505 1457,-505 1564,-505 1564,-505 1570,-505 1576,-511 1576,-517 1576,-517 1576,-561 1576,-561 1576,-567 1570,-573 1564,-573\"/>\n<text text-anchor=\"start\" x=\"1453\" y=\"-557.8\" font-family=\"Helvetica,sans-Serif\" font-size=\"14.00\">At_rest_bp ≤ 112.5</text>\n<text text-anchor=\"start\" x=\"1475\" y=\"-542.8\" font-family=\"Helvetica,sans-Serif\" font-size=\"14.00\">gini = 0.305</text>\n<text text-anchor=\"start\" x=\"1469.5\" y=\"-527.8\" font-family=\"Helvetica,sans-Serif\" font-size=\"14.00\">samples = 16</text>\n<text text-anchor=\"start\" x=\"1467.5\" y=\"-512.8\" font-family=\"Helvetica,sans-Serif\" font-size=\"14.00\">value = [13, 3]</text>\n</g>\n<!-- 46&#45;&gt;47 -->\n<g id=\"edge47\" class=\"edge\">\n<title>46&#45;&gt;47</title>\n<path fill=\"none\" stroke=\"black\" d=\"M1631.38,-608.88C1614.26,-599.12 1595.38,-588.37 1577.73,-578.31\"/>\n<polygon fill=\"black\" stroke=\"black\" points=\"1579.05,-575.03 1568.63,-573.12 1575.59,-581.12 1579.05,-575.03\"/>\n</g>\n<!-- 56 -->\n<g id=\"node57\" class=\"node\">\n<title>56</title>\n<path fill=\"#7bbeee\" stroke=\"black\" d=\"M1743,-573C1743,-573 1636,-573 1636,-573 1630,-573 1624,-567 1624,-561 1624,-561 1624,-517 1624,-517 1624,-511 1630,-505 1636,-505 1636,-505 1743,-505 1743,-505 1749,-505 1755,-511 1755,-517 1755,-517 1755,-561 1755,-561 1755,-567 1749,-573 1743,-573\"/>\n<text text-anchor=\"start\" x=\"1632\" y=\"-557.8\" font-family=\"Helvetica,sans-Serif\" font-size=\"14.00\">At_rest_bp ≤ 112.5</text>\n<text text-anchor=\"start\" x=\"1654\" y=\"-542.8\" font-family=\"Helvetica,sans-Serif\" font-size=\"14.00\">gini = 0.375</text>\n<text text-anchor=\"start\" x=\"1652\" y=\"-527.8\" font-family=\"Helvetica,sans-Serif\" font-size=\"14.00\">samples = 4</text>\n<text text-anchor=\"start\" x=\"1650\" y=\"-512.8\" font-family=\"Helvetica,sans-Serif\" font-size=\"14.00\">value = [1, 3]</text>\n</g>\n<!-- 46&#45;&gt;56 -->\n<g id=\"edge56\" class=\"edge\">\n<title>46&#45;&gt;56</title>\n<path fill=\"none\" stroke=\"black\" d=\"M1689.5,-608.88C1689.5,-600.78 1689.5,-591.98 1689.5,-583.47\"/>\n<polygon fill=\"black\" stroke=\"black\" points=\"1693,-583.3 1689.5,-573.3 1686,-583.3 1693,-583.3\"/>\n</g>\n<!-- 48 -->\n<g id=\"node49\" class=\"node\">\n<title>48</title>\n<path fill=\"#9ccef2\" stroke=\"black\" d=\"M1429,-469C1429,-469 1358,-469 1358,-469 1352,-469 1346,-463 1346,-457 1346,-457 1346,-413 1346,-413 1346,-407 1352,-401 1358,-401 1358,-401 1429,-401 1429,-401 1435,-401 1441,-407 1441,-413 1441,-413 1441,-457 1441,-457 1441,-463 1435,-469 1429,-469\"/>\n<text text-anchor=\"start\" x=\"1359\" y=\"-453.8\" font-family=\"Helvetica,sans-Serif\" font-size=\"14.00\">Slope ≤ 1.5</text>\n<text text-anchor=\"start\" x=\"1358\" y=\"-438.8\" font-family=\"Helvetica,sans-Serif\" font-size=\"14.00\">gini = 0.444</text>\n<text text-anchor=\"start\" x=\"1356\" y=\"-423.8\" font-family=\"Helvetica,sans-Serif\" font-size=\"14.00\">samples = 3</text>\n<text text-anchor=\"start\" x=\"1354\" y=\"-408.8\" font-family=\"Helvetica,sans-Serif\" font-size=\"14.00\">value = [1, 2]</text>\n</g>\n<!-- 47&#45;&gt;48 -->\n<g id=\"edge48\" class=\"edge\">\n<title>47&#45;&gt;48</title>\n<path fill=\"none\" stroke=\"black\" d=\"M1472.51,-504.88C1461.99,-495.71 1450.45,-485.65 1439.52,-476.12\"/>\n<polygon fill=\"black\" stroke=\"black\" points=\"1441.53,-473.23 1431.7,-469.3 1436.93,-478.51 1441.53,-473.23\"/>\n</g>\n<!-- 51 -->\n<g id=\"node52\" class=\"node\">\n<title>51</title>\n<path fill=\"#e78c49\" stroke=\"black\" d=\"M1549.5,-469C1549.5,-469 1471.5,-469 1471.5,-469 1465.5,-469 1459.5,-463 1459.5,-457 1459.5,-457 1459.5,-413 1459.5,-413 1459.5,-407 1465.5,-401 1471.5,-401 1471.5,-401 1549.5,-401 1549.5,-401 1555.5,-401 1561.5,-407 1561.5,-413 1561.5,-413 1561.5,-457 1561.5,-457 1561.5,-463 1555.5,-469 1549.5,-469\"/>\n<text text-anchor=\"start\" x=\"1477.5\" y=\"-453.8\" font-family=\"Helvetica,sans-Serif\" font-size=\"14.00\">Age ≤ 65.5</text>\n<text text-anchor=\"start\" x=\"1475\" y=\"-438.8\" font-family=\"Helvetica,sans-Serif\" font-size=\"14.00\">gini = 0.142</text>\n<text text-anchor=\"start\" x=\"1469.5\" y=\"-423.8\" font-family=\"Helvetica,sans-Serif\" font-size=\"14.00\">samples = 13</text>\n<text text-anchor=\"start\" x=\"1467.5\" y=\"-408.8\" font-family=\"Helvetica,sans-Serif\" font-size=\"14.00\">value = [12, 1]</text>\n</g>\n<!-- 47&#45;&gt;51 -->\n<g id=\"edge51\" class=\"edge\">\n<title>47&#45;&gt;51</title>\n<path fill=\"none\" stroke=\"black\" d=\"M1510.5,-504.88C1510.5,-496.78 1510.5,-487.98 1510.5,-479.47\"/>\n<polygon fill=\"black\" stroke=\"black\" points=\"1514,-479.3 1510.5,-469.3 1507,-479.3 1514,-479.3\"/>\n</g>\n<!-- 49 -->\n<g id=\"node50\" class=\"node\">\n<title>49</title>\n<path fill=\"#e58139\" stroke=\"black\" d=\"M1316,-357.5C1316,-357.5 1245,-357.5 1245,-357.5 1239,-357.5 1233,-351.5 1233,-345.5 1233,-345.5 1233,-316.5 1233,-316.5 1233,-310.5 1239,-304.5 1245,-304.5 1245,-304.5 1316,-304.5 1316,-304.5 1322,-304.5 1328,-310.5 1328,-316.5 1328,-316.5 1328,-345.5 1328,-345.5 1328,-351.5 1322,-357.5 1316,-357.5\"/>\n<text text-anchor=\"start\" x=\"1252.5\" y=\"-342.3\" font-family=\"Helvetica,sans-Serif\" font-size=\"14.00\">gini = 0.0</text>\n<text text-anchor=\"start\" x=\"1243\" y=\"-327.3\" font-family=\"Helvetica,sans-Serif\" font-size=\"14.00\">samples = 1</text>\n<text text-anchor=\"start\" x=\"1241\" y=\"-312.3\" font-family=\"Helvetica,sans-Serif\" font-size=\"14.00\">value = [1, 0]</text>\n</g>\n<!-- 48&#45;&gt;49 -->\n<g id=\"edge49\" class=\"edge\">\n<title>48&#45;&gt;49</title>\n<path fill=\"none\" stroke=\"black\" d=\"M1356.81,-400.88C1343.9,-389.23 1329.4,-376.14 1316.54,-364.53\"/>\n<polygon fill=\"black\" stroke=\"black\" points=\"1318.54,-361.62 1308.77,-357.52 1313.85,-366.82 1318.54,-361.62\"/>\n</g>\n<!-- 50 -->\n<g id=\"node51\" class=\"node\">\n<title>50</title>\n<path fill=\"#399de5\" stroke=\"black\" d=\"M1429,-357.5C1429,-357.5 1358,-357.5 1358,-357.5 1352,-357.5 1346,-351.5 1346,-345.5 1346,-345.5 1346,-316.5 1346,-316.5 1346,-310.5 1352,-304.5 1358,-304.5 1358,-304.5 1429,-304.5 1429,-304.5 1435,-304.5 1441,-310.5 1441,-316.5 1441,-316.5 1441,-345.5 1441,-345.5 1441,-351.5 1435,-357.5 1429,-357.5\"/>\n<text text-anchor=\"start\" x=\"1365.5\" y=\"-342.3\" font-family=\"Helvetica,sans-Serif\" font-size=\"14.00\">gini = 0.0</text>\n<text text-anchor=\"start\" x=\"1356\" y=\"-327.3\" font-family=\"Helvetica,sans-Serif\" font-size=\"14.00\">samples = 2</text>\n<text text-anchor=\"start\" x=\"1354\" y=\"-312.3\" font-family=\"Helvetica,sans-Serif\" font-size=\"14.00\">value = [0, 2]</text>\n</g>\n<!-- 48&#45;&gt;50 -->\n<g id=\"edge50\" class=\"edge\">\n<title>48&#45;&gt;50</title>\n<path fill=\"none\" stroke=\"black\" d=\"M1393.5,-400.88C1393.5,-390.33 1393.5,-378.6 1393.5,-367.85\"/>\n<polygon fill=\"black\" stroke=\"black\" points=\"1397,-367.52 1393.5,-357.52 1390,-367.52 1397,-367.52\"/>\n</g>\n<!-- 52 -->\n<g id=\"node53\" class=\"node\">\n<title>52</title>\n<path fill=\"#e58139\" stroke=\"black\" d=\"M1549.5,-357.5C1549.5,-357.5 1471.5,-357.5 1471.5,-357.5 1465.5,-357.5 1459.5,-351.5 1459.5,-345.5 1459.5,-345.5 1459.5,-316.5 1459.5,-316.5 1459.5,-310.5 1465.5,-304.5 1471.5,-304.5 1471.5,-304.5 1549.5,-304.5 1549.5,-304.5 1555.5,-304.5 1561.5,-310.5 1561.5,-316.5 1561.5,-316.5 1561.5,-345.5 1561.5,-345.5 1561.5,-351.5 1555.5,-357.5 1549.5,-357.5\"/>\n<text text-anchor=\"start\" x=\"1482.5\" y=\"-342.3\" font-family=\"Helvetica,sans-Serif\" font-size=\"14.00\">gini = 0.0</text>\n<text text-anchor=\"start\" x=\"1469.5\" y=\"-327.3\" font-family=\"Helvetica,sans-Serif\" font-size=\"14.00\">samples = 11</text>\n<text text-anchor=\"start\" x=\"1467.5\" y=\"-312.3\" font-family=\"Helvetica,sans-Serif\" font-size=\"14.00\">value = [11, 0]</text>\n</g>\n<!-- 51&#45;&gt;52 -->\n<g id=\"edge52\" class=\"edge\">\n<title>51&#45;&gt;52</title>\n<path fill=\"none\" stroke=\"black\" d=\"M1510.5,-400.88C1510.5,-390.33 1510.5,-378.6 1510.5,-367.85\"/>\n<polygon fill=\"black\" stroke=\"black\" points=\"1514,-367.52 1510.5,-357.52 1507,-367.52 1514,-367.52\"/>\n</g>\n<!-- 53 -->\n<g id=\"node54\" class=\"node\">\n<title>53</title>\n<path fill=\"#ffffff\" stroke=\"black\" d=\"M1671.5,-365C1671.5,-365 1591.5,-365 1591.5,-365 1585.5,-365 1579.5,-359 1579.5,-353 1579.5,-353 1579.5,-309 1579.5,-309 1579.5,-303 1585.5,-297 1591.5,-297 1591.5,-297 1671.5,-297 1671.5,-297 1677.5,-297 1683.5,-303 1683.5,-309 1683.5,-309 1683.5,-353 1683.5,-353 1683.5,-359 1677.5,-365 1671.5,-365\"/>\n<text text-anchor=\"start\" x=\"1587.5\" y=\"-349.8\" font-family=\"Helvetica,sans-Serif\" font-size=\"14.00\">Maxhr ≤ 155.0</text>\n<text text-anchor=\"start\" x=\"1603.5\" y=\"-334.8\" font-family=\"Helvetica,sans-Serif\" font-size=\"14.00\">gini = 0.5</text>\n<text text-anchor=\"start\" x=\"1594\" y=\"-319.8\" font-family=\"Helvetica,sans-Serif\" font-size=\"14.00\">samples = 2</text>\n<text text-anchor=\"start\" x=\"1592\" y=\"-304.8\" font-family=\"Helvetica,sans-Serif\" font-size=\"14.00\">value = [1, 1]</text>\n</g>\n<!-- 51&#45;&gt;53 -->\n<g id=\"edge53\" class=\"edge\">\n<title>51&#45;&gt;53</title>\n<path fill=\"none\" stroke=\"black\" d=\"M1549.79,-400.88C1560.77,-391.62 1572.83,-381.45 1584.23,-371.85\"/>\n<polygon fill=\"black\" stroke=\"black\" points=\"1586.61,-374.42 1592,-365.3 1582.1,-369.07 1586.61,-374.42\"/>\n</g>\n<!-- 54 -->\n<g id=\"node55\" class=\"node\">\n<title>54</title>\n<path fill=\"#399de5\" stroke=\"black\" d=\"M1611,-253.5C1611,-253.5 1540,-253.5 1540,-253.5 1534,-253.5 1528,-247.5 1528,-241.5 1528,-241.5 1528,-212.5 1528,-212.5 1528,-206.5 1534,-200.5 1540,-200.5 1540,-200.5 1611,-200.5 1611,-200.5 1617,-200.5 1623,-206.5 1623,-212.5 1623,-212.5 1623,-241.5 1623,-241.5 1623,-247.5 1617,-253.5 1611,-253.5\"/>\n<text text-anchor=\"start\" x=\"1547.5\" y=\"-238.3\" font-family=\"Helvetica,sans-Serif\" font-size=\"14.00\">gini = 0.0</text>\n<text text-anchor=\"start\" x=\"1538\" y=\"-223.3\" font-family=\"Helvetica,sans-Serif\" font-size=\"14.00\">samples = 1</text>\n<text text-anchor=\"start\" x=\"1536\" y=\"-208.3\" font-family=\"Helvetica,sans-Serif\" font-size=\"14.00\">value = [0, 1]</text>\n</g>\n<!-- 53&#45;&gt;54 -->\n<g id=\"edge54\" class=\"edge\">\n<title>53&#45;&gt;54</title>\n<path fill=\"none\" stroke=\"black\" d=\"M1613.32,-296.88C1607.28,-285.89 1600.54,-273.62 1594.45,-262.52\"/>\n<polygon fill=\"black\" stroke=\"black\" points=\"1597.39,-260.6 1589.51,-253.52 1591.26,-263.97 1597.39,-260.6\"/>\n</g>\n<!-- 55 -->\n<g id=\"node56\" class=\"node\">\n<title>55</title>\n<path fill=\"#e58139\" stroke=\"black\" d=\"M1724,-253.5C1724,-253.5 1653,-253.5 1653,-253.5 1647,-253.5 1641,-247.5 1641,-241.5 1641,-241.5 1641,-212.5 1641,-212.5 1641,-206.5 1647,-200.5 1653,-200.5 1653,-200.5 1724,-200.5 1724,-200.5 1730,-200.5 1736,-206.5 1736,-212.5 1736,-212.5 1736,-241.5 1736,-241.5 1736,-247.5 1730,-253.5 1724,-253.5\"/>\n<text text-anchor=\"start\" x=\"1660.5\" y=\"-238.3\" font-family=\"Helvetica,sans-Serif\" font-size=\"14.00\">gini = 0.0</text>\n<text text-anchor=\"start\" x=\"1651\" y=\"-223.3\" font-family=\"Helvetica,sans-Serif\" font-size=\"14.00\">samples = 1</text>\n<text text-anchor=\"start\" x=\"1649\" y=\"-208.3\" font-family=\"Helvetica,sans-Serif\" font-size=\"14.00\">value = [1, 0]</text>\n</g>\n<!-- 53&#45;&gt;55 -->\n<g id=\"edge55\" class=\"edge\">\n<title>53&#45;&gt;55</title>\n<path fill=\"none\" stroke=\"black\" d=\"M1650.01,-296.88C1656.15,-285.89 1663.01,-273.62 1669.21,-262.52\"/>\n<polygon fill=\"black\" stroke=\"black\" points=\"1672.42,-263.96 1674.24,-253.52 1666.31,-260.54 1672.42,-263.96\"/>\n</g>\n<!-- 57 -->\n<g id=\"node58\" class=\"node\">\n<title>57</title>\n<path fill=\"#e58139\" stroke=\"black\" d=\"M1663,-461.5C1663,-461.5 1592,-461.5 1592,-461.5 1586,-461.5 1580,-455.5 1580,-449.5 1580,-449.5 1580,-420.5 1580,-420.5 1580,-414.5 1586,-408.5 1592,-408.5 1592,-408.5 1663,-408.5 1663,-408.5 1669,-408.5 1675,-414.5 1675,-420.5 1675,-420.5 1675,-449.5 1675,-449.5 1675,-455.5 1669,-461.5 1663,-461.5\"/>\n<text text-anchor=\"start\" x=\"1599.5\" y=\"-446.3\" font-family=\"Helvetica,sans-Serif\" font-size=\"14.00\">gini = 0.0</text>\n<text text-anchor=\"start\" x=\"1590\" y=\"-431.3\" font-family=\"Helvetica,sans-Serif\" font-size=\"14.00\">samples = 1</text>\n<text text-anchor=\"start\" x=\"1588\" y=\"-416.3\" font-family=\"Helvetica,sans-Serif\" font-size=\"14.00\">value = [1, 0]</text>\n</g>\n<!-- 56&#45;&gt;57 -->\n<g id=\"edge57\" class=\"edge\">\n<title>56&#45;&gt;57</title>\n<path fill=\"none\" stroke=\"black\" d=\"M1669.37,-504.88C1662.62,-493.78 1655.08,-481.37 1648.28,-470.18\"/>\n<polygon fill=\"black\" stroke=\"black\" points=\"1651.2,-468.25 1643.01,-461.52 1645.22,-471.88 1651.2,-468.25\"/>\n</g>\n<!-- 58 -->\n<g id=\"node59\" class=\"node\">\n<title>58</title>\n<path fill=\"#399de5\" stroke=\"black\" d=\"M1776,-461.5C1776,-461.5 1705,-461.5 1705,-461.5 1699,-461.5 1693,-455.5 1693,-449.5 1693,-449.5 1693,-420.5 1693,-420.5 1693,-414.5 1699,-408.5 1705,-408.5 1705,-408.5 1776,-408.5 1776,-408.5 1782,-408.5 1788,-414.5 1788,-420.5 1788,-420.5 1788,-449.5 1788,-449.5 1788,-455.5 1782,-461.5 1776,-461.5\"/>\n<text text-anchor=\"start\" x=\"1712.5\" y=\"-446.3\" font-family=\"Helvetica,sans-Serif\" font-size=\"14.00\">gini = 0.0</text>\n<text text-anchor=\"start\" x=\"1703\" y=\"-431.3\" font-family=\"Helvetica,sans-Serif\" font-size=\"14.00\">samples = 3</text>\n<text text-anchor=\"start\" x=\"1701\" y=\"-416.3\" font-family=\"Helvetica,sans-Serif\" font-size=\"14.00\">value = [0, 3]</text>\n</g>\n<!-- 56&#45;&gt;58 -->\n<g id=\"edge58\" class=\"edge\">\n<title>56&#45;&gt;58</title>\n<path fill=\"none\" stroke=\"black\" d=\"M1706.06,-504.88C1711.56,-493.89 1717.69,-481.62 1723.24,-470.52\"/>\n<polygon fill=\"black\" stroke=\"black\" points=\"1726.4,-472.03 1727.74,-461.52 1720.14,-468.9 1726.4,-472.03\"/>\n</g>\n<!-- 60 -->\n<g id=\"node61\" class=\"node\">\n<title>60</title>\n<path fill=\"#55abe9\" stroke=\"black\" d=\"M1873,-573C1873,-573 1802,-573 1802,-573 1796,-573 1790,-567 1790,-561 1790,-561 1790,-517 1790,-517 1790,-511 1796,-505 1802,-505 1802,-505 1873,-505 1873,-505 1879,-505 1885,-511 1885,-517 1885,-517 1885,-561 1885,-561 1885,-567 1879,-573 1873,-573\"/>\n<text text-anchor=\"start\" x=\"1811.5\" y=\"-557.8\" font-family=\"Helvetica,sans-Serif\" font-size=\"14.00\">Ca ≤ 2.0</text>\n<text text-anchor=\"start\" x=\"1802\" y=\"-542.8\" font-family=\"Helvetica,sans-Serif\" font-size=\"14.00\">gini = 0.219</text>\n<text text-anchor=\"start\" x=\"1800\" y=\"-527.8\" font-family=\"Helvetica,sans-Serif\" font-size=\"14.00\">samples = 8</text>\n<text text-anchor=\"start\" x=\"1798\" y=\"-512.8\" font-family=\"Helvetica,sans-Serif\" font-size=\"14.00\">value = [1, 7]</text>\n</g>\n<!-- 59&#45;&gt;60 -->\n<g id=\"edge60\" class=\"edge\">\n<title>59&#45;&gt;60</title>\n<path fill=\"none\" stroke=\"black\" d=\"M1837.5,-608.88C1837.5,-600.78 1837.5,-591.98 1837.5,-583.47\"/>\n<polygon fill=\"black\" stroke=\"black\" points=\"1841,-583.3 1837.5,-573.3 1834,-583.3 1841,-583.3\"/>\n</g>\n<!-- 65 -->\n<g id=\"node66\" class=\"node\">\n<title>65</title>\n<path fill=\"#e58139\" stroke=\"black\" d=\"M1986,-565.5C1986,-565.5 1915,-565.5 1915,-565.5 1909,-565.5 1903,-559.5 1903,-553.5 1903,-553.5 1903,-524.5 1903,-524.5 1903,-518.5 1909,-512.5 1915,-512.5 1915,-512.5 1986,-512.5 1986,-512.5 1992,-512.5 1998,-518.5 1998,-524.5 1998,-524.5 1998,-553.5 1998,-553.5 1998,-559.5 1992,-565.5 1986,-565.5\"/>\n<text text-anchor=\"start\" x=\"1922.5\" y=\"-550.3\" font-family=\"Helvetica,sans-Serif\" font-size=\"14.00\">gini = 0.0</text>\n<text text-anchor=\"start\" x=\"1913\" y=\"-535.3\" font-family=\"Helvetica,sans-Serif\" font-size=\"14.00\">samples = 1</text>\n<text text-anchor=\"start\" x=\"1911\" y=\"-520.3\" font-family=\"Helvetica,sans-Serif\" font-size=\"14.00\">value = [1, 0]</text>\n</g>\n<!-- 59&#45;&gt;65 -->\n<g id=\"edge65\" class=\"edge\">\n<title>59&#45;&gt;65</title>\n<path fill=\"none\" stroke=\"black\" d=\"M1874.19,-608.88C1887.1,-597.23 1901.6,-584.14 1914.46,-572.53\"/>\n<polygon fill=\"black\" stroke=\"black\" points=\"1917.15,-574.82 1922.23,-565.52 1912.46,-569.62 1917.15,-574.82\"/>\n</g>\n<!-- 61 -->\n<g id=\"node62\" class=\"node\">\n<title>61</title>\n<path fill=\"#399de5\" stroke=\"black\" d=\"M1889,-461.5C1889,-461.5 1818,-461.5 1818,-461.5 1812,-461.5 1806,-455.5 1806,-449.5 1806,-449.5 1806,-420.5 1806,-420.5 1806,-414.5 1812,-408.5 1818,-408.5 1818,-408.5 1889,-408.5 1889,-408.5 1895,-408.5 1901,-414.5 1901,-420.5 1901,-420.5 1901,-449.5 1901,-449.5 1901,-455.5 1895,-461.5 1889,-461.5\"/>\n<text text-anchor=\"start\" x=\"1825.5\" y=\"-446.3\" font-family=\"Helvetica,sans-Serif\" font-size=\"14.00\">gini = 0.0</text>\n<text text-anchor=\"start\" x=\"1816\" y=\"-431.3\" font-family=\"Helvetica,sans-Serif\" font-size=\"14.00\">samples = 5</text>\n<text text-anchor=\"start\" x=\"1814\" y=\"-416.3\" font-family=\"Helvetica,sans-Serif\" font-size=\"14.00\">value = [0, 5]</text>\n</g>\n<!-- 60&#45;&gt;61 -->\n<g id=\"edge61\" class=\"edge\">\n<title>60&#45;&gt;61</title>\n<path fill=\"none\" stroke=\"black\" d=\"M1842.69,-504.88C1844.37,-494.22 1846.23,-482.35 1847.93,-471.52\"/>\n<polygon fill=\"black\" stroke=\"black\" points=\"1851.4,-471.94 1849.5,-461.52 1844.49,-470.86 1851.4,-471.94\"/>\n</g>\n<!-- 62 -->\n<g id=\"node63\" class=\"node\">\n<title>62</title>\n<path fill=\"#9ccef2\" stroke=\"black\" d=\"M2002,-469C2002,-469 1931,-469 1931,-469 1925,-469 1919,-463 1919,-457 1919,-457 1919,-413 1919,-413 1919,-407 1925,-401 1931,-401 1931,-401 2002,-401 2002,-401 2008,-401 2014,-407 2014,-413 2014,-413 2014,-457 2014,-457 2014,-463 2008,-469 2002,-469\"/>\n<text text-anchor=\"start\" x=\"1933.5\" y=\"-453.8\" font-family=\"Helvetica,sans-Serif\" font-size=\"14.00\">Age ≤ 64.0</text>\n<text text-anchor=\"start\" x=\"1931\" y=\"-438.8\" font-family=\"Helvetica,sans-Serif\" font-size=\"14.00\">gini = 0.444</text>\n<text text-anchor=\"start\" x=\"1929\" y=\"-423.8\" font-family=\"Helvetica,sans-Serif\" font-size=\"14.00\">samples = 3</text>\n<text text-anchor=\"start\" x=\"1927\" y=\"-408.8\" font-family=\"Helvetica,sans-Serif\" font-size=\"14.00\">value = [1, 2]</text>\n</g>\n<!-- 60&#45;&gt;62 -->\n<g id=\"edge62\" class=\"edge\">\n<title>60&#45;&gt;62</title>\n<path fill=\"none\" stroke=\"black\" d=\"M1879.38,-504.88C1891.21,-495.53 1904.2,-485.26 1916.46,-475.57\"/>\n<polygon fill=\"black\" stroke=\"black\" points=\"1918.71,-478.25 1924.39,-469.3 1914.37,-472.76 1918.71,-478.25\"/>\n</g>\n<!-- 63 -->\n<g id=\"node64\" class=\"node\">\n<title>63</title>\n<path fill=\"#e58139\" stroke=\"black\" d=\"M1915,-357.5C1915,-357.5 1844,-357.5 1844,-357.5 1838,-357.5 1832,-351.5 1832,-345.5 1832,-345.5 1832,-316.5 1832,-316.5 1832,-310.5 1838,-304.5 1844,-304.5 1844,-304.5 1915,-304.5 1915,-304.5 1921,-304.5 1927,-310.5 1927,-316.5 1927,-316.5 1927,-345.5 1927,-345.5 1927,-351.5 1921,-357.5 1915,-357.5\"/>\n<text text-anchor=\"start\" x=\"1851.5\" y=\"-342.3\" font-family=\"Helvetica,sans-Serif\" font-size=\"14.00\">gini = 0.0</text>\n<text text-anchor=\"start\" x=\"1842\" y=\"-327.3\" font-family=\"Helvetica,sans-Serif\" font-size=\"14.00\">samples = 1</text>\n<text text-anchor=\"start\" x=\"1840\" y=\"-312.3\" font-family=\"Helvetica,sans-Serif\" font-size=\"14.00\">value = [1, 0]</text>\n</g>\n<!-- 62&#45;&gt;63 -->\n<g id=\"edge63\" class=\"edge\">\n<title>62&#45;&gt;63</title>\n<path fill=\"none\" stroke=\"black\" d=\"M1938.25,-400.88C1928.5,-389.45 1917.57,-376.63 1907.81,-365.19\"/>\n<polygon fill=\"black\" stroke=\"black\" points=\"1910.42,-362.86 1901.27,-357.52 1905.09,-367.4 1910.42,-362.86\"/>\n</g>\n<!-- 64 -->\n<g id=\"node65\" class=\"node\">\n<title>64</title>\n<path fill=\"#399de5\" stroke=\"black\" d=\"M2028,-357.5C2028,-357.5 1957,-357.5 1957,-357.5 1951,-357.5 1945,-351.5 1945,-345.5 1945,-345.5 1945,-316.5 1945,-316.5 1945,-310.5 1951,-304.5 1957,-304.5 1957,-304.5 2028,-304.5 2028,-304.5 2034,-304.5 2040,-310.5 2040,-316.5 2040,-316.5 2040,-345.5 2040,-345.5 2040,-351.5 2034,-357.5 2028,-357.5\"/>\n<text text-anchor=\"start\" x=\"1964.5\" y=\"-342.3\" font-family=\"Helvetica,sans-Serif\" font-size=\"14.00\">gini = 0.0</text>\n<text text-anchor=\"start\" x=\"1955\" y=\"-327.3\" font-family=\"Helvetica,sans-Serif\" font-size=\"14.00\">samples = 2</text>\n<text text-anchor=\"start\" x=\"1953\" y=\"-312.3\" font-family=\"Helvetica,sans-Serif\" font-size=\"14.00\">value = [0, 2]</text>\n</g>\n<!-- 62&#45;&gt;64 -->\n<g id=\"edge64\" class=\"edge\">\n<title>62&#45;&gt;64</title>\n<path fill=\"none\" stroke=\"black\" d=\"M1974.94,-400.88C1977.66,-390.22 1980.68,-378.35 1983.45,-367.52\"/>\n<polygon fill=\"black\" stroke=\"black\" points=\"1986.92,-368.07 1985.99,-357.52 1980.13,-366.35 1986.92,-368.07\"/>\n</g>\n<!-- 67 -->\n<g id=\"node68\" class=\"node\">\n<title>67</title>\n<path fill=\"#cee6f8\" stroke=\"black\" d=\"M2156.5,-677C2156.5,-677 2076.5,-677 2076.5,-677 2070.5,-677 2064.5,-671 2064.5,-665 2064.5,-665 2064.5,-621 2064.5,-621 2064.5,-615 2070.5,-609 2076.5,-609 2076.5,-609 2156.5,-609 2156.5,-609 2162.5,-609 2168.5,-615 2168.5,-621 2168.5,-621 2168.5,-665 2168.5,-665 2168.5,-671 2162.5,-677 2156.5,-677\"/>\n<text text-anchor=\"start\" x=\"2072.5\" y=\"-661.8\" font-family=\"Helvetica,sans-Serif\" font-size=\"14.00\">Maxhr ≤ 145.0</text>\n<text text-anchor=\"start\" x=\"2084.5\" y=\"-646.8\" font-family=\"Helvetica,sans-Serif\" font-size=\"14.00\">gini = 0.49</text>\n<text text-anchor=\"start\" x=\"2075.5\" y=\"-631.8\" font-family=\"Helvetica,sans-Serif\" font-size=\"14.00\">samples = 14</text>\n<text text-anchor=\"start\" x=\"2077\" y=\"-616.8\" font-family=\"Helvetica,sans-Serif\" font-size=\"14.00\">value = [6, 8]</text>\n</g>\n<!-- 66&#45;&gt;67 -->\n<g id=\"edge67\" class=\"edge\">\n<title>66&#45;&gt;67</title>\n<path fill=\"none\" stroke=\"black\" d=\"M2116.5,-712.88C2116.5,-704.78 2116.5,-695.98 2116.5,-687.47\"/>\n<polygon fill=\"black\" stroke=\"black\" points=\"2120,-687.3 2116.5,-677.3 2113,-687.3 2120,-687.3\"/>\n</g>\n<!-- 76 -->\n<g id=\"node77\" class=\"node\">\n<title>76</title>\n<path fill=\"#3d9fe6\" stroke=\"black\" d=\"M2359,-677C2359,-677 2252,-677 2252,-677 2246,-677 2240,-671 2240,-665 2240,-665 2240,-621 2240,-621 2240,-615 2246,-609 2252,-609 2252,-609 2359,-609 2359,-609 2365,-609 2371,-615 2371,-621 2371,-621 2371,-665 2371,-665 2371,-671 2365,-677 2359,-677\"/>\n<text text-anchor=\"start\" x=\"2248\" y=\"-661.8\" font-family=\"Helvetica,sans-Serif\" font-size=\"14.00\">At_rest_bp ≤ 155.0</text>\n<text text-anchor=\"start\" x=\"2270\" y=\"-646.8\" font-family=\"Helvetica,sans-Serif\" font-size=\"14.00\">gini = 0.038</text>\n<text text-anchor=\"start\" x=\"2264.5\" y=\"-631.8\" font-family=\"Helvetica,sans-Serif\" font-size=\"14.00\">samples = 51</text>\n<text text-anchor=\"start\" x=\"2262.5\" y=\"-616.8\" font-family=\"Helvetica,sans-Serif\" font-size=\"14.00\">value = [1, 50]</text>\n</g>\n<!-- 66&#45;&gt;76 -->\n<g id=\"edge76\" class=\"edge\">\n<title>66&#45;&gt;76</title>\n<path fill=\"none\" stroke=\"black\" d=\"M2171.17,-716.5C2191.2,-705.69 2214.16,-693.3 2235.36,-681.86\"/>\n<polygon fill=\"black\" stroke=\"black\" points=\"2237.18,-684.85 2244.32,-677.02 2233.86,-678.69 2237.18,-684.85\"/>\n</g>\n<!-- 68 -->\n<g id=\"node69\" class=\"node\">\n<title>68</title>\n<path fill=\"#e58139\" stroke=\"black\" d=\"M2099,-565.5C2099,-565.5 2028,-565.5 2028,-565.5 2022,-565.5 2016,-559.5 2016,-553.5 2016,-553.5 2016,-524.5 2016,-524.5 2016,-518.5 2022,-512.5 2028,-512.5 2028,-512.5 2099,-512.5 2099,-512.5 2105,-512.5 2111,-518.5 2111,-524.5 2111,-524.5 2111,-553.5 2111,-553.5 2111,-559.5 2105,-565.5 2099,-565.5\"/>\n<text text-anchor=\"start\" x=\"2035.5\" y=\"-550.3\" font-family=\"Helvetica,sans-Serif\" font-size=\"14.00\">gini = 0.0</text>\n<text text-anchor=\"start\" x=\"2026\" y=\"-535.3\" font-family=\"Helvetica,sans-Serif\" font-size=\"14.00\">samples = 3</text>\n<text text-anchor=\"start\" x=\"2024\" y=\"-520.3\" font-family=\"Helvetica,sans-Serif\" font-size=\"14.00\">value = [3, 0]</text>\n</g>\n<!-- 67&#45;&gt;68 -->\n<g id=\"edge68\" class=\"edge\">\n<title>67&#45;&gt;68</title>\n<path fill=\"none\" stroke=\"black\" d=\"M2099.29,-608.88C2093.58,-597.89 2087.2,-585.62 2081.44,-574.52\"/>\n<polygon fill=\"black\" stroke=\"black\" points=\"2084.48,-572.78 2076.76,-565.52 2078.27,-576.01 2084.48,-572.78\"/>\n</g>\n<!-- 69 -->\n<g id=\"node70\" class=\"node\">\n<title>69</title>\n<path fill=\"#83c2ef\" stroke=\"black\" d=\"M2224,-573C2224,-573 2141,-573 2141,-573 2135,-573 2129,-567 2129,-561 2129,-561 2129,-517 2129,-517 2129,-511 2135,-505 2141,-505 2141,-505 2224,-505 2224,-505 2230,-505 2236,-511 2236,-517 2236,-517 2236,-561 2236,-561 2236,-567 2230,-573 2224,-573\"/>\n<text text-anchor=\"start\" x=\"2137\" y=\"-557.8\" font-family=\"Helvetica,sans-Serif\" font-size=\"14.00\">Rest_ecg ≤ 1.0</text>\n<text text-anchor=\"start\" x=\"2147\" y=\"-542.8\" font-family=\"Helvetica,sans-Serif\" font-size=\"14.00\">gini = 0.397</text>\n<text text-anchor=\"start\" x=\"2141.5\" y=\"-527.8\" font-family=\"Helvetica,sans-Serif\" font-size=\"14.00\">samples = 11</text>\n<text text-anchor=\"start\" x=\"2143\" y=\"-512.8\" font-family=\"Helvetica,sans-Serif\" font-size=\"14.00\">value = [3, 8]</text>\n</g>\n<!-- 67&#45;&gt;69 -->\n<g id=\"edge69\" class=\"edge\">\n<title>67&#45;&gt;69</title>\n<path fill=\"none\" stroke=\"black\" d=\"M2137.93,-608.88C2143.52,-600.24 2149.62,-590.82 2155.46,-581.79\"/>\n<polygon fill=\"black\" stroke=\"black\" points=\"2158.46,-583.6 2160.95,-573.3 2152.58,-579.79 2158.46,-583.6\"/>\n</g>\n<!-- 70 -->\n<g id=\"node71\" class=\"node\">\n<title>70</title>\n<path fill=\"#cee6f8\" stroke=\"black\" d=\"M2184,-469C2184,-469 2113,-469 2113,-469 2107,-469 2101,-463 2101,-457 2101,-457 2101,-413 2101,-413 2101,-407 2107,-401 2113,-401 2113,-401 2184,-401 2184,-401 2190,-401 2196,-407 2196,-413 2196,-413 2196,-457 2196,-457 2196,-463 2190,-469 2184,-469\"/>\n<text text-anchor=\"start\" x=\"2122.5\" y=\"-453.8\" font-family=\"Helvetica,sans-Serif\" font-size=\"14.00\">Ca ≤ 0.5</text>\n<text text-anchor=\"start\" x=\"2116.5\" y=\"-438.8\" font-family=\"Helvetica,sans-Serif\" font-size=\"14.00\">gini = 0.49</text>\n<text text-anchor=\"start\" x=\"2111\" y=\"-423.8\" font-family=\"Helvetica,sans-Serif\" font-size=\"14.00\">samples = 7</text>\n<text text-anchor=\"start\" x=\"2109\" y=\"-408.8\" font-family=\"Helvetica,sans-Serif\" font-size=\"14.00\">value = [3, 4]</text>\n</g>\n<!-- 69&#45;&gt;70 -->\n<g id=\"edge70\" class=\"edge\">\n<title>69&#45;&gt;70</title>\n<path fill=\"none\" stroke=\"black\" d=\"M2171.46,-504.88C2168.7,-496.6 2165.7,-487.6 2162.8,-478.91\"/>\n<polygon fill=\"black\" stroke=\"black\" points=\"2166.08,-477.68 2159.6,-469.3 2159.44,-479.89 2166.08,-477.68\"/>\n</g>\n<!-- 75 -->\n<g id=\"node76\" class=\"node\">\n<title>75</title>\n<path fill=\"#399de5\" stroke=\"black\" d=\"M2297,-461.5C2297,-461.5 2226,-461.5 2226,-461.5 2220,-461.5 2214,-455.5 2214,-449.5 2214,-449.5 2214,-420.5 2214,-420.5 2214,-414.5 2220,-408.5 2226,-408.5 2226,-408.5 2297,-408.5 2297,-408.5 2303,-408.5 2309,-414.5 2309,-420.5 2309,-420.5 2309,-449.5 2309,-449.5 2309,-455.5 2303,-461.5 2297,-461.5\"/>\n<text text-anchor=\"start\" x=\"2233.5\" y=\"-446.3\" font-family=\"Helvetica,sans-Serif\" font-size=\"14.00\">gini = 0.0</text>\n<text text-anchor=\"start\" x=\"2224\" y=\"-431.3\" font-family=\"Helvetica,sans-Serif\" font-size=\"14.00\">samples = 4</text>\n<text text-anchor=\"start\" x=\"2222\" y=\"-416.3\" font-family=\"Helvetica,sans-Serif\" font-size=\"14.00\">value = [0, 4]</text>\n</g>\n<!-- 69&#45;&gt;75 -->\n<g id=\"edge75\" class=\"edge\">\n<title>69&#45;&gt;75</title>\n<path fill=\"none\" stroke=\"black\" d=\"M2208.15,-504.88C2216.92,-493.56 2226.74,-480.88 2235.54,-469.52\"/>\n<polygon fill=\"black\" stroke=\"black\" points=\"2238.38,-471.57 2241.73,-461.52 2232.84,-467.28 2238.38,-471.57\"/>\n</g>\n<!-- 71 -->\n<g id=\"node72\" class=\"node\">\n<title>71</title>\n<path fill=\"#eeab7b\" stroke=\"black\" d=\"M2160.5,-365C2160.5,-365 2080.5,-365 2080.5,-365 2074.5,-365 2068.5,-359 2068.5,-353 2068.5,-353 2068.5,-309 2068.5,-309 2068.5,-303 2074.5,-297 2080.5,-297 2080.5,-297 2160.5,-297 2160.5,-297 2166.5,-297 2172.5,-303 2172.5,-309 2172.5,-309 2172.5,-353 2172.5,-353 2172.5,-359 2166.5,-365 2160.5,-365\"/>\n<text text-anchor=\"start\" x=\"2076.5\" y=\"-349.8\" font-family=\"Helvetica,sans-Serif\" font-size=\"14.00\">Maxhr ≤ 174.5</text>\n<text text-anchor=\"start\" x=\"2085\" y=\"-334.8\" font-family=\"Helvetica,sans-Serif\" font-size=\"14.00\">gini = 0.375</text>\n<text text-anchor=\"start\" x=\"2083\" y=\"-319.8\" font-family=\"Helvetica,sans-Serif\" font-size=\"14.00\">samples = 4</text>\n<text text-anchor=\"start\" x=\"2081\" y=\"-304.8\" font-family=\"Helvetica,sans-Serif\" font-size=\"14.00\">value = [3, 1]</text>\n</g>\n<!-- 70&#45;&gt;71 -->\n<g id=\"edge71\" class=\"edge\">\n<title>70&#45;&gt;71</title>\n<path fill=\"none\" stroke=\"black\" d=\"M2139.41,-400.88C2137.16,-392.69 2134.72,-383.79 2132.36,-375.19\"/>\n<polygon fill=\"black\" stroke=\"black\" points=\"2135.66,-374.02 2129.64,-365.3 2128.91,-375.87 2135.66,-374.02\"/>\n</g>\n<!-- 74 -->\n<g id=\"node75\" class=\"node\">\n<title>74</title>\n<path fill=\"#399de5\" stroke=\"black\" d=\"M2274,-357.5C2274,-357.5 2203,-357.5 2203,-357.5 2197,-357.5 2191,-351.5 2191,-345.5 2191,-345.5 2191,-316.5 2191,-316.5 2191,-310.5 2197,-304.5 2203,-304.5 2203,-304.5 2274,-304.5 2274,-304.5 2280,-304.5 2286,-310.5 2286,-316.5 2286,-316.5 2286,-345.5 2286,-345.5 2286,-351.5 2280,-357.5 2274,-357.5\"/>\n<text text-anchor=\"start\" x=\"2210.5\" y=\"-342.3\" font-family=\"Helvetica,sans-Serif\" font-size=\"14.00\">gini = 0.0</text>\n<text text-anchor=\"start\" x=\"2201\" y=\"-327.3\" font-family=\"Helvetica,sans-Serif\" font-size=\"14.00\">samples = 3</text>\n<text text-anchor=\"start\" x=\"2199\" y=\"-312.3\" font-family=\"Helvetica,sans-Serif\" font-size=\"14.00\">value = [0, 3]</text>\n</g>\n<!-- 70&#45;&gt;74 -->\n<g id=\"edge74\" class=\"edge\">\n<title>70&#45;&gt;74</title>\n<path fill=\"none\" stroke=\"black\" d=\"M2177.72,-400.88C2187.81,-389.45 2199.12,-376.63 2209.21,-365.19\"/>\n<polygon fill=\"black\" stroke=\"black\" points=\"2211.99,-367.33 2215.98,-357.52 2206.74,-362.7 2211.99,-367.33\"/>\n</g>\n<!-- 72 -->\n<g id=\"node73\" class=\"node\">\n<title>72</title>\n<path fill=\"#e58139\" stroke=\"black\" d=\"M2099,-253.5C2099,-253.5 2028,-253.5 2028,-253.5 2022,-253.5 2016,-247.5 2016,-241.5 2016,-241.5 2016,-212.5 2016,-212.5 2016,-206.5 2022,-200.5 2028,-200.5 2028,-200.5 2099,-200.5 2099,-200.5 2105,-200.5 2111,-206.5 2111,-212.5 2111,-212.5 2111,-241.5 2111,-241.5 2111,-247.5 2105,-253.5 2099,-253.5\"/>\n<text text-anchor=\"start\" x=\"2035.5\" y=\"-238.3\" font-family=\"Helvetica,sans-Serif\" font-size=\"14.00\">gini = 0.0</text>\n<text text-anchor=\"start\" x=\"2026\" y=\"-223.3\" font-family=\"Helvetica,sans-Serif\" font-size=\"14.00\">samples = 3</text>\n<text text-anchor=\"start\" x=\"2024\" y=\"-208.3\" font-family=\"Helvetica,sans-Serif\" font-size=\"14.00\">value = [3, 0]</text>\n</g>\n<!-- 71&#45;&gt;72 -->\n<g id=\"edge72\" class=\"edge\">\n<title>71&#45;&gt;72</title>\n<path fill=\"none\" stroke=\"black\" d=\"M2101.99,-296.88C2095.85,-285.89 2088.99,-273.62 2082.79,-262.52\"/>\n<polygon fill=\"black\" stroke=\"black\" points=\"2085.69,-260.54 2077.76,-253.52 2079.58,-263.96 2085.69,-260.54\"/>\n</g>\n<!-- 73 -->\n<g id=\"node74\" class=\"node\">\n<title>73</title>\n<path fill=\"#399de5\" stroke=\"black\" d=\"M2212,-253.5C2212,-253.5 2141,-253.5 2141,-253.5 2135,-253.5 2129,-247.5 2129,-241.5 2129,-241.5 2129,-212.5 2129,-212.5 2129,-206.5 2135,-200.5 2141,-200.5 2141,-200.5 2212,-200.5 2212,-200.5 2218,-200.5 2224,-206.5 2224,-212.5 2224,-212.5 2224,-241.5 2224,-241.5 2224,-247.5 2218,-253.5 2212,-253.5\"/>\n<text text-anchor=\"start\" x=\"2148.5\" y=\"-238.3\" font-family=\"Helvetica,sans-Serif\" font-size=\"14.00\">gini = 0.0</text>\n<text text-anchor=\"start\" x=\"2139\" y=\"-223.3\" font-family=\"Helvetica,sans-Serif\" font-size=\"14.00\">samples = 1</text>\n<text text-anchor=\"start\" x=\"2137\" y=\"-208.3\" font-family=\"Helvetica,sans-Serif\" font-size=\"14.00\">value = [0, 1]</text>\n</g>\n<!-- 71&#45;&gt;73 -->\n<g id=\"edge73\" class=\"edge\">\n<title>71&#45;&gt;73</title>\n<path fill=\"none\" stroke=\"black\" d=\"M2138.68,-296.88C2144.72,-285.89 2151.46,-273.62 2157.55,-262.52\"/>\n<polygon fill=\"black\" stroke=\"black\" points=\"2160.74,-263.97 2162.49,-253.52 2154.61,-260.6 2160.74,-263.97\"/>\n</g>\n<!-- 77 -->\n<g id=\"node78\" class=\"node\">\n<title>77</title>\n<path fill=\"#399de5\" stroke=\"black\" d=\"M2344.5,-565.5C2344.5,-565.5 2266.5,-565.5 2266.5,-565.5 2260.5,-565.5 2254.5,-559.5 2254.5,-553.5 2254.5,-553.5 2254.5,-524.5 2254.5,-524.5 2254.5,-518.5 2260.5,-512.5 2266.5,-512.5 2266.5,-512.5 2344.5,-512.5 2344.5,-512.5 2350.5,-512.5 2356.5,-518.5 2356.5,-524.5 2356.5,-524.5 2356.5,-553.5 2356.5,-553.5 2356.5,-559.5 2350.5,-565.5 2344.5,-565.5\"/>\n<text text-anchor=\"start\" x=\"2277.5\" y=\"-550.3\" font-family=\"Helvetica,sans-Serif\" font-size=\"14.00\">gini = 0.0</text>\n<text text-anchor=\"start\" x=\"2264.5\" y=\"-535.3\" font-family=\"Helvetica,sans-Serif\" font-size=\"14.00\">samples = 47</text>\n<text text-anchor=\"start\" x=\"2262.5\" y=\"-520.3\" font-family=\"Helvetica,sans-Serif\" font-size=\"14.00\">value = [0, 47]</text>\n</g>\n<!-- 76&#45;&gt;77 -->\n<g id=\"edge77\" class=\"edge\">\n<title>76&#45;&gt;77</title>\n<path fill=\"none\" stroke=\"black\" d=\"M2305.5,-608.88C2305.5,-598.33 2305.5,-586.6 2305.5,-575.85\"/>\n<polygon fill=\"black\" stroke=\"black\" points=\"2309,-575.52 2305.5,-565.52 2302,-575.52 2309,-575.52\"/>\n</g>\n<!-- 78 -->\n<g id=\"node79\" class=\"node\">\n<title>78</title>\n<path fill=\"#7bbeee\" stroke=\"black\" d=\"M2458,-573C2458,-573 2387,-573 2387,-573 2381,-573 2375,-567 2375,-561 2375,-561 2375,-517 2375,-517 2375,-511 2381,-505 2387,-505 2387,-505 2458,-505 2458,-505 2464,-505 2470,-511 2470,-517 2470,-517 2470,-561 2470,-561 2470,-567 2464,-573 2458,-573\"/>\n<text text-anchor=\"start\" x=\"2392\" y=\"-557.8\" font-family=\"Helvetica,sans-Serif\" font-size=\"14.00\">Thal ≤ 6.5</text>\n<text text-anchor=\"start\" x=\"2387\" y=\"-542.8\" font-family=\"Helvetica,sans-Serif\" font-size=\"14.00\">gini = 0.375</text>\n<text text-anchor=\"start\" x=\"2385\" y=\"-527.8\" font-family=\"Helvetica,sans-Serif\" font-size=\"14.00\">samples = 4</text>\n<text text-anchor=\"start\" x=\"2383\" y=\"-512.8\" font-family=\"Helvetica,sans-Serif\" font-size=\"14.00\">value = [1, 3]</text>\n</g>\n<!-- 76&#45;&gt;78 -->\n<g id=\"edge78\" class=\"edge\">\n<title>76&#45;&gt;78</title>\n<path fill=\"none\" stroke=\"black\" d=\"M2343.49,-608.88C2354.01,-599.71 2365.55,-589.65 2376.48,-580.12\"/>\n<polygon fill=\"black\" stroke=\"black\" points=\"2379.07,-582.51 2384.3,-573.3 2374.47,-577.23 2379.07,-582.51\"/>\n</g>\n<!-- 79 -->\n<g id=\"node80\" class=\"node\">\n<title>79</title>\n<path fill=\"#e58139\" stroke=\"black\" d=\"M2430,-461.5C2430,-461.5 2359,-461.5 2359,-461.5 2353,-461.5 2347,-455.5 2347,-449.5 2347,-449.5 2347,-420.5 2347,-420.5 2347,-414.5 2353,-408.5 2359,-408.5 2359,-408.5 2430,-408.5 2430,-408.5 2436,-408.5 2442,-414.5 2442,-420.5 2442,-420.5 2442,-449.5 2442,-449.5 2442,-455.5 2436,-461.5 2430,-461.5\"/>\n<text text-anchor=\"start\" x=\"2366.5\" y=\"-446.3\" font-family=\"Helvetica,sans-Serif\" font-size=\"14.00\">gini = 0.0</text>\n<text text-anchor=\"start\" x=\"2357\" y=\"-431.3\" font-family=\"Helvetica,sans-Serif\" font-size=\"14.00\">samples = 1</text>\n<text text-anchor=\"start\" x=\"2355\" y=\"-416.3\" font-family=\"Helvetica,sans-Serif\" font-size=\"14.00\">value = [1, 0]</text>\n</g>\n<!-- 78&#45;&gt;79 -->\n<g id=\"edge79\" class=\"edge\">\n<title>78&#45;&gt;79</title>\n<path fill=\"none\" stroke=\"black\" d=\"M2413.41,-504.88C2410.45,-494.11 2407.16,-482.11 2404.16,-471.18\"/>\n<polygon fill=\"black\" stroke=\"black\" points=\"2407.53,-470.24 2401.51,-461.52 2400.78,-472.09 2407.53,-470.24\"/>\n</g>\n<!-- 80 -->\n<g id=\"node81\" class=\"node\">\n<title>80</title>\n<path fill=\"#399de5\" stroke=\"black\" d=\"M2543,-461.5C2543,-461.5 2472,-461.5 2472,-461.5 2466,-461.5 2460,-455.5 2460,-449.5 2460,-449.5 2460,-420.5 2460,-420.5 2460,-414.5 2466,-408.5 2472,-408.5 2472,-408.5 2543,-408.5 2543,-408.5 2549,-408.5 2555,-414.5 2555,-420.5 2555,-420.5 2555,-449.5 2555,-449.5 2555,-455.5 2549,-461.5 2543,-461.5\"/>\n<text text-anchor=\"start\" x=\"2479.5\" y=\"-446.3\" font-family=\"Helvetica,sans-Serif\" font-size=\"14.00\">gini = 0.0</text>\n<text text-anchor=\"start\" x=\"2470\" y=\"-431.3\" font-family=\"Helvetica,sans-Serif\" font-size=\"14.00\">samples = 3</text>\n<text text-anchor=\"start\" x=\"2468\" y=\"-416.3\" font-family=\"Helvetica,sans-Serif\" font-size=\"14.00\">value = [0, 3]</text>\n</g>\n<!-- 78&#45;&gt;80 -->\n<g id=\"edge80\" class=\"edge\">\n<title>78&#45;&gt;80</title>\n<path fill=\"none\" stroke=\"black\" d=\"M2450.1,-504.88C2459.54,-493.56 2470.1,-480.88 2479.57,-469.52\"/>\n<polygon fill=\"black\" stroke=\"black\" points=\"2482.52,-471.44 2486.23,-461.52 2477.14,-466.96 2482.52,-471.44\"/>\n</g>\n</g>\n</svg>\n",
            "text/plain": [
              "<graphviz.sources.Source at 0x7ac044f1e8c0>"
            ]
          },
          "metadata": {}
        }
      ],
      "source": [
        "# Code to visualize our Decision Tree\n",
        "dot_data_over = tree.export_graphviz(clf_over, out_file=None,\n",
        "                                  feature_names=features.columns,\n",
        "                                  filled=True, rounded=True,\n",
        "                                  special_characters=True)\n",
        "graph2 = graphviz.Source(dot_data_over)\n",
        "graph2.render(\"Classification tree\")\n",
        "display(graph2)"
      ]
    },
    {
      "cell_type": "markdown",
      "metadata": {
        "id": "uddSqH51ESYY"
      },
      "source": [
        " **a) Calculating Accuracy of Tree for training data**"
      ]
    },
    {
      "cell_type": "code",
      "execution_count": null,
      "metadata": {
        "id": "cQVtx1rYEWxd",
        "colab": {
          "base_uri": "https://localhost:8080/"
        },
        "outputId": "78dd9eee-0893-4dea-8a4e-3b5380c7be85"
      },
      "outputs": [
        {
          "output_type": "stream",
          "name": "stdout",
          "text": [
            "Training Accuracy: 100.0 %\n"
          ]
        }
      ],
      "source": [
        "#Predict the response for training dataset\n",
        "y_pred_train2 = clf_over.predict(X_train)\n",
        "\n",
        "# Calculating Accuracy of our Tree\n",
        "acc_over_train = round(100 * metrics.accuracy_score(y_train, y_pred_train2),2)\n",
        "print(\"Training Accuracy:\",acc_over_train,\"%\")"
      ]
    },
    {
      "cell_type": "markdown",
      "metadata": {
        "id": "qTdA6ykeor0g"
      },
      "source": [
        "### **Question 11:**\n",
        "\n",
        "What is the training accuracy %?\n",
        "\n",
        "\n"
      ]
    },
    {
      "cell_type": "markdown",
      "metadata": {
        "id": "cKB86PySor02"
      },
      "source": [
        "**Question 11 answer:**\n",
        "The training accuracy is 100%"
      ]
    },
    {
      "cell_type": "markdown",
      "metadata": {
        "id": "9mYindEZEsjy"
      },
      "source": [
        " **b) Calculating Accuracy of Tree for testing data**"
      ]
    },
    {
      "cell_type": "code",
      "execution_count": null,
      "metadata": {
        "id": "-883xAPgu8zw",
        "colab": {
          "base_uri": "https://localhost:8080/"
        },
        "outputId": "65858e1e-5f4e-409d-8aed-846006340f51"
      },
      "outputs": [
        {
          "output_type": "stream",
          "name": "stdout",
          "text": [
            "Test Accuracy: 70.33 %\n"
          ]
        }
      ],
      "source": [
        "#Predict the response for test dataset\n",
        "y_pred2 = clf_over.predict(X_test)\n",
        "\n",
        "# Calculating Accuracy of our Tree\n",
        "acc_over_test = round(100 * metrics.accuracy_score(y_test, y_pred2),2)\n",
        "print(\"Test Accuracy:\",acc_over_test,\"%\")"
      ]
    },
    {
      "cell_type": "markdown",
      "metadata": {
        "id": "yPji1VbXpbup"
      },
      "source": [
        "### **Question 12:**\n",
        "\n",
        "What is the training accuracy %?\n",
        "\n",
        "\n"
      ]
    },
    {
      "cell_type": "markdown",
      "metadata": {
        "id": "Nd9wddHppbuv"
      },
      "source": [
        "**Question 12 answer:**\n",
        "It is 70.33%."
      ]
    },
    {
      "cell_type": "markdown",
      "metadata": {
        "id": "2M8qQkVxE7Fb"
      },
      "source": [
        "As we can see, our model is amazing at predicting the training data, however the accuracy for the testing data is not great. This is a case of **overfitting**."
      ]
    },
    {
      "cell_type": "markdown",
      "metadata": {
        "id": "k180r3bnkW98"
      },
      "source": [
        "###**Task 4:** Final thoughts (Questions 13-15)"
      ]
    },
    {
      "cell_type": "markdown",
      "metadata": {
        "id": "s0Su5b-xHrrB"
      },
      "source": [
        "# Finding the Best Fitting Tree\n",
        "\n",
        "There are different methods to find the best fitting Decision Tree, the task of finding the best fitting Machine Learning Model in general is called **Hyper parameter tunning**. Each kind of machine learning model has different kinds of hyperparameters to tune. We will comeback to this concept in later modules. But for our example, we are trying to tune the **max_depth** of our Decision Tree Classifier. So how do we know what number to pick for max_depth?\n",
        "\n",
        "### Validation Curve\n",
        "One possibility would be to use a **validation curve**. In this method we essentially fit our tree using a range of depths. We saw in the previous part that choosing 2 produced underfitting and choosing 10 was overfitting, thus the optimal depth must be in between. So why don't we test a range from 1 to 10?\n"
      ]
    },
    {
      "cell_type": "code",
      "execution_count": null,
      "metadata": {
        "id": "4N2eMafkJ8J4"
      },
      "outputs": [],
      "source": [
        "# Setting figure size\n",
        "sns.set(rc={'figure.figsize':(11.7,8.27)})\n",
        "\n",
        "# Choosing a range from 1 to 10 to test\n",
        "tree_depths = range(1,11)"
      ]
    },
    {
      "cell_type": "markdown",
      "metadata": {
        "id": "_vg0KcW0NZQP"
      },
      "source": [
        "Once we have the range we want to test we can start plotting our validation curve. This plot is created by using our complete data and splits it randomly a certain amount of times (the default is 5), into 2 portions: **Training** data and **Validation** data chunks. The Validation data is essentially similar to testing data. Doing the different splits lets us essentially create simulated \"testing data chunks\" from data that we already have, so it's inherently biased but in this way we can have at least an idea of how the depth of a tree influences the accuracy of our predictions."
      ]
    },
    {
      "cell_type": "code",
      "execution_count": null,
      "metadata": {
        "id": "9Zq5Wo7nNZkB",
        "colab": {
          "base_uri": "https://localhost:8080/",
          "height": 751
        },
        "outputId": "8b6b8748-e6cd-4753-c5d2-e1b251d45de9"
      },
      "outputs": [
        {
          "output_type": "display_data",
          "data": {
            "text/plain": [
              "<Figure size 1170x827 with 1 Axes>"
            ],
            "image/png": "[encoded data removed]"
          },
          "metadata": {}
        }
      ],
      "source": [
        "# create validation curve\n",
        "train_scores, test_scores = validation_curve(\n",
        "    DecisionTreeClassifier(random_state=2),\n",
        "    X,\n",
        "    y,\n",
        "    param_name=\"max_depth\",\n",
        "    param_range=tree_depths,\n",
        "    scoring=\"accuracy\")\n",
        "\n",
        "# storing scores mean scores(from default 5 random splits)\n",
        "train_scores_mean = np.mean(train_scores, axis=1)\n",
        "validation_scores_mean = np.mean(test_scores, axis=1)\n",
        "\n",
        "# plot titles and labels\n",
        "plt.title(\"Validation Curve with Decision Tree Classifier\")\n",
        "plt.xlabel(r\"$\\max \\ depth$\")\n",
        "plt.ylabel(\"Score\")\n",
        "plt.ylim(0.0, 1.1)\n",
        "plt.plot(tree_depths, train_scores_mean, label=\"Training score\", color=\"darkorange\", lw=2)\n",
        "plt.plot(tree_depths, validation_scores_mean, label=\"Cross-validation score\", color=\"navy\", lw=2)\n",
        "\n",
        "# plot legend\n",
        "plt.legend(loc=\"lower left\")\n",
        "plt.show()"
      ]
    },
    {
      "cell_type": "markdown",
      "metadata": {
        "id": "uUKP5NK0rsEg"
      },
      "source": [
        "### **Question 13:**\n",
        "\n",
        "Can you tell with max depth is underfitting and overfitting just by looking at this graph, explain how?\n",
        "\n",
        "\n"
      ]
    },
    {
      "cell_type": "markdown",
      "metadata": {
        "id": "f7n73kyersE9"
      },
      "source": [
        "**Question 13 answer:**\n",
        "The max depth of 2 is underfitting and max depth of 10 is overfitting because in max depth 2 training score and cross-validation score were in around 70ish percent and in max depth 10, lines diverge expecting training score to be 100% ."
      ]
    },
    {
      "cell_type": "markdown",
      "metadata": {
        "id": "UvkEycGmSAbV"
      },
      "source": [
        "- Based on the graph above we can see that indeed choosing a max depth of 2 was underfitting , because both the **training score and the crossvalidation score** were in the around the **70'ish percent**.\n",
        "\n",
        "- Choosing 10 was overtfitting because we see the **lines diverge** dramatically, the training is as expected perfect 100% but the testing was not going in the same direction.\n",
        "\n",
        "- the optimal spot accordding to our validation curve would be around 3, because we can see that both **lines are not diverging** and they are the **highest accuracy score before diversion**.\n",
        "\n",
        "Therefore lets try using max_depth = 3 and see what results we get in our Decision Tree Classifier. Remember that what our ideal is to have high training and testing accuracy."
      ]
    },
    {
      "cell_type": "code",
      "execution_count": null,
      "metadata": {
        "id": "nKiPHcv4UOY4"
      },
      "outputs": [],
      "source": [
        "X_train, X_test, y_train, y_test = train_test_split(X, y, test_size=0.3, random_state=2)\n",
        "\n",
        "# Create Decision Tree classifer object\n",
        "clf_best = DecisionTreeClassifier(max_depth=3, random_state=2)\n",
        "\n",
        "# Train Decision Tree Classifer\n",
        "clf_best = clf_best.fit(X_train,y_train)"
      ]
    },
    {
      "cell_type": "markdown",
      "metadata": {
        "id": "yJ4s6z0RbsTi"
      },
      "source": [
        " **a) Calculating Accuracy of Tree for training data**"
      ]
    },
    {
      "cell_type": "code",
      "execution_count": null,
      "metadata": {
        "id": "yRaoYRFLWsgN",
        "colab": {
          "base_uri": "https://localhost:8080/"
        },
        "outputId": "ed9e976f-256d-4e22-dc03-28c779772ad0"
      },
      "outputs": [
        {
          "output_type": "stream",
          "name": "stdout",
          "text": [
            "Training Accuracy: 85.85 %\n"
          ]
        }
      ],
      "source": [
        "#Predict the response for training dataset\n",
        "y_pred_train3 = clf_best.predict(X_train)\n",
        "\n",
        "# Calculating Accuracy of our Tree\n",
        "acc_best_train = round(100 * metrics.accuracy_score(y_train, y_pred_train3),2)\n",
        "print(\"Training Accuracy:\",acc_best_train,\"%\")"
      ]
    },
    {
      "cell_type": "markdown",
      "metadata": {
        "id": "gu4sFS68btoT"
      },
      "source": [
        " **b) Calculating Accuracy of Tree for testing data**"
      ]
    },
    {
      "cell_type": "code",
      "execution_count": null,
      "metadata": {
        "id": "fVHhFy3nWtsV",
        "colab": {
          "base_uri": "https://localhost:8080/"
        },
        "outputId": "d79c7b72-4b6a-4897-a584-21d630c8e23d"
      },
      "outputs": [
        {
          "output_type": "stream",
          "name": "stdout",
          "text": [
            "Test Accuracy: 80.22 %\n"
          ]
        }
      ],
      "source": [
        "#Predict the response for test dataset\n",
        "y_pred_best = clf_best.predict(X_test)\n",
        "\n",
        "# Calculating Accuracy of our Tree\n",
        "acc_best_test = round(100 * metrics.accuracy_score(y_test, y_pred_best),2)\n",
        "print(\"Test Accuracy:\",acc_best_test,\"%\")"
      ]
    },
    {
      "cell_type": "markdown",
      "metadata": {
        "id": "kGTD_yxlYoTB"
      },
      "source": [
        "As we can see we have bumped our testing accuracy from low 70's% in both cases of (underfitting and overfitting) to 80.22% with the help of our cross validation curve!"
      ]
    },
    {
      "cell_type": "markdown",
      "metadata": {
        "id": "fIOk5RoCtSZ-"
      },
      "source": [
        "###**Question 14:**\n",
        "\n",
        "Did you find this module understandable or do you believe it requires more details and explanation?"
      ]
    },
    {
      "cell_type": "markdown",
      "metadata": {
        "id": "apBTrPKMtSaR"
      },
      "source": [
        "**Question 14 answer:**\n",
        "Yes, I found this module understandable and asy to walk through the concept of the overfitting and underfitting"
      ]
    },
    {
      "cell_type": "markdown",
      "metadata": {
        "id": "v9-jyFVJ496R"
      },
      "source": [
        "###**Question 15:**\n",
        "\n",
        "Write down one thing you learned today and one thing that confuses you. (I know, I ask this all the time, but it is important to think about it for a few seconds!)"
      ]
    },
    {
      "cell_type": "markdown",
      "metadata": {
        "id": "D6NQTlguO6GC"
      },
      "source": [
        "**Question 15 answer:**\n",
        "\n",
        "Learned\n",
        "1. The one thing that I learned today is to read the validation curve with decision tree classifier, if the training score and cross-validation graph are near to eachother that means underfitting and if they diverges from eachother then that means overfitting.\n",
        "Confused   \n",
        "2. The thing I'm confused is how do I get the cross-validation score.  \n",
        "\n"
      ]
    },
    {
      "cell_type": "markdown",
      "metadata": {
        "id": "1UsrBTAk5buA"
      },
      "source": [
        "# 🙂 Congratulations! You just finished working on the first machine learning model Decision Trees. You should be proud of how much you have learned (even if you feel like some of this is still confusing, it's going to get easier with practice)"
      ]
    }
  ],
  "metadata": {
    "colab": {
      "provenance": [],
      "include_colab_link": true
    },
    "kernelspec": {
      "display_name": "Python 3",
      "name": "python3"
    }
  },
  "nbformat": 4,
  "nbformat_minor": 0
}